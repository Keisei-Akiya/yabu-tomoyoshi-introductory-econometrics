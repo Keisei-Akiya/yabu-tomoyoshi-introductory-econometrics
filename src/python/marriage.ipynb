{
 "cells": [
  {
   "cell_type": "code",
   "execution_count": 10,
   "metadata": {},
   "outputs": [],
   "source": [
    "# ライブラリをインポート\n",
    "\n",
    "# データ操作と数値計算のため\n",
    "import pandas as pd\n",
    "import numpy as np\n",
    "\n",
    "# データ可視化のため\n",
    "import matplotlib.pyplot as plt\n",
    "import seaborn as sns\n",
    "\n",
    "# 統計モデリングと計量経済分析のため\n",
    "import statsmodels.api as sm\n",
    "from statsmodels.iolib.summary2 import summary_col\n",
    "from statsmodels.discrete.discrete_model import Probit\n",
    "from scipy.stats import norm\n",
    "\n",
    "# for ignore warning\n",
    "import warnings\n",
    "warnings.filterwarnings('ignore')"
   ]
  },
  {
   "cell_type": "code",
   "execution_count": 2,
   "metadata": {},
   "outputs": [
    {
     "data": {
      "text/html": [
       "<div>\n",
       "<style scoped>\n",
       "    .dataframe tbody tr th:only-of-type {\n",
       "        vertical-align: middle;\n",
       "    }\n",
       "\n",
       "    .dataframe tbody tr th {\n",
       "        vertical-align: top;\n",
       "    }\n",
       "\n",
       "    .dataframe thead th {\n",
       "        text-align: right;\n",
       "    }\n",
       "</style>\n",
       "<table border=\"1\" class=\"dataframe\">\n",
       "  <thead>\n",
       "    <tr style=\"text-align: right;\">\n",
       "      <th></th>\n",
       "      <th>id</th>\n",
       "      <th>male</th>\n",
       "      <th>age</th>\n",
       "      <th>partner</th>\n",
       "      <th>undergrad</th>\n",
       "      <th>grad</th>\n",
       "    </tr>\n",
       "  </thead>\n",
       "  <tbody>\n",
       "    <tr>\n",
       "      <th>0</th>\n",
       "      <td>2</td>\n",
       "      <td>1</td>\n",
       "      <td>48</td>\n",
       "      <td>1</td>\n",
       "      <td>1</td>\n",
       "      <td>0</td>\n",
       "    </tr>\n",
       "    <tr>\n",
       "      <th>1</th>\n",
       "      <td>3</td>\n",
       "      <td>1</td>\n",
       "      <td>47</td>\n",
       "      <td>1</td>\n",
       "      <td>1</td>\n",
       "      <td>0</td>\n",
       "    </tr>\n",
       "    <tr>\n",
       "      <th>2</th>\n",
       "      <td>4</td>\n",
       "      <td>1</td>\n",
       "      <td>58</td>\n",
       "      <td>1</td>\n",
       "      <td>1</td>\n",
       "      <td>0</td>\n",
       "    </tr>\n",
       "    <tr>\n",
       "      <th>3</th>\n",
       "      <td>5</td>\n",
       "      <td>0</td>\n",
       "      <td>29</td>\n",
       "      <td>1</td>\n",
       "      <td>0</td>\n",
       "      <td>0</td>\n",
       "    </tr>\n",
       "    <tr>\n",
       "      <th>4</th>\n",
       "      <td>6</td>\n",
       "      <td>0</td>\n",
       "      <td>35</td>\n",
       "      <td>0</td>\n",
       "      <td>0</td>\n",
       "      <td>0</td>\n",
       "    </tr>\n",
       "  </tbody>\n",
       "</table>\n",
       "</div>"
      ],
      "text/plain": [
       "   id  male  age  partner  undergrad  grad\n",
       "0   2     1   48        1          1     0\n",
       "1   3     1   47        1          1     0\n",
       "2   4     1   58        1          1     0\n",
       "3   5     0   29        1          0     0\n",
       "4   6     0   35        0          0     0"
      ]
     },
     "execution_count": 2,
     "metadata": {},
     "output_type": "execute_result"
    }
   ],
   "source": [
    "url = \"https://www.fbc.keio.ac.jp/~tyabu/keiryo/marriage_data.csv\"\n",
    "df = pd.read_csv(url)\n",
    "df.head()"
   ]
  },
  {
   "cell_type": "markdown",
   "metadata": {},
   "source": [
    "## 12.1.1節の推定結果(50歳以下の男性に限定した分析)"
   ]
  },
  {
   "cell_type": "markdown",
   "metadata": {},
   "source": [
    "### 線形確率\n"
   ]
  },
  {
   "cell_type": "code",
   "execution_count": 3,
   "metadata": {},
   "outputs": [
    {
     "name": "stdout",
     "output_type": "stream",
     "text": [
      "                            OLS Regression Results                            \n",
      "==============================================================================\n",
      "Dep. Variable:                partner   R-squared:                       0.420\n",
      "Model:                            OLS   Adj. R-squared:                  0.420\n",
      "Method:                 Least Squares   F-statistic:                     1080.\n",
      "Date:                Fri, 30 Aug 2024   Prob (F-statistic):          1.51e-178\n",
      "Time:                        16:02:20   Log-Likelihood:                -671.00\n",
      "No. Observations:                1491   AIC:                             1346.\n",
      "Df Residuals:                    1489   BIC:                             1357.\n",
      "Df Model:                           1                                         \n",
      "Covariance Type:            nonrobust                                         \n",
      "==============================================================================\n",
      "                 coef    std err          t      P>|t|      [0.025      0.975]\n",
      "------------------------------------------------------------------------------\n",
      "const         -0.5310      0.034    -15.608      0.000      -0.598      -0.464\n",
      "age            0.0318      0.001     32.860      0.000       0.030       0.034\n",
      "==============================================================================\n",
      "Omnibus:                       43.016   Durbin-Watson:                   1.964\n",
      "Prob(Omnibus):                  0.000   Jarque-Bera (JB):               46.308\n",
      "Skew:                          -0.432   Prob(JB):                     8.80e-11\n",
      "Kurtosis:                       2.995   Cond. No.                         122.\n",
      "==============================================================================\n",
      "\n",
      "Notes:\n",
      "[1] Standard Errors assume that the covariance matrix of the errors is correctly specified.\n"
     ]
    }
   ],
   "source": [
    "df_male = df[(df['male'] == 1) & (df['age'] <= 50)]\n",
    "X = sm.add_constant(df_male['age'])\n",
    "y = df_male['partner']\n",
    "male_lm = sm.OLS(y, X).fit()\n",
    "print(male_lm.summary())"
   ]
  },
  {
   "cell_type": "markdown",
   "metadata": {},
   "source": [
    "### 予測"
   ]
  },
  {
   "cell_type": "code",
   "execution_count": 53,
   "metadata": {},
   "outputs": [
    {
     "name": "stdout",
     "output_type": "stream",
     "text": [
      "Prediction for age 25: 0.247\n",
      "Prediction for age 50: 1.020\n"
     ]
    }
   ],
   "source": [
    "def predict_prob(age):\n",
    "    predict_value = male_lm.params['const'] + male_lm.params['age'] * (age)\n",
    "    return predict_value\n",
    "\n",
    "print(f\"Prediction for age 25: {predict_prob(25):.3f}\")\n",
    "print(f\"Prediction for age 50: {predict_prob(50):.3f}\")"
   ]
  },
  {
   "cell_type": "markdown",
   "metadata": {},
   "source": [
    "## 12.1.2節の推定結果(50歳以下の男性に限定した分析)"
   ]
  },
  {
   "cell_type": "markdown",
   "metadata": {},
   "source": [
    "### プロビットモデル\n"
   ]
  },
  {
   "cell_type": "code",
   "execution_count": 12,
   "metadata": {},
   "outputs": [
    {
     "name": "stdout",
     "output_type": "stream",
     "text": [
      "Optimization terminated successfully.\n",
      "         Current function value: 0.444347\n",
      "         Iterations 6\n",
      "                          Probit Regression Results                           \n",
      "==============================================================================\n",
      "Dep. Variable:                partner   No. Observations:                 1491\n",
      "Model:                         Probit   Df Residuals:                     1489\n",
      "Method:                           MLE   Df Model:                            1\n",
      "Date:                Fri, 30 Aug 2024   Pseudo R-squ.:                  0.3561\n",
      "Time:                        16:04:19   Log-Likelihood:                -662.52\n",
      "converged:                       True   LL-Null:                       -1028.9\n",
      "Covariance Type:            nonrobust   LLR p-value:                2.280e-161\n",
      "==============================================================================\n",
      "                 coef    std err          z      P>|z|      [0.025      0.975]\n",
      "------------------------------------------------------------------------------\n",
      "const         -3.4919      0.163    -21.377      0.000      -3.812      -3.172\n",
      "age            0.1066      0.005     22.921      0.000       0.098       0.116\n",
      "==============================================================================\n"
     ]
    }
   ],
   "source": [
    "male_probit = Probit(y, X).fit()\n",
    "print(male_probit.summary())"
   ]
  },
  {
   "cell_type": "code",
   "execution_count": 54,
   "metadata": {},
   "outputs": [
    {
     "name": "stdout",
     "output_type": "stream",
     "text": [
      "Predicted probability for age 25: 0.181\n",
      "Predicted probability for age 50: 0.956\n"
     ]
    }
   ],
   "source": [
    "def predict_prob(age):\n",
    "    z = male_probit.params['const'] + male_probit.params['age'] * age\n",
    "    return norm.cdf(z)\n",
    "\n",
    "print(f\"Predicted probability for age 25: {predict_prob(25):.3f}\")\n",
    "print(f\"Predicted probability for age 50: {predict_prob(50):.3f}\")"
   ]
  },
  {
   "cell_type": "markdown",
   "metadata": {},
   "source": [
    "## 12.1.3節の図"
   ]
  },
  {
   "cell_type": "code",
   "execution_count": 14,
   "metadata": {},
   "outputs": [
    {
     "data": {
      "image/png": "[encoded data removed]",
      "text/plain": [
       "<Figure size 1000x600 with 1 Axes>"
      ]
     },
     "metadata": {},
     "output_type": "display_data"
    }
   ],
   "source": [
    "df2 = df[(df['age'] <= 50) & (df['male'] == 1)]\n",
    "df2['p_partner'] = male_probit.predict(sm.add_constant(df2['age']))\n",
    "\n",
    "plt.figure(figsize=(10, 6))\n",
    "plt.scatter(df2['age'], df2['p_partner'], color='blue', marker='o')\n",
    "plt.title(\"Marginal Effects in Probit Model\")\n",
    "plt.xlabel(\"Age\")\n",
    "plt.ylabel(\"Predicted Value\")\n",
    "plt.show()"
   ]
  },
  {
   "cell_type": "markdown",
   "metadata": {},
   "source": [
    "## 12.1.3節の推定結果(50歳以下の男性に限定した分析)"
   ]
  },
  {
   "cell_type": "markdown",
   "metadata": {},
   "source": [
    "### 線形確率"
   ]
  },
  {
   "cell_type": "code",
   "execution_count": 16,
   "metadata": {},
   "outputs": [
    {
     "name": "stdout",
     "output_type": "stream",
     "text": [
      "                            OLS Regression Results                            \n",
      "==============================================================================\n",
      "Dep. Variable:                partner   R-squared:                       0.427\n",
      "Model:                            OLS   Adj. R-squared:                  0.426\n",
      "Method:                 Least Squares   F-statistic:                     683.5\n",
      "Date:                Fri, 30 Aug 2024   Prob (F-statistic):          3.27e-279\n",
      "Time:                        16:05:34   Log-Likelihood:                -662.51\n",
      "No. Observations:                1491   AIC:                             1333.\n",
      "Df Residuals:                    1487   BIC:                             1354.\n",
      "Df Model:                           3                                         \n",
      "Covariance Type:                  HC0                                         \n",
      "==============================================================================\n",
      "                 coef    std err          z      P>|z|      [0.025      0.975]\n",
      "------------------------------------------------------------------------------\n",
      "const         -0.5259      0.025    -21.060      0.000      -0.575      -0.477\n",
      "age            0.0309      0.001     37.075      0.000       0.029       0.033\n",
      "undergrad      0.0634      0.024      2.627      0.009       0.016       0.111\n",
      "grad           0.1605      0.039      4.099      0.000       0.084       0.237\n",
      "==============================================================================\n",
      "Omnibus:                       39.583   Durbin-Watson:                   1.961\n",
      "Prob(Omnibus):                  0.000   Jarque-Bera (JB):               42.370\n",
      "Skew:                          -0.412   Prob(JB):                     6.30e-10\n",
      "Kurtosis:                       2.962   Cond. No.                         168.\n",
      "==============================================================================\n",
      "\n",
      "Notes:\n",
      "[1] Standard Errors are heteroscedasticity robust (HC0)\n"
     ]
    }
   ],
   "source": [
    "X = sm.add_constant(df_male[['age', 'undergrad', 'grad']])\n",
    "male_lm = sm.OLS(y, X).fit(cov_type='HC0')\n",
    "print(male_lm.summary())"
   ]
  },
  {
   "cell_type": "markdown",
   "metadata": {},
   "source": [
    "### プロビットモデル"
   ]
  },
  {
   "cell_type": "code",
   "execution_count": 18,
   "metadata": {},
   "outputs": [
    {
     "name": "stdout",
     "output_type": "stream",
     "text": [
      "Optimization terminated successfully.\n",
      "         Current function value: 0.438403\n",
      "         Iterations 6\n",
      "                          Probit Regression Results                           \n",
      "==============================================================================\n",
      "Dep. Variable:                partner   No. Observations:                 1491\n",
      "Model:                         Probit   Df Residuals:                     1487\n",
      "Method:                           MLE   Df Model:                            3\n",
      "Date:                Fri, 30 Aug 2024   Pseudo R-squ.:                  0.3647\n",
      "Time:                        16:05:51   Log-Likelihood:                -653.66\n",
      "converged:                       True   LL-Null:                       -1028.9\n",
      "Covariance Type:                  HC0   LLR p-value:                2.402e-162\n",
      "==============================================================================\n",
      "                 coef    std err          z      P>|z|      [0.025      0.975]\n",
      "------------------------------------------------------------------------------\n",
      "const         -3.5275      0.159    -22.135      0.000      -3.840      -3.215\n",
      "age            0.1046      0.005     21.572      0.000       0.095       0.114\n",
      "undergrad      0.2564      0.088      2.914      0.004       0.084       0.429\n",
      "grad           0.6630      0.167      3.973      0.000       0.336       0.990\n",
      "==============================================================================\n"
     ]
    }
   ],
   "source": [
    "male_probit = Probit(y, X).fit(cov_type='HC0')\n",
    "print(male_probit.summary())"
   ]
  },
  {
   "cell_type": "markdown",
   "metadata": {},
   "source": [
    "### プロビットモデルの限界効果"
   ]
  },
  {
   "cell_type": "code",
   "execution_count": 21,
   "metadata": {},
   "outputs": [
    {
     "name": "stdout",
     "output_type": "stream",
     "text": [
      "       Probit Marginal Effects       \n",
      "=====================================\n",
      "Dep. Variable:                partner\n",
      "Method:                          dydx\n",
      "At:                           overall\n",
      "==============================================================================\n",
      "                dy/dx    std err          z      P>|z|      [0.025      0.975]\n",
      "------------------------------------------------------------------------------\n",
      "age            0.0257      0.000     57.116      0.000       0.025       0.027\n",
      "undergrad      0.0631      0.022      2.922      0.003       0.021       0.105\n",
      "grad           0.1631      0.041      3.956      0.000       0.082       0.244\n",
      "==============================================================================\n"
     ]
    }
   ],
   "source": [
    "margeff = male_probit.get_margeff()\n",
    "print(margeff.summary())"
   ]
  },
  {
   "cell_type": "markdown",
   "metadata": {},
   "source": [
    "## 12.1.3節の推定結果(50歳以下の女性に限定した分析)"
   ]
  },
  {
   "cell_type": "code",
   "execution_count": 23,
   "metadata": {},
   "outputs": [],
   "source": [
    "df_female = df[(df['male'] == 0) & (df['age'] <= 50)]\n",
    "X = sm.add_constant(df_female[['age', 'undergrad', 'grad']])\n",
    "y = df_female['partner']"
   ]
  },
  {
   "cell_type": "markdown",
   "metadata": {},
   "source": [
    "### 線形確率"
   ]
  },
  {
   "cell_type": "code",
   "execution_count": 24,
   "metadata": {},
   "outputs": [
    {
     "name": "stdout",
     "output_type": "stream",
     "text": [
      "                            OLS Regression Results                            \n",
      "==============================================================================\n",
      "Dep. Variable:                partner   R-squared:                       0.318\n",
      "Model:                            OLS   Adj. R-squared:                  0.317\n",
      "Method:                 Least Squares   F-statistic:                     449.7\n",
      "Date:                Fri, 30 Aug 2024   Prob (F-statistic):          6.89e-217\n",
      "Time:                        16:06:53   Log-Likelihood:                -910.38\n",
      "No. Observations:                1765   AIC:                             1829.\n",
      "Df Residuals:                    1761   BIC:                             1851.\n",
      "Df Model:                           3                                         \n",
      "Covariance Type:                  HC0                                         \n",
      "==============================================================================\n",
      "                 coef    std err          z      P>|z|      [0.025      0.975]\n",
      "------------------------------------------------------------------------------\n",
      "const         -0.3851      0.027    -14.260      0.000      -0.438      -0.332\n",
      "age            0.0283      0.001     35.575      0.000       0.027       0.030\n",
      "undergrad      0.0118      0.025      0.466      0.641      -0.038       0.061\n",
      "grad           0.1285      0.087      1.481      0.139      -0.042       0.299\n",
      "==============================================================================\n",
      "Omnibus:                       95.717   Durbin-Watson:                   2.019\n",
      "Prob(Omnibus):                  0.000   Jarque-Bera (JB):               97.986\n",
      "Skew:                          -0.539   Prob(JB):                     5.28e-22\n",
      "Kurtosis:                       2.587   Cond. No.                         340.\n",
      "==============================================================================\n",
      "\n",
      "Notes:\n",
      "[1] Standard Errors are heteroscedasticity robust (HC0)\n"
     ]
    }
   ],
   "source": [
    "female_lm = sm.OLS(y, X).fit(cov_type='HC0')\n",
    "print(female_lm.summary())"
   ]
  },
  {
   "cell_type": "markdown",
   "metadata": {},
   "source": [
    "### プロビットモデル"
   ]
  },
  {
   "cell_type": "code",
   "execution_count": 27,
   "metadata": {},
   "outputs": [
    {
     "name": "stdout",
     "output_type": "stream",
     "text": [
      "Optimization terminated successfully.\n",
      "         Current function value: 0.499138\n",
      "         Iterations 5\n",
      "                          Probit Regression Results                           \n",
      "==============================================================================\n",
      "Dep. Variable:                partner   No. Observations:                 1765\n",
      "Model:                         Probit   Df Residuals:                     1761\n",
      "Method:                           MLE   Df Model:                            3\n",
      "Date:                Fri, 30 Aug 2024   Pseudo R-squ.:                  0.2603\n",
      "Time:                        16:07:11   Log-Likelihood:                -880.98\n",
      "converged:                       True   LL-Null:                       -1191.0\n",
      "Covariance Type:                  HC0   LLR p-value:                4.402e-134\n",
      "==============================================================================\n",
      "                 coef    std err          z      P>|z|      [0.025      0.975]\n",
      "------------------------------------------------------------------------------\n",
      "const         -2.7933      0.127    -21.989      0.000      -3.042      -2.544\n",
      "age            0.0883      0.004     22.892      0.000       0.081       0.096\n",
      "undergrad      0.0804      0.084      0.956      0.339      -0.084       0.245\n",
      "grad           0.4161      0.305      1.362      0.173      -0.183       1.015\n",
      "==============================================================================\n"
     ]
    }
   ],
   "source": [
    "female_probit = Probit(y, X).fit(cov_type='HC0')\n",
    "print(female_probit.summary())"
   ]
  },
  {
   "cell_type": "markdown",
   "metadata": {},
   "source": [
    "### プロビットモデルの限界効果"
   ]
  },
  {
   "cell_type": "code",
   "execution_count": 28,
   "metadata": {},
   "outputs": [
    {
     "name": "stdout",
     "output_type": "stream",
     "text": [
      "       Probit Marginal Effects       \n",
      "=====================================\n",
      "Dep. Variable:                partner\n",
      "Method:                          dydx\n",
      "At:                           overall\n",
      "==============================================================================\n",
      "                dy/dx    std err          z      P>|z|      [0.025      0.975]\n",
      "------------------------------------------------------------------------------\n",
      "age            0.0249      0.001     49.653      0.000       0.024       0.026\n",
      "undergrad      0.0227      0.024      0.954      0.340      -0.024       0.069\n",
      "grad           0.1173      0.086      1.362      0.173      -0.051       0.286\n",
      "==============================================================================\n"
     ]
    }
   ],
   "source": [
    "margeff = female_probit.get_margeff()\n",
    "print(margeff.summary())"
   ]
  },
  {
   "cell_type": "markdown",
   "metadata": {},
   "source": [
    "## 練習問題の推定結果(50歳以下の男性)\n"
   ]
  },
  {
   "cell_type": "code",
   "execution_count": 32,
   "metadata": {},
   "outputs": [],
   "source": [
    "df_male = df[(df['male'] == 1) & (df['age'] <= 50)]"
   ]
  },
  {
   "cell_type": "markdown",
   "metadata": {},
   "source": [
    "### プロビットモデル"
   ]
  },
  {
   "cell_type": "code",
   "execution_count": 36,
   "metadata": {},
   "outputs": [
    {
     "name": "stdout",
     "output_type": "stream",
     "text": [
      "Optimization terminated successfully.\n",
      "         Current function value: 0.438403\n",
      "         Iterations 6\n",
      "                          Probit Regression Results                           \n",
      "==============================================================================\n",
      "Dep. Variable:                partner   No. Observations:                 1491\n",
      "Model:                         Probit   Df Residuals:                     1487\n",
      "Method:                           MLE   Df Model:                            3\n",
      "Date:                Fri, 30 Aug 2024   Pseudo R-squ.:                  0.3647\n",
      "Time:                        16:10:27   Log-Likelihood:                -653.66\n",
      "converged:                       True   LL-Null:                       -1028.9\n",
      "Covariance Type:                  HC0   LLR p-value:                2.402e-162\n",
      "==============================================================================\n",
      "                 coef    std err          z      P>|z|      [0.025      0.975]\n",
      "------------------------------------------------------------------------------\n",
      "const         -3.5275      0.159    -22.135      0.000      -3.840      -3.215\n",
      "age            0.1046      0.005     21.572      0.000       0.095       0.114\n",
      "undergrad      0.2564      0.088      2.914      0.004       0.084       0.429\n",
      "grad           0.6630      0.167      3.973      0.000       0.336       0.990\n",
      "==============================================================================\n"
     ]
    }
   ],
   "source": [
    "X = sm.add_constant(df_male[['age', 'undergrad', 'grad']])\n",
    "y = df_male['partner']\n",
    "probit_model = Probit(y, X)\n",
    "probit_results = probit_model.fit(cov_type='HC0')\n",
    "\n",
    "print(probit_results.summary())"
   ]
  },
  {
   "cell_type": "markdown",
   "metadata": {},
   "source": [
    "### 図"
   ]
  },
  {
   "cell_type": "code",
   "execution_count": 40,
   "metadata": {},
   "outputs": [
    {
     "data": {
      "image/png": "[encoded data removed]",
      "text/plain": [
       "<Figure size 1000x600 with 1 Axes>"
      ]
     },
     "metadata": {},
     "output_type": "display_data"
    }
   ],
   "source": [
    "coefficients = probit_results.params\n",
    "\n",
    "# Calculate p_grad and p_no\n",
    "p_grad = norm.cdf(coefficients['const'] + coefficients['age'] * df['age'] + coefficients['grad'])\n",
    "p_no = norm.cdf(coefficients['const'] + coefficients['age'] * df['age'])\n",
    "\n",
    "# Create scatter plot\n",
    "plt.figure(figsize=(10, 6))\n",
    "plt.scatter(df['age'], p_grad, color='blue', label='p_grad')\n",
    "plt.scatter(df['age'], p_no, color='red', label='p_no')\n",
    "\n",
    "plt.xlabel('age')\n",
    "plt.ylabel('probability')\n",
    "plt.title('Scatter Plot of p_grad and p_no against age')\n",
    "\n",
    "plt.show()"
   ]
  }
 ],
 "metadata": {
  "kernelspec": {
   "display_name": "Python 3",
   "language": "python",
   "name": "python3"
  },
  "language_info": {
   "codemirror_mode": {
    "name": "ipython",
    "version": 3
   },
   "file_extension": ".py",
   "mimetype": "text/x-python",
   "name": "python",
   "nbconvert_exporter": "python",
   "pygments_lexer": "ipython3",
   "version": "3.12.3"
  }
 },
 "nbformat": 4,
 "nbformat_minor": 2
}
