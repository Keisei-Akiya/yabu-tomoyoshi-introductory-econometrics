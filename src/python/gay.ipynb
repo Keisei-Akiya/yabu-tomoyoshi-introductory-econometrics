{
 "cells": [
  {
   "cell_type": "code",
   "execution_count": 2,
   "metadata": {},
   "outputs": [],
   "source": [
    "# ライブラリをインポート\n",
    "\n",
    "# データ操作と数値計算のため\n",
    "import pandas as pd\n",
    "import numpy as np\n",
    "\n",
    "# データ可視化のため\n",
    "import matplotlib.pyplot as plt\n",
    "import seaborn as sns\n",
    "\n",
    "# 統計モデリングと計量経済分析のため\n",
    "import statsmodels.api as sm\n",
    "\n",
    "# for ignore warning\n",
    "import warnings\n",
    "warnings.filterwarnings('ignore')"
   ]
  },
  {
   "cell_type": "code",
   "execution_count": 3,
   "metadata": {},
   "outputs": [
    {
     "data": {
      "text/html": [
       "<div>\n",
       "<style scoped>\n",
       "    .dataframe tbody tr th:only-of-type {\n",
       "        vertical-align: middle;\n",
       "    }\n",
       "\n",
       "    .dataframe tbody tr th {\n",
       "        vertical-align: top;\n",
       "    }\n",
       "\n",
       "    .dataframe thead th {\n",
       "        text-align: right;\n",
       "    }\n",
       "</style>\n",
       "<table border=\"1\" class=\"dataframe\">\n",
       "  <thead>\n",
       "    <tr style=\"text-align: right;\">\n",
       "      <th></th>\n",
       "      <th>state</th>\n",
       "      <th>support</th>\n",
       "      <th>gay</th>\n",
       "    </tr>\n",
       "  </thead>\n",
       "  <tbody>\n",
       "    <tr>\n",
       "      <th>0</th>\n",
       "      <td>Hawaii</td>\n",
       "      <td>58.6</td>\n",
       "      <td>5.1</td>\n",
       "    </tr>\n",
       "    <tr>\n",
       "      <th>1</th>\n",
       "      <td>Vermont</td>\n",
       "      <td>57.8</td>\n",
       "      <td>4.9</td>\n",
       "    </tr>\n",
       "    <tr>\n",
       "      <th>2</th>\n",
       "      <td>Oregon</td>\n",
       "      <td>54.0</td>\n",
       "      <td>4.9</td>\n",
       "    </tr>\n",
       "    <tr>\n",
       "      <th>3</th>\n",
       "      <td>Maine</td>\n",
       "      <td>51.1</td>\n",
       "      <td>4.8</td>\n",
       "    </tr>\n",
       "    <tr>\n",
       "      <th>4</th>\n",
       "      <td>Rhode Island</td>\n",
       "      <td>63.1</td>\n",
       "      <td>4.5</td>\n",
       "    </tr>\n",
       "  </tbody>\n",
       "</table>\n",
       "</div>"
      ],
      "text/plain": [
       "          state  support  gay\n",
       "0        Hawaii     58.6  5.1\n",
       "1       Vermont     57.8  4.9\n",
       "2        Oregon     54.0  4.9\n",
       "3         Maine     51.1  4.8\n",
       "4  Rhode Island     63.1  4.5"
      ]
     },
     "execution_count": 3,
     "metadata": {},
     "output_type": "execute_result"
    }
   ],
   "source": [
    "# データの読み込み\n",
    "url = \"https://www.fbc.keio.ac.jp/~tyabu/keiryo/gay_data.csv\"\n",
    "df = pd.read_csv(url)\n",
    "df.head()"
   ]
  },
  {
   "cell_type": "code",
   "execution_count": 4,
   "metadata": {},
   "outputs": [
    {
     "name": "stdout",
     "output_type": "stream",
     "text": [
      "                            OLS Regression Results                            \n",
      "==============================================================================\n",
      "Dep. Variable:                    gay   R-squared:                       0.270\n",
      "Model:                            OLS   Adj. R-squared:                  0.255\n",
      "Method:                 Least Squares   F-statistic:                     17.76\n",
      "Date:                Sat, 13 Jul 2024   Prob (F-statistic):           0.000110\n",
      "Time:                        11:48:37   Log-Likelihood:                -45.147\n",
      "No. Observations:                  50   AIC:                             94.29\n",
      "Df Residuals:                      48   BIC:                             98.12\n",
      "Df Model:                           1                                         \n",
      "Covariance Type:            nonrobust                                         \n",
      "==============================================================================\n",
      "                 coef    std err          t      P>|t|      [0.025      0.975]\n",
      "------------------------------------------------------------------------------\n",
      "const          1.3383      0.509      2.627      0.012       0.314       2.363\n",
      "support        0.0446      0.011      4.214      0.000       0.023       0.066\n",
      "==============================================================================\n",
      "Omnibus:                        0.202   Durbin-Watson:                   0.647\n",
      "Prob(Omnibus):                  0.904   Jarque-Bera (JB):                0.015\n",
      "Skew:                          -0.043   Prob(JB):                        0.992\n",
      "Kurtosis:                       3.004   Cond. No.                         285.\n",
      "==============================================================================\n",
      "\n",
      "Notes:\n",
      "[1] Standard Errors assume that the covariance matrix of the errors is correctly specified.\n"
     ]
    }
   ],
   "source": [
    "# 2.4節の推定結果\n",
    "\n",
    "endog = df['gay'] # 被説明変数\n",
    "exog = df['support'] # 説明変数\n",
    "exog = sm.add_constant(exog) # 定数項\n",
    "\n",
    "# モデルの推定\n",
    "olsmod = sm.OLS(\n",
    "    endog,\n",
    "    exog\n",
    ")\n",
    "olsres = olsmod.fit()\n",
    "# 結果の表示\n",
    "print(olsres.summary())"
   ]
  },
  {
   "cell_type": "code",
   "execution_count": 5,
   "metadata": {},
   "outputs": [
    {
     "name": "stdout",
     "output_type": "stream",
     "text": [
      "support = 100 のときの予測値: 5.794\n"
     ]
    }
   ],
   "source": [
    "# 予測\n",
    "support_value = 100 # supportが100のとき\n",
    "Xnew = np.column_stack(\n",
    "    (\n",
    "        np.ones(1), # 定数項を追加\n",
    "        [support_value]\n",
    "    )\n",
    ")\n",
    "ynewpred = olsres.predict(Xnew) # 回帰直線olsresを用いて予測値を計算\n",
    "print(f'support = {support_value} のときの予測値: {ynewpred[0]:.3f}')"
   ]
  },
  {
   "cell_type": "code",
   "execution_count": 6,
   "metadata": {},
   "outputs": [
    {
     "data": {
      "image/png": "[encoded data removed]",
      "text/plain": [
       "<Figure size 1000x500 with 1 Axes>"
      ]
     },
     "metadata": {},
     "output_type": "display_data"
    }
   ],
   "source": [
    "# 散布図と回帰直線\n",
    "sns.lmplot(\n",
    "     data = df,\n",
    "     x = 'support',\n",
    "     y = 'gay',\n",
    "     aspect=2\n",
    ")\n",
    "plt.show()"
   ]
  },
  {
   "cell_type": "code",
   "execution_count": 7,
   "metadata": {},
   "outputs": [
    {
     "name": "stdout",
     "output_type": "stream",
     "text": [
      "[[1.         0.51963809]\n",
      " [0.51963809 1.        ]]\n"
     ]
    }
   ],
   "source": [
    "# 相関係数\n",
    "corr = np.corrcoef(\n",
    "    df['gay'],\n",
    "    df['support']\n",
    ")\n",
    "print(corr)"
   ]
  }
 ],
 "metadata": {
  "kernelspec": {
   "display_name": "Python 3",
   "language": "python",
   "name": "python3"
  },
  "language_info": {
   "codemirror_mode": {
    "name": "ipython",
    "version": 3
   },
   "file_extension": ".py",
   "mimetype": "text/x-python",
   "name": "python",
   "nbconvert_exporter": "python",
   "pygments_lexer": "ipython3",
   "version": "3.12.3"
  }
 },
 "nbformat": 4,
 "nbformat_minor": 2
}
