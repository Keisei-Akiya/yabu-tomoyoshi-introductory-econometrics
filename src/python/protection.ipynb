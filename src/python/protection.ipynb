{
 "cells": [
  {
   "cell_type": "code",
   "execution_count": 18,
   "metadata": {},
   "outputs": [],
   "source": [
    "# ライブラリをインポート\n",
    "\n",
    "# データ操作と数値計算のため\n",
    "import pandas as pd\n",
    "import numpy as np\n",
    "\n",
    "# データ可視化のため\n",
    "import matplotlib.pyplot as plt\n",
    "import seaborn as sns\n",
    "\n",
    "# 統計モデリングと計量経済分析のため\n",
    "import statsmodels.api as sm\n",
    "from linearmodels.iv import IV2SLS\n",
    "from statsmodels.iolib.summary2 import summary_col\n",
    "\n",
    "# for ignore warning\n",
    "import warnings\n",
    "warnings.filterwarnings('ignore')"
   ]
  },
  {
   "cell_type": "code",
   "execution_count": 31,
   "metadata": {},
   "outputs": [
    {
     "data": {
      "text/html": [
       "<div>\n",
       "<style scoped>\n",
       "    .dataframe tbody tr th:only-of-type {\n",
       "        vertical-align: middle;\n",
       "    }\n",
       "\n",
       "    .dataframe tbody tr th {\n",
       "        vertical-align: top;\n",
       "    }\n",
       "\n",
       "    .dataframe thead th {\n",
       "        text-align: right;\n",
       "    }\n",
       "</style>\n",
       "<table border=\"1\" class=\"dataframe\">\n",
       "  <thead>\n",
       "    <tr style=\"text-align: right;\">\n",
       "      <th></th>\n",
       "      <th>country</th>\n",
       "      <th>protection</th>\n",
       "      <th>gdp1995</th>\n",
       "      <th>mortality</th>\n",
       "      <th>latitude</th>\n",
       "      <th>europop</th>\n",
       "    </tr>\n",
       "  </thead>\n",
       "  <tbody>\n",
       "    <tr>\n",
       "      <th>0</th>\n",
       "      <td>AGO</td>\n",
       "      <td>5.363636</td>\n",
       "      <td>7.770645</td>\n",
       "      <td>5.634789</td>\n",
       "      <td>0.136667</td>\n",
       "      <td>8.0</td>\n",
       "    </tr>\n",
       "    <tr>\n",
       "      <th>1</th>\n",
       "      <td>ARG</td>\n",
       "      <td>6.386364</td>\n",
       "      <td>9.133459</td>\n",
       "      <td>4.232656</td>\n",
       "      <td>0.377778</td>\n",
       "      <td>60.0</td>\n",
       "    </tr>\n",
       "    <tr>\n",
       "      <th>2</th>\n",
       "      <td>AUS</td>\n",
       "      <td>9.318182</td>\n",
       "      <td>9.897972</td>\n",
       "      <td>2.145931</td>\n",
       "      <td>0.300000</td>\n",
       "      <td>98.0</td>\n",
       "    </tr>\n",
       "    <tr>\n",
       "      <th>3</th>\n",
       "      <td>BFA</td>\n",
       "      <td>4.454545</td>\n",
       "      <td>6.845880</td>\n",
       "      <td>5.634789</td>\n",
       "      <td>0.144444</td>\n",
       "      <td>0.0</td>\n",
       "    </tr>\n",
       "    <tr>\n",
       "      <th>4</th>\n",
       "      <td>BGD</td>\n",
       "      <td>5.136364</td>\n",
       "      <td>6.877296</td>\n",
       "      <td>4.268438</td>\n",
       "      <td>0.266667</td>\n",
       "      <td>0.0</td>\n",
       "    </tr>\n",
       "  </tbody>\n",
       "</table>\n",
       "</div>"
      ],
      "text/plain": [
       "  country  protection   gdp1995  mortality  latitude  europop\n",
       "0     AGO    5.363636  7.770645   5.634789  0.136667      8.0\n",
       "1     ARG    6.386364  9.133459   4.232656  0.377778     60.0\n",
       "2     AUS    9.318182  9.897972   2.145931  0.300000     98.0\n",
       "3     BFA    4.454545  6.845880   5.634789  0.144444      0.0\n",
       "4     BGD    5.136364  6.877296   4.268438  0.266667      0.0"
      ]
     },
     "execution_count": 31,
     "metadata": {},
     "output_type": "execute_result"
    }
   ],
   "source": [
    "url = \"https://www.fbc.keio.ac.jp/~tyabu/keiryo/protection_data.csv\"\n",
    "df = pd.read_csv(url)\n",
    "df = df.dropna()\n",
    "df.head()"
   ]
  },
  {
   "cell_type": "markdown",
   "metadata": {},
   "source": [
    "## 13.6節の推定結果"
   ]
  },
  {
   "cell_type": "markdown",
   "metadata": {},
   "source": [
    "### OLS"
   ]
  },
  {
   "cell_type": "code",
   "execution_count": 58,
   "metadata": {},
   "outputs": [
    {
     "name": "stdout",
     "output_type": "stream",
     "text": [
      "                            OLS Regression Results                            \n",
      "==============================================================================\n",
      "Dep. Variable:                gdp1995   R-squared:                       0.542\n",
      "Model:                            OLS   Adj. R-squared:                  0.535\n",
      "Method:                 Least Squares   F-statistic:                     105.3\n",
      "Date:                Fri, 30 Aug 2024   Prob (F-statistic):           6.52e-15\n",
      "Time:                        17:09:26   Log-Likelihood:                -66.578\n",
      "No. Observations:                  63   AIC:                             137.2\n",
      "Df Residuals:                      61   BIC:                             141.4\n",
      "Df Model:                           1                                         \n",
      "Covariance Type:                  HC1                                         \n",
      "==============================================================================\n",
      "                 coef    std err          z      P>|z|      [0.025      0.975]\n",
      "------------------------------------------------------------------------------\n",
      "const          4.6791      0.322     14.513      0.000       4.047       5.311\n",
      "protection     0.5168      0.050     10.264      0.000       0.418       0.615\n",
      "==============================================================================\n",
      "Omnibus:                        7.105   Durbin-Watson:                   2.062\n",
      "Prob(Omnibus):                  0.029   Jarque-Bera (JB):                6.649\n",
      "Skew:                          -0.787   Prob(JB):                       0.0360\n",
      "Kurtosis:                       3.240   Cond. No.                         31.0\n",
      "==============================================================================\n",
      "\n",
      "Notes:\n",
      "[1] Standard Errors are heteroscedasticity robust (HC1)\n"
     ]
    }
   ],
   "source": [
    "X = sm.add_constant(df['protection'])\n",
    "y = df['gdp1995']\n",
    "out_1 = sm.OLS(y, X).fit(cov_type='HC1')\n",
    "print(out_1.summary())"
   ]
  },
  {
   "cell_type": "markdown",
   "metadata": {},
   "source": [
    "### IV"
   ]
  },
  {
   "cell_type": "markdown",
   "metadata": {},
   "source": [
    "#### First-stage"
   ]
  },
  {
   "cell_type": "code",
   "execution_count": 62,
   "metadata": {},
   "outputs": [
    {
     "name": "stdout",
     "output_type": "stream",
     "text": [
      "                            OLS Regression Results                            \n",
      "==============================================================================\n",
      "Dep. Variable:             protection   R-squared:                       0.269\n",
      "Model:                            OLS   Adj. R-squared:                  0.257\n",
      "Method:                 Least Squares   F-statistic:                     15.75\n",
      "Date:                Fri, 30 Aug 2024   Prob (F-statistic):           0.000193\n",
      "Time:                        17:10:41   Log-Likelihood:                -103.63\n",
      "No. Observations:                  63   AIC:                             211.3\n",
      "Df Residuals:                      61   BIC:                             215.5\n",
      "Df Model:                           1                                         \n",
      "Covariance Type:                  HC1                                         \n",
      "==============================================================================\n",
      "                 coef    std err          z      P>|z|      [0.025      0.975]\n",
      "------------------------------------------------------------------------------\n",
      "const          9.3869      0.732     12.817      0.000       7.951      10.822\n",
      "mortality     -0.6151      0.155     -3.968      0.000      -0.919      -0.311\n",
      "==============================================================================\n",
      "Omnibus:                        0.032   Durbin-Watson:                   2.005\n",
      "Prob(Omnibus):                  0.984   Jarque-Bera (JB):                0.188\n",
      "Skew:                           0.032   Prob(JB):                        0.910\n",
      "Kurtosis:                       2.740   Cond. No.                         19.8\n",
      "==============================================================================\n",
      "\n",
      "Notes:\n",
      "[1] Standard Errors are heteroscedasticity robust (HC1)\n"
     ]
    }
   ],
   "source": [
    "X = sm.add_constant(df[['mortality']])\n",
    "y = df['protection']\n",
    "out_2_1st = sm.OLS(y, X).fit(cov_type='HC1')\n",
    "print(out_2_1st.summary())"
   ]
  },
  {
   "cell_type": "code",
   "execution_count": 60,
   "metadata": {},
   "outputs": [
    {
     "name": "stdout",
     "output_type": "stream",
     "text": [
      "                          IV-2SLS Estimation Summary                          \n",
      "==============================================================================\n",
      "Dep. Variable:                gdp1995   R-squared:                      0.2087\n",
      "Estimator:                    IV-2SLS   Adj. R-squared:                 0.1958\n",
      "No. Observations:                  63   F-statistic:                    28.636\n",
      "Date:                Fri, Aug 30 2024   P-value (F-stat)                0.0000\n",
      "Time:                        17:09:37   Distribution:                  chi2(1)\n",
      "Cov. Estimator:                robust                                         \n",
      "                                                                              \n",
      "                             Parameter Estimates                              \n",
      "==============================================================================\n",
      "            Parameter  Std. Err.     T-stat    P-value    Lower CI    Upper CI\n",
      "------------------------------------------------------------------------------\n",
      "const          2.0431     1.1479     1.7798     0.0751     -0.2068      4.2929\n",
      "protection     0.9221     0.1723     5.3512     0.0000      0.5844      1.2598\n",
      "==============================================================================\n",
      "\n",
      "Endogenous: const, protection\n",
      "Instruments: const, mortality\n",
      "Robust Covariance (Heteroskedastic)\n",
      "Debiased: False\n"
     ]
    }
   ],
   "source": [
    "x = sm.add_constant(df['protection'])\n",
    "y = df['gdp1995']\n",
    "w = None\n",
    "Z = sm.add_constant(df['mortality'])\n",
    "out_2 = IV2SLS(y, w, X, Z).fit()\n",
    "print(out_2)"
   ]
  },
  {
   "cell_type": "markdown",
   "metadata": {},
   "source": [
    "## 13.7節の推定結果"
   ]
  },
  {
   "cell_type": "markdown",
   "metadata": {},
   "source": [
    "### First-stage"
   ]
  },
  {
   "cell_type": "code",
   "execution_count": 63,
   "metadata": {},
   "outputs": [
    {
     "name": "stdout",
     "output_type": "stream",
     "text": [
      "                            OLS Regression Results                            \n",
      "==============================================================================\n",
      "Dep. Variable:             protection   R-squared:                       0.367\n",
      "Model:                            OLS   Adj. R-squared:                  0.335\n",
      "Method:                 Least Squares   F-statistic:                     17.57\n",
      "Date:                Fri, 30 Aug 2024   Prob (F-statistic):           2.87e-08\n",
      "Time:                        17:10:54   Log-Likelihood:                -99.061\n",
      "No. Observations:                  63   AIC:                             206.1\n",
      "Df Residuals:                      59   BIC:                             214.7\n",
      "Df Model:                           3                                         \n",
      "Covariance Type:                  HC0                                         \n",
      "==============================================================================\n",
      "                 coef    std err          z      P>|z|      [0.025      0.975]\n",
      "------------------------------------------------------------------------------\n",
      "const          7.8531      0.970      8.093      0.000       5.951       9.755\n",
      "latitude       0.2005      1.307      0.153      0.878      -2.361       2.762\n",
      "mortality     -0.3684      0.174     -2.113      0.035      -0.710      -0.027\n",
      "europop        0.0212      0.006      3.352      0.001       0.009       0.034\n",
      "==============================================================================\n",
      "Omnibus:                        0.096   Durbin-Watson:                   2.084\n",
      "Prob(Omnibus):                  0.953   Jarque-Bera (JB):                0.238\n",
      "Skew:                           0.079   Prob(JB):                        0.888\n",
      "Kurtosis:                       2.743   Cond. No.                         305.\n",
      "==============================================================================\n",
      "\n",
      "Notes:\n",
      "[1] Standard Errors are heteroscedasticity robust (HC0)\n"
     ]
    }
   ],
   "source": [
    "X = sm.add_constant(df[['latitude', 'mortality', 'europop']])\n",
    "y = df['protection']\n",
    "out_3_1st = sm.OLS(y, X).fit(cov_type='HC0')\n",
    "print(out_3_1st.summary())"
   ]
  },
  {
   "cell_type": "markdown",
   "metadata": {},
   "source": [
    "### Second-stage"
   ]
  },
  {
   "cell_type": "code",
   "execution_count": 34,
   "metadata": {},
   "outputs": [
    {
     "name": "stdout",
     "output_type": "stream",
     "text": [
      "                          IV-2SLS Estimation Summary                          \n",
      "==============================================================================\n",
      "Dep. Variable:                gdp1995   R-squared:                      0.1742\n",
      "Estimator:                    IV-2SLS   Adj. R-squared:                 0.1467\n",
      "No. Observations:                  63   F-statistic:                    39.784\n",
      "Date:                Fri, Aug 30 2024   P-value (F-stat)                0.0000\n",
      "Time:                        16:56:46   Distribution:                  chi2(2)\n",
      "Cov. Estimator:                robust                                         \n",
      "                                                                              \n",
      "                             Parameter Estimates                              \n",
      "==============================================================================\n",
      "            Parameter  Std. Err.     T-stat    P-value    Lower CI    Upper CI\n",
      "------------------------------------------------------------------------------\n",
      "latitude      -0.5971     0.9505    -0.6282     0.5298     -2.4600      1.2658\n",
      "const          1.9947     1.0400     1.9181     0.0551     -0.0436      4.0330\n",
      "protection     0.9458     0.1677     5.6385     0.0000      0.6171      1.2746\n",
      "==============================================================================\n",
      "\n",
      "Endogenous: const, protection\n",
      "Instruments: const, mortality, europop\n",
      "Robust Covariance (Heteroskedastic)\n",
      "Debiased: False\n"
     ]
    }
   ],
   "source": [
    "x = sm.add_constant(df['protection'])\n",
    "y = df['gdp1995']\n",
    "w = df['latitude']\n",
    "Z = sm.add_constant(df[['mortality', 'europop']])\n",
    "out_3 = IV2SLS(y, w, X, Z).fit()\n",
    "print(out_3)"
   ]
  },
  {
   "cell_type": "markdown",
   "metadata": {},
   "source": [
    "### F検定"
   ]
  },
  {
   "cell_type": "code",
   "execution_count": 37,
   "metadata": {},
   "outputs": [
    {
     "name": "stdout",
     "output_type": "stream",
     "text": [
      "                            OLS Regression Results                            \n",
      "==============================================================================\n",
      "Dep. Variable:             protection   R-squared:                       0.367\n",
      "Model:                            OLS   Adj. R-squared:                  0.335\n",
      "Method:                 Least Squares   F-statistic:                     11.42\n",
      "Date:                Fri, 30 Aug 2024   Prob (F-statistic):           5.25e-06\n",
      "Time:                        16:57:41   Log-Likelihood:                -99.061\n",
      "No. Observations:                  63   AIC:                             206.1\n",
      "Df Residuals:                      59   BIC:                             214.7\n",
      "Df Model:                           3                                         \n",
      "Covariance Type:            nonrobust                                         \n",
      "==============================================================================\n",
      "                 coef    std err          t      P>|t|      [0.025      0.975]\n",
      "------------------------------------------------------------------------------\n",
      "const          7.8531      0.831      9.452      0.000       6.191       9.516\n",
      "mortality     -0.3684      0.149     -2.481      0.016      -0.666      -0.071\n",
      "europop        0.0212      0.008      2.566      0.013       0.005       0.038\n",
      "latitude       0.2005      1.495      0.134      0.894      -2.791       3.192\n",
      "==============================================================================\n",
      "Omnibus:                        0.096   Durbin-Watson:                   2.084\n",
      "Prob(Omnibus):                  0.953   Jarque-Bera (JB):                0.238\n",
      "Skew:                           0.079   Prob(JB):                        0.888\n",
      "Kurtosis:                       2.743   Cond. No.                         305.\n",
      "==============================================================================\n",
      "\n",
      "Notes:\n",
      "[1] Standard Errors assume that the covariance matrix of the errors is correctly specified.\n"
     ]
    }
   ],
   "source": [
    "X = sm.add_constant(df[['mortality', 'europop', 'latitude']])\n",
    "y = df['protection']\n",
    "out_4 = sm.OLS(y, X).fit()\n",
    "print(out_4.summary())"
   ]
  },
  {
   "cell_type": "code",
   "execution_count": 50,
   "metadata": {},
   "outputs": [
    {
     "name": "stdout",
     "output_type": "stream",
     "text": [
      "F-statistic: 10.52\n",
      "p-value: 0.0001\n"
     ]
    }
   ],
   "source": [
    "f_test = out_4.f_test('mortality = europop = 0')\n",
    "print(f\"F-statistic: {f_test.fvalue:.2f}\")\n",
    "print(f\"p-value: {f_test.pvalue:.4f}\")"
   ]
  },
  {
   "cell_type": "markdown",
   "metadata": {},
   "source": [
    "#### 過剰識別検定\n",
    "13.7.3節の過剰識別性検定を行う。\n",
    "\n",
    "p値が10%を上回れば、帰無仮説が採択される(操作変数の外生性が満たされる)。\n",
    "\n",
    "p値が10%を下回れば、帰無仮説が棄却される(操作変数の外生性が満たされない)。\n"
   ]
  },
  {
   "cell_type": "code",
   "execution_count": 66,
   "metadata": {},
   "outputs": [
    {
     "name": "stdout",
     "output_type": "stream",
     "text": [
      "Wooldridge's regression test of exogeneity\n",
      "H0: Endogenous variables are exogenous\n",
      "Statistic: 33.4047\n",
      "P-value: 0.0000\n",
      "Distributed: chi2(1)\n",
      "\n",
      "Wooldridge's score test of overidentification\n",
      "H0: Model is not overidentified.\n",
      "Statistic: 0.0668\n",
      "P-value: 0.7961\n",
      "Distributed: chi2(1)\n"
     ]
    }
   ],
   "source": [
    "exog = sm.add_constant(df['latitude'])\n",
    "endog = df['protection']\n",
    "instruments = df[['mortality', 'europop']]\n",
    "out_5 = IV2SLS(df['gdp1995'], exog, endog, instruments).fit()\n",
    "\n",
    "print(out_5.wooldridge_regression)\n",
    "print(f'\\n{out_5.wooldridge_overid}')"
   ]
  }
 ],
 "metadata": {
  "kernelspec": {
   "display_name": "Python 3",
   "language": "python",
   "name": "python3"
  },
  "language_info": {
   "codemirror_mode": {
    "name": "ipython",
    "version": 3
   },
   "file_extension": ".py",
   "mimetype": "text/x-python",
   "name": "python",
   "nbconvert_exporter": "python",
   "pygments_lexer": "ipython3",
   "version": "3.12.3"
  }
 },
 "nbformat": 4,
 "nbformat_minor": 2
}
