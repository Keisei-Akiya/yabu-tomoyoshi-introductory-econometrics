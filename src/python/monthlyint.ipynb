{
 "cells": [
  {
   "cell_type": "code",
   "execution_count": 31,
   "metadata": {},
   "outputs": [],
   "source": [
    "# ライブラリをインポート\n",
    "\n",
    "# データ操作と数値計算のため\n",
    "import pandas as pd\n",
    "import numpy as np\n",
    "\n",
    "# データ可視化のため\n",
    "import matplotlib.pyplot as plt\n",
    "import seaborn as sns\n",
    "\n",
    "# 統計モデリングと計量経済分析のため\n",
    "import statsmodels.api as sm\n",
    "\n",
    "# for ignore warning\n",
    "import warnings\n",
    "warnings.filterwarnings('ignore')"
   ]
  },
  {
   "cell_type": "code",
   "execution_count": 32,
   "metadata": {},
   "outputs": [
    {
     "data": {
      "text/html": [
       "<div>\n",
       "<style scoped>\n",
       "    .dataframe tbody tr th:only-of-type {\n",
       "        vertical-align: middle;\n",
       "    }\n",
       "\n",
       "    .dataframe tbody tr th {\n",
       "        vertical-align: top;\n",
       "    }\n",
       "\n",
       "    .dataframe thead th {\n",
       "        text-align: right;\n",
       "    }\n",
       "</style>\n",
       "<table border=\"1\" class=\"dataframe\">\n",
       "  <thead>\n",
       "    <tr style=\"text-align: right;\">\n",
       "      <th></th>\n",
       "      <th>date</th>\n",
       "      <th>intj</th>\n",
       "      <th>intj_gaika</th>\n",
       "      <th>intj_taimin</th>\n",
       "    </tr>\n",
       "  </thead>\n",
       "  <tbody>\n",
       "    <tr>\n",
       "      <th>0</th>\n",
       "      <td>1991-04-01</td>\n",
       "      <td>0</td>\n",
       "      <td>-3178.875864</td>\n",
       "      <td>-489</td>\n",
       "    </tr>\n",
       "    <tr>\n",
       "      <th>1</th>\n",
       "      <td>1991-05-01</td>\n",
       "      <td>-139</td>\n",
       "      <td>-111.501507</td>\n",
       "      <td>-139</td>\n",
       "    </tr>\n",
       "    <tr>\n",
       "      <th>2</th>\n",
       "      <td>1991-06-01</td>\n",
       "      <td>-424</td>\n",
       "      <td>-925.687876</td>\n",
       "      <td>-424</td>\n",
       "    </tr>\n",
       "    <tr>\n",
       "      <th>3</th>\n",
       "      <td>1991-07-01</td>\n",
       "      <td>0</td>\n",
       "      <td>-906.733814</td>\n",
       "      <td>0</td>\n",
       "    </tr>\n",
       "    <tr>\n",
       "      <th>4</th>\n",
       "      <td>1991-08-01</td>\n",
       "      <td>0</td>\n",
       "      <td>-1285.841684</td>\n",
       "      <td>0</td>\n",
       "    </tr>\n",
       "  </tbody>\n",
       "</table>\n",
       "</div>"
      ],
      "text/plain": [
       "        date  intj   intj_gaika  intj_taimin\n",
       "0 1991-04-01     0 -3178.875864         -489\n",
       "1 1991-05-01  -139  -111.501507         -139\n",
       "2 1991-06-01  -424  -925.687876         -424\n",
       "3 1991-07-01     0  -906.733814            0\n",
       "4 1991-08-01     0 -1285.841684            0"
      ]
     },
     "execution_count": 32,
     "metadata": {},
     "output_type": "execute_result"
    }
   ],
   "source": [
    "url = \"https://www.fbc.keio.ac.jp/~tyabu/keiryo/monthlyint_data.csv\"\n",
    "df = pd.read_csv(url)\n",
    "df['date'] = pd.to_datetime(df['date'], format='%b-%y')\n",
    "df.head()"
   ]
  },
  {
   "cell_type": "markdown",
   "metadata": {},
   "source": [
    "## 変数の定義(1兆円単位に変換する)"
   ]
  },
  {
   "cell_type": "code",
   "execution_count": 33,
   "metadata": {},
   "outputs": [
    {
     "data": {
      "text/html": [
       "<div>\n",
       "<style scoped>\n",
       "    .dataframe tbody tr th:only-of-type {\n",
       "        vertical-align: middle;\n",
       "    }\n",
       "\n",
       "    .dataframe tbody tr th {\n",
       "        vertical-align: top;\n",
       "    }\n",
       "\n",
       "    .dataframe thead th {\n",
       "        text-align: right;\n",
       "    }\n",
       "</style>\n",
       "<table border=\"1\" class=\"dataframe\">\n",
       "  <thead>\n",
       "    <tr style=\"text-align: right;\">\n",
       "      <th></th>\n",
       "      <th>date</th>\n",
       "      <th>intj</th>\n",
       "      <th>intj_gaika</th>\n",
       "      <th>intj_taimin</th>\n",
       "    </tr>\n",
       "  </thead>\n",
       "  <tbody>\n",
       "    <tr>\n",
       "      <th>0</th>\n",
       "      <td>1991-04-01</td>\n",
       "      <td>0.0000</td>\n",
       "      <td>-0.317888</td>\n",
       "      <td>-0.0489</td>\n",
       "    </tr>\n",
       "    <tr>\n",
       "      <th>1</th>\n",
       "      <td>1991-05-01</td>\n",
       "      <td>-0.0139</td>\n",
       "      <td>-0.011150</td>\n",
       "      <td>-0.0139</td>\n",
       "    </tr>\n",
       "    <tr>\n",
       "      <th>2</th>\n",
       "      <td>1991-06-01</td>\n",
       "      <td>-0.0424</td>\n",
       "      <td>-0.092569</td>\n",
       "      <td>-0.0424</td>\n",
       "    </tr>\n",
       "    <tr>\n",
       "      <th>3</th>\n",
       "      <td>1991-07-01</td>\n",
       "      <td>0.0000</td>\n",
       "      <td>-0.090673</td>\n",
       "      <td>0.0000</td>\n",
       "    </tr>\n",
       "    <tr>\n",
       "      <th>4</th>\n",
       "      <td>1991-08-01</td>\n",
       "      <td>0.0000</td>\n",
       "      <td>-0.128584</td>\n",
       "      <td>0.0000</td>\n",
       "    </tr>\n",
       "  </tbody>\n",
       "</table>\n",
       "</div>"
      ],
      "text/plain": [
       "        date    intj  intj_gaika  intj_taimin\n",
       "0 1991-04-01  0.0000   -0.317888      -0.0489\n",
       "1 1991-05-01 -0.0139   -0.011150      -0.0139\n",
       "2 1991-06-01 -0.0424   -0.092569      -0.0424\n",
       "3 1991-07-01  0.0000   -0.090673       0.0000\n",
       "4 1991-08-01  0.0000   -0.128584       0.0000"
      ]
     },
     "execution_count": 33,
     "metadata": {},
     "output_type": "execute_result"
    }
   ],
   "source": [
    "# Convert the specified columns to trillion units\n",
    "df['intj'] = df['intj'] / 10000\n",
    "df['intj_gaika'] = df['intj_gaika'] / 10000\n",
    "df['intj_taimin'] = df['intj_taimin'] / 10000\n",
    "df.head()"
   ]
  },
  {
   "cell_type": "markdown",
   "metadata": {},
   "source": [
    "## 推定結果(外貨準備)"
   ]
  },
  {
   "cell_type": "code",
   "execution_count": 34,
   "metadata": {},
   "outputs": [
    {
     "name": "stdout",
     "output_type": "stream",
     "text": [
      "                            OLS Regression Results                            \n",
      "==============================================================================\n",
      "Dep. Variable:                   intj   R-squared:                       0.928\n",
      "Model:                            OLS   Adj. R-squared:                  0.928\n",
      "Method:                 Least Squares   F-statistic:                     1217.\n",
      "Date:                Thu, 26 Sep 2024   Prob (F-statistic):           1.39e-55\n",
      "Time:                        14:45:47   Log-Likelihood:                 64.465\n",
      "No. Observations:                  96   AIC:                            -124.9\n",
      "Df Residuals:                      94   BIC:                            -119.8\n",
      "Df Model:                           1                                         \n",
      "Covariance Type:            nonrobust                                         \n",
      "==============================================================================\n",
      "                 coef    std err          t      P>|t|      [0.025      0.975]\n",
      "------------------------------------------------------------------------------\n",
      "const         -0.0177      0.013     -1.357      0.178      -0.043       0.008\n",
      "intj_gaika     1.0258      0.029     34.882      0.000       0.967       1.084\n",
      "==============================================================================\n",
      "Omnibus:                        8.761   Durbin-Watson:                   1.868\n",
      "Prob(Omnibus):                  0.013   Jarque-Bera (JB):               18.566\n",
      "Skew:                           0.129   Prob(JB):                     9.30e-05\n",
      "Kurtosis:                       5.139   Cond. No.                         2.33\n",
      "==============================================================================\n",
      "\n",
      "Notes:\n",
      "[1] Standard Errors assume that the covariance matrix of the errors is correctly specified.\n"
     ]
    }
   ],
   "source": [
    "# Define the model\n",
    "endog = df['intj']\n",
    "exog = sm.add_constant(df['intj_gaika'])\n",
    "model1 = sm.OLS(endog, exog).fit()\n",
    "\n",
    "# Print the summary of the model\n",
    "print(model1.summary())"
   ]
  },
  {
   "cell_type": "code",
   "execution_count": 42,
   "metadata": {},
   "outputs": [
    {
     "name": "stdout",
     "output_type": "stream",
     "text": [
      "hypothesis1: intj_gaika = 1\n",
      "<F test: F=0.767050973283064, p=0.3833634507792105, df_denom=94, df_num=1>\n",
      "\n",
      "\n",
      "hypothesis2: const = 0, intj_gaika = 1\n",
      "<F test: F=1.1119906779961983, p=0.33319077783126144, df_denom=94, df_num=2>\n"
     ]
    }
   ],
   "source": [
    "# Perform hypothesis tests\n",
    "hypothesis1 = 'intj_gaika = 1'\n",
    "f_test1 = model1.f_test(hypothesis1)\n",
    "hypothesis2 = 'const = 0, intj_gaika = 1'\n",
    "f_test2 = model1.f_test(hypothesis2)\n",
    "\n",
    "# Perform linear hypothesis tests\n",
    "print(f'hypothesis1: {hypothesis1}')\n",
    "print(f_test1)\n",
    "print('\\n')\n",
    "print(f'hypothesis2: {hypothesis2}')\n",
    "print(f_test2)"
   ]
  },
  {
   "cell_type": "markdown",
   "metadata": {},
   "source": [
    "## 推定結果(対民収支)"
   ]
  },
  {
   "cell_type": "code",
   "execution_count": 43,
   "metadata": {},
   "outputs": [
    {
     "name": "stdout",
     "output_type": "stream",
     "text": [
      "                            OLS Regression Results                            \n",
      "==============================================================================\n",
      "Dep. Variable:                   intj   R-squared:                       0.969\n",
      "Model:                            OLS   Adj. R-squared:                  0.968\n",
      "Method:                 Least Squares   F-statistic:                     2921.\n",
      "Date:                Thu, 26 Sep 2024   Prob (F-statistic):           1.34e-72\n",
      "Time:                        14:48:13   Log-Likelihood:                 104.46\n",
      "No. Observations:                  96   AIC:                            -204.9\n",
      "Df Residuals:                      94   BIC:                            -199.8\n",
      "Df Model:                           1                                         \n",
      "Covariance Type:            nonrobust                                         \n",
      "===============================================================================\n",
      "                  coef    std err          t      P>|t|      [0.025      0.975]\n",
      "-------------------------------------------------------------------------------\n",
      "const        4.479e-05      0.009      0.005      0.996      -0.017       0.017\n",
      "intj_taimin     0.9952      0.018     54.051      0.000       0.959       1.032\n",
      "==============================================================================\n",
      "Omnibus:                       43.300   Durbin-Watson:                   3.048\n",
      "Prob(Omnibus):                  0.000   Jarque-Bera (JB):             1965.985\n",
      "Skew:                           0.004   Prob(JB):                         0.00\n",
      "Kurtosis:                      25.170   Cond. No.                         2.20\n",
      "==============================================================================\n",
      "\n",
      "Notes:\n",
      "[1] Standard Errors assume that the covariance matrix of the errors is correctly specified.\n"
     ]
    }
   ],
   "source": [
    "# Define the dependent and independent variables\n",
    "endong = df['intj']\n",
    "exog = df['intj_taimin']\n",
    "exog = sm.add_constant(exog)\n",
    "\n",
    "# Fit the model2\n",
    "model2 = sm.OLS(endong, exog).fit()\n",
    "\n",
    "# Print the summary\n",
    "print(model2.summary())"
   ]
  },
  {
   "cell_type": "code",
   "execution_count": 48,
   "metadata": {},
   "outputs": [
    {
     "name": "stdout",
     "output_type": "stream",
     "text": [
      "hypothesis1: intj_taimin = 1\n",
      "<F test: F=0.06702513024797763, p=0.7962845558771758, df_denom=94, df_num=1>\n",
      "\n",
      "\n",
      "hypothesis2: const = 0, intj_taimin = 1\n",
      "<F test: F=0.034158117100349154, p=0.9664306751935187, df_denom=94, df_num=2>\n"
     ]
    }
   ],
   "source": [
    "hypothesis1 = 'intj_taimin = 1'\n",
    "f_test1 = model2.f_test(hypothesis1)\n",
    "hypothesis2 = 'const = 0, intj_taimin = 1'\n",
    "f_test2 = model2.f_test(hypothesis2)\n",
    "\n",
    "print(f'hypothesis1: {hypothesis1}')\n",
    "print(f_test1)\n",
    "print('\\n')\n",
    "print(f'hypothesis2: {hypothesis2}')\n",
    "print(f_test2)"
   ]
  }
 ],
 "metadata": {
  "kernelspec": {
   "display_name": ".venv",
   "language": "python",
   "name": "python3"
  },
  "language_info": {
   "codemirror_mode": {
    "name": "ipython",
    "version": 3
   },
   "file_extension": ".py",
   "mimetype": "text/x-python",
   "name": "python",
   "nbconvert_exporter": "python",
   "pygments_lexer": "ipython3",
   "version": "3.12.6"
  }
 },
 "nbformat": 4,
 "nbformat_minor": 2
}
