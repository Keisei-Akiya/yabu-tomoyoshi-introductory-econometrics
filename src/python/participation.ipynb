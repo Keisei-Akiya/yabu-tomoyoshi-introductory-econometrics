{
 "cells": [
  {
   "cell_type": "code",
   "execution_count": 10,
   "metadata": {},
   "outputs": [],
   "source": [
    "# ライブラリをインポート\n",
    "\n",
    "# データ操作と数値計算のため\n",
    "import pandas as pd\n",
    "import numpy as np\n",
    "\n",
    "# データ可視化のため\n",
    "import matplotlib.pyplot as plt\n",
    "import seaborn as sns\n",
    "\n",
    "# 統計モデリングと計量経済分析のため\n",
    "import statsmodels.api as sm\n",
    "from statsmodels.discrete.discrete_model import Probit, Logit\n",
    "from statsmodels.iolib.summary2 import summary_col\n",
    "\n",
    "# for ignore warning\n",
    "import warnings\n",
    "warnings.filterwarnings('ignore')"
   ]
  },
  {
   "cell_type": "code",
   "execution_count": 3,
   "metadata": {},
   "outputs": [
    {
     "data": {
      "text/html": [
       "<div>\n",
       "<style scoped>\n",
       "    .dataframe tbody tr th:only-of-type {\n",
       "        vertical-align: middle;\n",
       "    }\n",
       "\n",
       "    .dataframe tbody tr th {\n",
       "        vertical-align: top;\n",
       "    }\n",
       "\n",
       "    .dataframe thead th {\n",
       "        text-align: right;\n",
       "    }\n",
       "</style>\n",
       "<table border=\"1\" class=\"dataframe\">\n",
       "  <thead>\n",
       "    <tr style=\"text-align: right;\">\n",
       "      <th></th>\n",
       "      <th>male</th>\n",
       "      <th>age</th>\n",
       "      <th>partner</th>\n",
       "      <th>children</th>\n",
       "      <th>yongest</th>\n",
       "      <th>experience</th>\n",
       "      <th>undergrad</th>\n",
       "      <th>grad</th>\n",
       "      <th>job</th>\n",
       "    </tr>\n",
       "  </thead>\n",
       "  <tbody>\n",
       "    <tr>\n",
       "      <th>0</th>\n",
       "      <td>1</td>\n",
       "      <td>48</td>\n",
       "      <td>1</td>\n",
       "      <td>1</td>\n",
       "      <td>10</td>\n",
       "      <td>26</td>\n",
       "      <td>1</td>\n",
       "      <td>0</td>\n",
       "      <td>1</td>\n",
       "    </tr>\n",
       "    <tr>\n",
       "      <th>1</th>\n",
       "      <td>1</td>\n",
       "      <td>47</td>\n",
       "      <td>1</td>\n",
       "      <td>1</td>\n",
       "      <td>5</td>\n",
       "      <td>25</td>\n",
       "      <td>1</td>\n",
       "      <td>0</td>\n",
       "      <td>1</td>\n",
       "    </tr>\n",
       "    <tr>\n",
       "      <th>2</th>\n",
       "      <td>1</td>\n",
       "      <td>58</td>\n",
       "      <td>1</td>\n",
       "      <td>2</td>\n",
       "      <td>17</td>\n",
       "      <td>27</td>\n",
       "      <td>1</td>\n",
       "      <td>0</td>\n",
       "      <td>1</td>\n",
       "    </tr>\n",
       "    <tr>\n",
       "      <th>3</th>\n",
       "      <td>0</td>\n",
       "      <td>29</td>\n",
       "      <td>1</td>\n",
       "      <td>2</td>\n",
       "      <td>1</td>\n",
       "      <td>3</td>\n",
       "      <td>0</td>\n",
       "      <td>0</td>\n",
       "      <td>3</td>\n",
       "    </tr>\n",
       "    <tr>\n",
       "      <th>4</th>\n",
       "      <td>1</td>\n",
       "      <td>60</td>\n",
       "      <td>1</td>\n",
       "      <td>3</td>\n",
       "      <td>24</td>\n",
       "      <td>38</td>\n",
       "      <td>1</td>\n",
       "      <td>0</td>\n",
       "      <td>1</td>\n",
       "    </tr>\n",
       "  </tbody>\n",
       "</table>\n",
       "</div>"
      ],
      "text/plain": [
       "   male  age  partner  children  yongest  experience  undergrad  grad  job\n",
       "0     1   48        1         1       10          26          1     0    1\n",
       "1     1   47        1         1        5          25          1     0    1\n",
       "2     1   58        1         2       17          27          1     0    1\n",
       "3     0   29        1         2        1           3          0     0    3\n",
       "4     1   60        1         3       24          38          1     0    1"
      ]
     },
     "execution_count": 3,
     "metadata": {},
     "output_type": "execute_result"
    }
   ],
   "source": [
    "url = \"https://www.fbc.keio.ac.jp/~tyabu/keiryo/participation_data.csv\"\n",
    "df = pd.read_csv(url)\n",
    "df.head()"
   ]
  },
  {
   "cell_type": "markdown",
   "metadata": {},
   "source": [
    "## 変数の定義"
   ]
  },
  {
   "cell_type": "code",
   "execution_count": 4,
   "metadata": {},
   "outputs": [
    {
     "name": "stdout",
     "output_type": "stream",
     "text": [
      "   male  age  partner  children  yongest  experience  undergrad  grad  job  \\\n",
      "0     1   48        1         1       10          26          1     0    1   \n",
      "1     1   47        1         1        5          25          1     0    1   \n",
      "2     1   58        1         2       17          27          1     0    1   \n",
      "3     0   29        1         2        1           3          0     0    3   \n",
      "4     1   60        1         3       24          38          1     0    1   \n",
      "\n",
      "   full  part  work  under6  \n",
      "0     1     0     1       0  \n",
      "1     1     0     1       1  \n",
      "2     1     0     1       0  \n",
      "3     0     0     0       1  \n",
      "4     1     0     1       0  \n"
     ]
    }
   ],
   "source": [
    "df['full'] = (df['job'] == 1).astype(int)\n",
    "df['part'] = (df['job'] == 2).astype(int)\n",
    "df['work'] = df['full'] + df['part']\n",
    "df['under6'] = (df['yongest'] < 6).astype(int)\n",
    "print(df.head())"
   ]
  },
  {
   "cell_type": "markdown",
   "metadata": {},
   "source": [
    "## 12.6節の推定結果(50歳以下の男性に限定した分析)"
   ]
  },
  {
   "cell_type": "code",
   "execution_count": 6,
   "metadata": {},
   "outputs": [],
   "source": [
    "df_male = df[(df['male'] == 1) & (df['age'] <= 50)]"
   ]
  },
  {
   "cell_type": "markdown",
   "metadata": {},
   "source": [
    "### 線形確率"
   ]
  },
  {
   "cell_type": "code",
   "execution_count": 12,
   "metadata": {},
   "outputs": [
    {
     "name": "stdout",
     "output_type": "stream",
     "text": [
      "                            OLS Regression Results                            \n",
      "==============================================================================\n",
      "Dep. Variable:                   work   R-squared:                       0.037\n",
      "Model:                            OLS   Adj. R-squared:                  0.028\n",
      "Method:                 Least Squares   F-statistic:                     1.304\n",
      "Date:                Fri, 30 Aug 2024   Prob (F-statistic):              0.253\n",
      "Time:                        16:35:20   Log-Likelihood:                 458.01\n",
      "No. Observations:                 682   AIC:                            -902.0\n",
      "Df Residuals:                     675   BIC:                            -870.3\n",
      "Df Model:                           6                                         \n",
      "Covariance Type:                  HC1                                         \n",
      "==============================================================================\n",
      "                 coef    std err          z      P>|z|      [0.025      0.975]\n",
      "------------------------------------------------------------------------------\n",
      "const          0.8349      0.073     11.511      0.000       0.693       0.977\n",
      "experience     0.0024      0.001      1.710      0.087      -0.000       0.005\n",
      "undergrad      0.0209      0.009      2.234      0.025       0.003       0.039\n",
      "grad           0.0071      0.025      0.281      0.779      -0.042       0.056\n",
      "partner        0.0839      0.056      1.498      0.134      -0.026       0.194\n",
      "under6         0.0199      0.014      1.373      0.170      -0.009       0.048\n",
      "children       0.0023      0.006      0.398      0.690      -0.009       0.014\n",
      "==============================================================================\n",
      "Omnibus:                      913.792   Durbin-Watson:                   1.999\n",
      "Prob(Omnibus):                  0.000   Jarque-Bera (JB):            87545.380\n",
      "Skew:                          -7.290   Prob(JB):                         0.00\n",
      "Kurtosis:                      56.555   Cond. No.                         162.\n",
      "==============================================================================\n",
      "\n",
      "Notes:\n",
      "[1] Standard Errors are heteroscedasticity robust (HC1)\n"
     ]
    }
   ],
   "source": [
    "X = sm.add_constant(df_male[['experience', 'undergrad', 'grad', 'partner', 'under6', 'children']])\n",
    "y = df_male['work']\n",
    "male_lm = sm.OLS(y, X).fit(cov_type='HC1')\n",
    "print(male_lm.summary())"
   ]
  },
  {
   "cell_type": "markdown",
   "metadata": {},
   "source": [
    "### プロビットモデル"
   ]
  },
  {
   "cell_type": "code",
   "execution_count": 13,
   "metadata": {},
   "outputs": [
    {
     "name": "stdout",
     "output_type": "stream",
     "text": [
      "Optimization terminated successfully.\n",
      "         Current function value: 0.070766\n",
      "         Iterations 9\n",
      "                          Probit Regression Results                           \n",
      "==============================================================================\n",
      "Dep. Variable:                   work   No. Observations:                  682\n",
      "Model:                         Probit   Df Residuals:                      675\n",
      "Method:                           MLE   Df Model:                            6\n",
      "Date:                Fri, 30 Aug 2024   Pseudo R-squ.:                  0.1429\n",
      "Time:                        16:35:39   Log-Likelihood:                -48.262\n",
      "converged:                       True   LL-Null:                       -56.309\n",
      "Covariance Type:                  HC1   LLR p-value:                   0.01326\n",
      "==============================================================================\n",
      "                 coef    std err          z      P>|z|      [0.025      0.975]\n",
      "------------------------------------------------------------------------------\n",
      "const         -0.0083      0.531     -0.016      0.988      -1.050       1.033\n",
      "experience     0.0500      0.025      1.995      0.046       0.001       0.099\n",
      "undergrad      0.6741      0.372      1.811      0.070      -0.055       1.403\n",
      "grad           0.0500      0.470      0.106      0.915      -0.871       0.971\n",
      "partner        0.7345      0.345      2.127      0.033       0.058       1.411\n",
      "under6         0.5074      0.348      1.457      0.145      -0.175       1.190\n",
      "children       0.1169      0.186      0.628      0.530      -0.248       0.482\n",
      "==============================================================================\n"
     ]
    }
   ],
   "source": [
    "male_probit = Probit(y, X).fit(cov_type='HC1')\n",
    "print(male_probit.summary())"
   ]
  },
  {
   "cell_type": "markdown",
   "metadata": {},
   "source": [
    "### プロビットモデルの限界効果"
   ]
  },
  {
   "cell_type": "code",
   "execution_count": 14,
   "metadata": {},
   "outputs": [
    {
     "name": "stdout",
     "output_type": "stream",
     "text": [
      "       Probit Marginal Effects       \n",
      "=====================================\n",
      "Dep. Variable:                   work\n",
      "Method:                          dydx\n",
      "At:                           overall\n",
      "==============================================================================\n",
      "                dy/dx    std err          z      P>|z|      [0.025      0.975]\n",
      "------------------------------------------------------------------------------\n",
      "experience     0.0018      0.001      1.873      0.061   -8.19e-05       0.004\n",
      "undergrad      0.0239      0.014      1.664      0.096      -0.004       0.052\n",
      "grad           0.0018      0.017      0.106      0.915      -0.031       0.034\n",
      "partner        0.0261      0.013      1.983      0.047       0.000       0.052\n",
      "under6         0.0180      0.013      1.380      0.168      -0.008       0.044\n",
      "children       0.0042      0.007      0.607      0.544      -0.009       0.018\n",
      "==============================================================================\n"
     ]
    }
   ],
   "source": [
    "male_probit_margins = male_probit.get_margeff()\n",
    "print(male_probit_margins.summary())"
   ]
  },
  {
   "cell_type": "markdown",
   "metadata": {},
   "source": [
    "### ロジットモデル"
   ]
  },
  {
   "cell_type": "code",
   "execution_count": 15,
   "metadata": {},
   "outputs": [
    {
     "name": "stdout",
     "output_type": "stream",
     "text": [
      "Optimization terminated successfully.\n",
      "         Current function value: 0.070411\n",
      "         Iterations 10\n",
      "                           Logit Regression Results                           \n",
      "==============================================================================\n",
      "Dep. Variable:                   work   No. Observations:                  682\n",
      "Model:                          Logit   Df Residuals:                      675\n",
      "Method:                           MLE   Df Model:                            6\n",
      "Date:                Fri, 30 Aug 2024   Pseudo R-squ.:                  0.1472\n",
      "Time:                        16:36:05   Log-Likelihood:                -48.020\n",
      "converged:                       True   LL-Null:                       -56.309\n",
      "Covariance Type:                  HC0   LLR p-value:                   0.01097\n",
      "==============================================================================\n",
      "                 coef    std err          z      P>|z|      [0.025      0.975]\n",
      "------------------------------------------------------------------------------\n",
      "const         -0.7022      1.117     -0.628      0.530      -2.892       1.488\n",
      "experience     0.1272      0.067      1.889      0.059      -0.005       0.259\n",
      "undergrad      1.7028      1.062      1.604      0.109      -0.378       3.783\n",
      "grad           0.1847      1.143      0.162      0.872      -2.056       2.425\n",
      "partner        1.6064      0.722      2.224      0.026       0.191       3.022\n",
      "under6         1.2067      0.855      1.412      0.158      -0.469       2.882\n",
      "children       0.1342      0.460      0.292      0.770      -0.767       1.036\n",
      "==============================================================================\n"
     ]
    }
   ],
   "source": [
    "male_logit = Logit(y, X).fit(cov_type='HC0')\n",
    "print(male_logit.summary())"
   ]
  },
  {
   "cell_type": "markdown",
   "metadata": {},
   "source": [
    "### ロジットモデルの限界効果"
   ]
  },
  {
   "cell_type": "code",
   "execution_count": 16,
   "metadata": {},
   "outputs": [
    {
     "name": "stdout",
     "output_type": "stream",
     "text": [
      "        Logit Marginal Effects       \n",
      "=====================================\n",
      "Dep. Variable:                   work\n",
      "Method:                          dydx\n",
      "At:                           overall\n",
      "==============================================================================\n",
      "                dy/dx    std err          z      P>|z|      [0.025      0.975]\n",
      "------------------------------------------------------------------------------\n",
      "experience     0.0019      0.001      1.798      0.072      -0.000       0.004\n",
      "undergrad      0.0256      0.017      1.477      0.140      -0.008       0.059\n",
      "grad           0.0028      0.017      0.162      0.871      -0.031       0.036\n",
      "partner        0.0241      0.012      2.029      0.042       0.001       0.047\n",
      "under6         0.0181      0.014      1.339      0.181      -0.008       0.045\n",
      "children       0.0020      0.007      0.288      0.774      -0.012       0.016\n",
      "==============================================================================\n"
     ]
    }
   ],
   "source": [
    "male_logit_margins = male_logit.get_margeff()\n",
    "print(male_logit_margins.summary())"
   ]
  },
  {
   "cell_type": "markdown",
   "metadata": {},
   "source": [
    "### 12.6節の推定結果(50歳以下の女性に限定した分析"
   ]
  },
  {
   "cell_type": "code",
   "execution_count": 18,
   "metadata": {},
   "outputs": [],
   "source": [
    "df_female = df[(df['male'] == 0) & (df['age'] <= 50)]"
   ]
  },
  {
   "cell_type": "markdown",
   "metadata": {},
   "source": [
    "### 線形確率"
   ]
  },
  {
   "cell_type": "code",
   "execution_count": 19,
   "metadata": {},
   "outputs": [
    {
     "name": "stdout",
     "output_type": "stream",
     "text": [
      "                            OLS Regression Results                            \n",
      "==============================================================================\n",
      "Dep. Variable:                   work   R-squared:                       0.201\n",
      "Model:                            OLS   Adj. R-squared:                  0.196\n",
      "Method:                 Least Squares   F-statistic:                     49.75\n",
      "Date:                Fri, 30 Aug 2024   Prob (F-statistic):           2.07e-53\n",
      "Time:                        16:36:38   Log-Likelihood:                -558.63\n",
      "No. Observations:                 976   AIC:                             1131.\n",
      "Df Residuals:                     969   BIC:                             1165.\n",
      "Df Model:                           6                                         \n",
      "Covariance Type:                  HC1                                         \n",
      "==============================================================================\n",
      "                 coef    std err          z      P>|z|      [0.025      0.975]\n",
      "------------------------------------------------------------------------------\n",
      "const          0.4893      0.062      7.924      0.000       0.368       0.610\n",
      "experience     0.0210      0.002     10.266      0.000       0.017       0.025\n",
      "undergrad      0.0264      0.037      0.705      0.481      -0.047       0.100\n",
      "grad          -0.0267      0.153     -0.175      0.861      -0.326       0.272\n",
      "partner       -0.1325      0.040     -3.300      0.001      -0.211      -0.054\n",
      "under6        -0.1990      0.034     -5.895      0.000      -0.265      -0.133\n",
      "children       0.0336      0.018      1.887      0.059      -0.001       0.068\n",
      "==============================================================================\n",
      "Omnibus:                      357.324   Durbin-Watson:                   2.047\n",
      "Prob(Omnibus):                  0.000   Jarque-Bera (JB):               66.204\n",
      "Skew:                          -0.332   Prob(JB):                     4.21e-15\n",
      "Kurtosis:                       1.910   Cond. No.                         159.\n",
      "==============================================================================\n",
      "\n",
      "Notes:\n",
      "[1] Standard Errors are heteroscedasticity robust (HC1)\n"
     ]
    }
   ],
   "source": [
    "X = sm.add_constant(df_female[['experience', 'undergrad', 'grad', 'partner', 'under6', 'children']])\n",
    "y = df_female['work']\n",
    "female_lm = sm.OLS(y, X).fit(cov_type='HC1')\n",
    "print(female_lm.summary())"
   ]
  },
  {
   "cell_type": "markdown",
   "metadata": {},
   "source": [
    "### プロビットモデル"
   ]
  },
  {
   "cell_type": "code",
   "execution_count": 20,
   "metadata": {},
   "outputs": [
    {
     "name": "stdout",
     "output_type": "stream",
     "text": [
      "Optimization terminated successfully.\n",
      "         Current function value: 0.539753\n",
      "         Iterations 5\n",
      "                          Probit Regression Results                           \n",
      "==============================================================================\n",
      "Dep. Variable:                   work   No. Observations:                  976\n",
      "Model:                         Probit   Df Residuals:                      969\n",
      "Method:                           MLE   Df Model:                            6\n",
      "Date:                Fri, 30 Aug 2024   Pseudo R-squ.:                  0.1737\n",
      "Time:                        16:36:52   Log-Likelihood:                -526.80\n",
      "converged:                       True   LL-Null:                       -637.53\n",
      "Covariance Type:                  HC0   LLR p-value:                 5.083e-45\n",
      "==============================================================================\n",
      "                 coef    std err          z      P>|z|      [0.025      0.975]\n",
      "------------------------------------------------------------------------------\n",
      "const         -0.1062      0.217     -0.489      0.625      -0.532       0.320\n",
      "experience     0.0729      0.008      9.105      0.000       0.057       0.089\n",
      "undergrad      0.0861      0.117      0.737      0.461      -0.143       0.315\n",
      "grad          -0.0768      0.428     -0.180      0.857      -0.915       0.761\n",
      "partner       -0.4521      0.163     -2.777      0.005      -0.771      -0.133\n",
      "under6        -0.5686      0.093     -6.083      0.000      -0.752      -0.385\n",
      "children       0.1086      0.058      1.889      0.059      -0.004       0.221\n",
      "==============================================================================\n"
     ]
    }
   ],
   "source": [
    "female_probit = Probit(y, X).fit(cov_type='HC0')\n",
    "print(female_probit.summary())"
   ]
  },
  {
   "cell_type": "markdown",
   "metadata": {},
   "source": [
    "### プロビットモデルの限界効果"
   ]
  },
  {
   "cell_type": "code",
   "execution_count": 21,
   "metadata": {},
   "outputs": [
    {
     "name": "stdout",
     "output_type": "stream",
     "text": [
      "       Probit Marginal Effects       \n",
      "=====================================\n",
      "Dep. Variable:                   work\n",
      "Method:                          dydx\n",
      "At:                           overall\n",
      "==============================================================================\n",
      "                dy/dx    std err          z      P>|z|      [0.025      0.975]\n",
      "------------------------------------------------------------------------------\n",
      "experience     0.0223      0.002     10.613      0.000       0.018       0.026\n",
      "undergrad      0.0264      0.036      0.738      0.460      -0.044       0.096\n",
      "grad          -0.0235      0.131     -0.180      0.857      -0.280       0.233\n",
      "partner       -0.1384      0.049     -2.822      0.005      -0.235      -0.042\n",
      "under6        -0.1741      0.027     -6.422      0.000      -0.227      -0.121\n",
      "children       0.0333      0.018      1.897      0.058      -0.001       0.068\n",
      "==============================================================================\n"
     ]
    }
   ],
   "source": [
    "female_probit_margins = female_probit.get_margeff()\n",
    "print(female_probit_margins.summary())"
   ]
  },
  {
   "cell_type": "markdown",
   "metadata": {},
   "source": [
    "### ロジットモデル"
   ]
  },
  {
   "cell_type": "code",
   "execution_count": 22,
   "metadata": {},
   "outputs": [
    {
     "name": "stdout",
     "output_type": "stream",
     "text": [
      "Optimization terminated successfully.\n",
      "         Current function value: 0.539305\n",
      "         Iterations 6\n",
      "                           Logit Regression Results                           \n",
      "==============================================================================\n",
      "Dep. Variable:                   work   No. Observations:                  976\n",
      "Model:                          Logit   Df Residuals:                      969\n",
      "Method:                           MLE   Df Model:                            6\n",
      "Date:                Fri, 30 Aug 2024   Pseudo R-squ.:                  0.1744\n",
      "Time:                        16:37:10   Log-Likelihood:                -526.36\n",
      "converged:                       True   LL-Null:                       -637.53\n",
      "Covariance Type:                  HC0   LLR p-value:                 3.307e-45\n",
      "==============================================================================\n",
      "                 coef    std err          z      P>|z|      [0.025      0.975]\n",
      "------------------------------------------------------------------------------\n",
      "const         -0.1605      0.373     -0.430      0.667      -0.892       0.571\n",
      "experience     0.1255      0.014      8.961      0.000       0.098       0.153\n",
      "undergrad      0.1517      0.194      0.782      0.434      -0.228       0.532\n",
      "grad          -0.1235      0.707     -0.175      0.861      -1.509       1.262\n",
      "partner       -0.8224      0.293     -2.803      0.005      -1.397      -0.247\n",
      "under6        -0.9302      0.155     -5.987      0.000      -1.235      -0.626\n",
      "children       0.1785      0.096      1.856      0.063      -0.010       0.367\n",
      "==============================================================================\n"
     ]
    }
   ],
   "source": [
    "female_logit = Logit(y, X).fit(cov_type='HC0')\n",
    "print(female_logit.summary())"
   ]
  },
  {
   "cell_type": "markdown",
   "metadata": {},
   "source": [
    "### ロジットモデルの限界効果"
   ]
  },
  {
   "cell_type": "code",
   "execution_count": 23,
   "metadata": {},
   "outputs": [
    {
     "name": "stdout",
     "output_type": "stream",
     "text": [
      "        Logit Marginal Effects       \n",
      "=====================================\n",
      "Dep. Variable:                   work\n",
      "Method:                          dydx\n",
      "At:                           overall\n",
      "==============================================================================\n",
      "                dy/dx    std err          z      P>|z|      [0.025      0.975]\n",
      "------------------------------------------------------------------------------\n",
      "experience     0.0228      0.002     10.713      0.000       0.019       0.027\n",
      "undergrad      0.0276      0.035      0.783      0.434      -0.041       0.097\n",
      "grad          -0.0224      0.128     -0.175      0.861      -0.274       0.229\n",
      "partner       -0.1494      0.052     -2.866      0.004      -0.252      -0.047\n",
      "under6        -0.1690      0.027     -6.366      0.000      -0.221      -0.117\n",
      "children       0.0324      0.017      1.865      0.062      -0.002       0.067\n",
      "==============================================================================\n"
     ]
    }
   ],
   "source": [
    "female_logit_margins = female_logit.get_margeff()\n",
    "print(female_logit_margins.summary())"
   ]
  }
 ],
 "metadata": {
  "kernelspec": {
   "display_name": "Python 3",
   "language": "python",
   "name": "python3"
  },
  "language_info": {
   "codemirror_mode": {
    "name": "ipython",
    "version": 3
   },
   "file_extension": ".py",
   "mimetype": "text/x-python",
   "name": "python",
   "nbconvert_exporter": "python",
   "pygments_lexer": "ipython3",
   "version": "3.12.3"
  }
 },
 "nbformat": 4,
 "nbformat_minor": 2
}
