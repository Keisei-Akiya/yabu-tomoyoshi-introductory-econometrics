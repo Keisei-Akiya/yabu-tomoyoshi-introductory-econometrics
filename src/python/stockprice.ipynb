{
 "cells": [
  {
   "cell_type": "code",
   "execution_count": 1,
   "metadata": {},
   "outputs": [],
   "source": [
    "# ライブラリをインポート\n",
    "\n",
    "# データ操作と数値計算のため\n",
    "import pandas as pd\n",
    "import numpy as np\n",
    "\n",
    "# データ可視化のため\n",
    "import matplotlib.pyplot as plt\n",
    "import seaborn as sns\n",
    "\n",
    "# 統計モデリングと計量経済分析のため\n",
    "import statsmodels.api as sm\n",
    "from statsmodels.iolib.summary2 import summary_col\n",
    "\n",
    "# for ignore warning\n",
    "import warnings\n",
    "warnings.filterwarnings('ignore')"
   ]
  },
  {
   "cell_type": "code",
   "execution_count": 2,
   "metadata": {},
   "outputs": [
    {
     "data": {
      "text/html": [
       "<div>\n",
       "<style scoped>\n",
       "    .dataframe tbody tr th:only-of-type {\n",
       "        vertical-align: middle;\n",
       "    }\n",
       "\n",
       "    .dataframe tbody tr th {\n",
       "        vertical-align: top;\n",
       "    }\n",
       "\n",
       "    .dataframe thead th {\n",
       "        text-align: right;\n",
       "    }\n",
       "</style>\n",
       "<table border=\"1\" class=\"dataframe\">\n",
       "  <thead>\n",
       "    <tr style=\"text-align: right;\">\n",
       "      <th></th>\n",
       "      <th>date</th>\n",
       "      <th>ds</th>\n",
       "      <th>ds_1</th>\n",
       "      <th>ds_2</th>\n",
       "      <th>ds_3</th>\n",
       "      <th>s_ma</th>\n",
       "      <th>time</th>\n",
       "    </tr>\n",
       "  </thead>\n",
       "  <tbody>\n",
       "    <tr>\n",
       "      <th>0</th>\n",
       "      <td>1991/1/4</td>\n",
       "      <td>0.920206</td>\n",
       "      <td>-0.384981</td>\n",
       "      <td>0.222212</td>\n",
       "      <td>0.502273</td>\n",
       "      <td>1.237905</td>\n",
       "      <td>1</td>\n",
       "    </tr>\n",
       "    <tr>\n",
       "      <th>1</th>\n",
       "      <td>1991/1/7</td>\n",
       "      <td>-1.391529</td>\n",
       "      <td>0.920206</td>\n",
       "      <td>-0.384981</td>\n",
       "      <td>0.222212</td>\n",
       "      <td>2.140071</td>\n",
       "      <td>2</td>\n",
       "    </tr>\n",
       "    <tr>\n",
       "      <th>2</th>\n",
       "      <td>1991/1/8</td>\n",
       "      <td>-3.597431</td>\n",
       "      <td>-1.391529</td>\n",
       "      <td>0.920206</td>\n",
       "      <td>-0.384981</td>\n",
       "      <td>0.714442</td>\n",
       "      <td>3</td>\n",
       "    </tr>\n",
       "    <tr>\n",
       "      <th>3</th>\n",
       "      <td>1991/1/9</td>\n",
       "      <td>0.311465</td>\n",
       "      <td>-3.597431</td>\n",
       "      <td>-1.391529</td>\n",
       "      <td>0.920206</td>\n",
       "      <td>-2.845507</td>\n",
       "      <td>4</td>\n",
       "    </tr>\n",
       "    <tr>\n",
       "      <th>4</th>\n",
       "      <td>1991/1/10</td>\n",
       "      <td>0.339399</td>\n",
       "      <td>0.311465</td>\n",
       "      <td>-3.597431</td>\n",
       "      <td>-1.391529</td>\n",
       "      <td>-2.458857</td>\n",
       "      <td>5</td>\n",
       "    </tr>\n",
       "  </tbody>\n",
       "</table>\n",
       "</div>"
      ],
      "text/plain": [
       "        date        ds      ds_1      ds_2      ds_3      s_ma  time\n",
       "0   1991/1/4  0.920206 -0.384981  0.222212  0.502273  1.237905     1\n",
       "1   1991/1/7 -1.391529  0.920206 -0.384981  0.222212  2.140071     2\n",
       "2   1991/1/8 -3.597431 -1.391529  0.920206 -0.384981  0.714442     3\n",
       "3   1991/1/9  0.311465 -3.597431 -1.391529  0.920206 -2.845507     4\n",
       "4  1991/1/10  0.339399  0.311465 -3.597431 -1.391529 -2.458857     5"
      ]
     },
     "execution_count": 2,
     "metadata": {},
     "output_type": "execute_result"
    }
   ],
   "source": [
    "url = \"https://www.fbc.keio.ac.jp/~tyabu/keiryo/stockprice_data.csv\"\n",
    "df = pd.read_csv(url)\n",
    "df.head()"
   ]
  },
  {
   "cell_type": "markdown",
   "metadata": {},
   "source": [
    "# 7.3.3節の推定"
   ]
  },
  {
   "cell_type": "code",
   "execution_count": 8,
   "metadata": {},
   "outputs": [
    {
     "name": "stdout",
     "output_type": "stream",
     "text": [
      "                            OLS Regression Results                            \n",
      "==============================================================================\n",
      "Dep. Variable:                     ds   R-squared:                       0.002\n",
      "Model:                            OLS   Adj. R-squared:                  0.001\n",
      "Method:                 Least Squares   F-statistic:                     3.332\n",
      "Date:                Thu, 08 Aug 2024   Prob (F-statistic):            0.00982\n",
      "Time:                        17:22:06   Log-Likelihood:                -12163.\n",
      "No. Observations:                6677   AIC:                         2.434e+04\n",
      "Df Residuals:                    6672   BIC:                         2.437e+04\n",
      "Df Model:                           4                                         \n",
      "Covariance Type:            nonrobust                                         \n",
      "==============================================================================\n",
      "                 coef    std err          t      P>|t|      [0.025      0.975]\n",
      "------------------------------------------------------------------------------\n",
      "const         -0.0014      0.018     -0.075      0.940      -0.037       0.035\n",
      "ds_1          -0.0347      0.013     -2.649      0.008      -0.060      -0.009\n",
      "ds_2          -0.0234      0.013     -1.801      0.072      -0.049       0.002\n",
      "ds_3          -0.0036      0.013     -0.277      0.782      -0.029       0.022\n",
      "s_ma          -0.0024      0.005     -0.483      0.629      -0.012       0.007\n",
      "==============================================================================\n",
      "Omnibus:                      835.151   Durbin-Watson:                   2.000\n",
      "Prob(Omnibus):                  0.000   Jarque-Bera (JB):             7517.261\n",
      "Skew:                          -0.268   Prob(JB):                         0.00\n",
      "Kurtosis:                       8.170   Cond. No.                         4.44\n",
      "==============================================================================\n",
      "\n",
      "Notes:\n",
      "[1] Standard Errors assume that the covariance matrix of the errors is correctly specified.\n"
     ]
    }
   ],
   "source": [
    "endog = df['ds']\n",
    "exog = df[['ds_1', 'ds_2', 'ds_3', 's_ma']]\n",
    "exog = sm.add_constant(exog)\n",
    "\n",
    "model = sm.OLS(\n",
    "    endog,\n",
    "    exog\n",
    ")\n",
    "results = model.fit()\n",
    "print(results.summary())"
   ]
  }
 ],
 "metadata": {
  "kernelspec": {
   "display_name": "Python 3",
   "language": "python",
   "name": "python3"
  },
  "language_info": {
   "codemirror_mode": {
    "name": "ipython",
    "version": 3
   },
   "file_extension": ".py",
   "mimetype": "text/x-python",
   "name": "python",
   "nbconvert_exporter": "python",
   "pygments_lexer": "ipython3",
   "version": "3.12.3"
  }
 },
 "nbformat": 4,
 "nbformat_minor": 2
}
