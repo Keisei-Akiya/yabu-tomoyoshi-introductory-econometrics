{
 "cells": [
  {
   "cell_type": "code",
   "execution_count": 15,
   "metadata": {},
   "outputs": [],
   "source": [
    "# ライブラリをインポート\n",
    "\n",
    "# データ操作と数値計算のため\n",
    "import pandas as pd\n",
    "import numpy as np\n",
    "\n",
    "# データ可視化のため\n",
    "import matplotlib.pyplot as plt\n",
    "import seaborn as sns\n",
    "\n",
    "# 統計モデリングと計量経済分析のため\n",
    "import statsmodels.api as sm\n",
    "from statsmodels.iolib.summary2 import summary_col\n",
    "\n",
    "# for ignore warning\n",
    "import warnings\n",
    "warnings.filterwarnings('ignore')"
   ]
  },
  {
   "cell_type": "code",
   "execution_count": 3,
   "metadata": {},
   "outputs": [
    {
     "data": {
      "text/html": [
       "<div>\n",
       "<style scoped>\n",
       "    .dataframe tbody tr th:only-of-type {\n",
       "        vertical-align: middle;\n",
       "    }\n",
       "\n",
       "    .dataframe tbody tr th {\n",
       "        vertical-align: top;\n",
       "    }\n",
       "\n",
       "    .dataframe thead th {\n",
       "        text-align: right;\n",
       "    }\n",
       "</style>\n",
       "<table border=\"1\" class=\"dataframe\">\n",
       "  <thead>\n",
       "    <tr style=\"text-align: right;\">\n",
       "      <th></th>\n",
       "      <th>prefecture</th>\n",
       "      <th>income</th>\n",
       "      <th>cons</th>\n",
       "      <th>age</th>\n",
       "      <th>number</th>\n",
       "      <th>house</th>\n",
       "    </tr>\n",
       "  </thead>\n",
       "  <tbody>\n",
       "    <tr>\n",
       "      <th>0</th>\n",
       "      <td>Hokkaido</td>\n",
       "      <td>37.0498</td>\n",
       "      <td>29.8903</td>\n",
       "      <td>49.0</td>\n",
       "      <td>1033</td>\n",
       "      <td>73.1</td>\n",
       "    </tr>\n",
       "    <tr>\n",
       "      <th>1</th>\n",
       "      <td>Aomori</td>\n",
       "      <td>34.0994</td>\n",
       "      <td>26.0726</td>\n",
       "      <td>49.6</td>\n",
       "      <td>334</td>\n",
       "      <td>76.2</td>\n",
       "    </tr>\n",
       "    <tr>\n",
       "      <th>2</th>\n",
       "      <td>Iwate</td>\n",
       "      <td>38.0284</td>\n",
       "      <td>31.5566</td>\n",
       "      <td>50.2</td>\n",
       "      <td>381</td>\n",
       "      <td>76.6</td>\n",
       "    </tr>\n",
       "    <tr>\n",
       "      <th>3</th>\n",
       "      <td>Miyagi</td>\n",
       "      <td>38.4490</td>\n",
       "      <td>31.8181</td>\n",
       "      <td>48.8</td>\n",
       "      <td>369</td>\n",
       "      <td>69.4</td>\n",
       "    </tr>\n",
       "    <tr>\n",
       "      <th>4</th>\n",
       "      <td>Akita</td>\n",
       "      <td>40.1957</td>\n",
       "      <td>29.2273</td>\n",
       "      <td>50.4</td>\n",
       "      <td>349</td>\n",
       "      <td>80.4</td>\n",
       "    </tr>\n",
       "  </tbody>\n",
       "</table>\n",
       "</div>"
      ],
      "text/plain": [
       "  prefecture   income     cons   age  number  house\n",
       "0   Hokkaido  37.0498  29.8903  49.0    1033   73.1\n",
       "1     Aomori  34.0994  26.0726  49.6     334   76.2\n",
       "2      Iwate  38.0284  31.5566  50.2     381   76.6\n",
       "3     Miyagi  38.4490  31.8181  48.8     369   69.4\n",
       "4      Akita  40.1957  29.2273  50.4     349   80.4"
      ]
     },
     "execution_count": 3,
     "metadata": {},
     "output_type": "execute_result"
    }
   ],
   "source": [
    "url = \"https://www.fbc.keio.ac.jp/~tyabu/keiryo/cons_data.csv\"\n",
    "df = pd.read_csv(url)\n",
    "df.head()"
   ]
  },
  {
   "cell_type": "markdown",
   "metadata": {},
   "source": [
    "# 9.4.1節の推定結果"
   ]
  },
  {
   "cell_type": "code",
   "execution_count": 16,
   "metadata": {},
   "outputs": [
    {
     "name": "stdout",
     "output_type": "stream",
     "text": [
      "                            OLS Regression Results                            \n",
      "==============================================================================\n",
      "Dep. Variable:                   cons   R-squared:                       0.744\n",
      "Model:                            OLS   Adj. R-squared:                  0.739\n",
      "Method:                 Least Squares   F-statistic:                     115.7\n",
      "Date:                Sat, 13 Jul 2024   Prob (F-statistic):           5.05e-14\n",
      "Time:                        11:50:01   Log-Likelihood:                -69.146\n",
      "No. Observations:                  47   AIC:                             142.3\n",
      "Df Residuals:                      45   BIC:                             146.0\n",
      "Df Model:                           1                                         \n",
      "Covariance Type:                  HC1                                         \n",
      "==============================================================================\n",
      "                 coef    std err          z      P>|z|      [0.025      0.975]\n",
      "------------------------------------------------------------------------------\n",
      "const          6.4900      2.218      2.927      0.003       2.144      10.836\n",
      "income         0.6103      0.057     10.756      0.000       0.499       0.721\n",
      "==============================================================================\n",
      "Omnibus:                        2.670   Durbin-Watson:                   1.837\n",
      "Prob(Omnibus):                  0.263   Jarque-Bera (JB):                1.736\n",
      "Skew:                          -0.240   Prob(JB):                        0.420\n",
      "Kurtosis:                       2.190   Cond. No.                         528.\n",
      "==============================================================================\n",
      "\n",
      "Notes:\n",
      "[1] Standard Errors are heteroscedasticity robust (HC1)\n"
     ]
    }
   ],
   "source": [
    "# ロバスト標準誤差を用いた通常のOLS推定\n",
    "endog = df['cons']            # 被説明変数\n",
    "exog = df['income']           # 説明変数\n",
    "exog = sm.add_constant(exog)  # 定数項を追加\n",
    "\n",
    "mod_ols = sm.OLS(\n",
    "    endog, # 被説明変数\n",
    "    exog   # 説明変数\n",
    ")\n",
    "res_ols = mod_ols.fit(cov_type = 'HC1') # ロバスト標準誤差を指定\n",
    "print(res_ols.summary())"
   ]
  },
  {
   "cell_type": "code",
   "execution_count": 21,
   "metadata": {},
   "outputs": [
    {
     "name": "stdout",
     "output_type": "stream",
     "text": [
      "                            WLS Regression Results                            \n",
      "==============================================================================\n",
      "Dep. Variable:                   cons   R-squared:                       0.766\n",
      "Model:                            WLS   Adj. R-squared:                  0.761\n",
      "Method:                 Least Squares   F-statistic:                     147.6\n",
      "Date:                Sat, 13 Jul 2024   Prob (F-statistic):           8.36e-16\n",
      "Time:                        11:52:11   Log-Likelihood:                -68.534\n",
      "No. Observations:                  47   AIC:                             141.1\n",
      "Df Residuals:                      45   BIC:                             144.8\n",
      "Df Model:                           1                                         \n",
      "Covariance Type:            nonrobust                                         \n",
      "==============================================================================\n",
      "                 coef    std err          t      P>|t|      [0.025      0.975]\n",
      "------------------------------------------------------------------------------\n",
      "const          5.4572      2.109      2.588      0.013       1.210       9.704\n",
      "income         0.6424      0.053     12.148      0.000       0.536       0.749\n",
      "==============================================================================\n",
      "Omnibus:                        2.010   Durbin-Watson:                   1.693\n",
      "Prob(Omnibus):                  0.366   Jarque-Bera (JB):                1.298\n",
      "Skew:                          -0.100   Prob(JB):                        0.523\n",
      "Kurtosis:                       2.211   Cond. No.                         581.\n",
      "==============================================================================\n",
      "\n",
      "Notes:\n",
      "[1] Standard Errors assume that the covariance matrix of the errors is correctly specified.\n"
     ]
    }
   ],
   "source": [
    "# 通常の標準誤差を用いたWLS推定\n",
    "mod_wls = sm.WLS(\n",
    "    endog, # 被説明変数\n",
    "    exog,  # 説明変数\n",
    "    weights = df['number'] # 重みを指定\n",
    ")\n",
    "res_wls = mod_wls.fit()\n",
    "print(res_wls.summary())"
   ]
  },
  {
   "cell_type": "code",
   "execution_count": 19,
   "metadata": {},
   "outputs": [
    {
     "name": "stdout",
     "output_type": "stream",
     "text": [
      "                            WLS Regression Results                            \n",
      "==============================================================================\n",
      "Dep. Variable:                   cons   R-squared:                       0.766\n",
      "Model:                            WLS   Adj. R-squared:                  0.761\n",
      "Method:                 Least Squares   F-statistic:                     126.9\n",
      "Date:                Sat, 13 Jul 2024   Prob (F-statistic):           1.10e-14\n",
      "Time:                        11:52:05   Log-Likelihood:                -68.534\n",
      "No. Observations:                  47   AIC:                             141.1\n",
      "Df Residuals:                      45   BIC:                             144.8\n",
      "Df Model:                           1                                         \n",
      "Covariance Type:                  HC1                                         \n",
      "==============================================================================\n",
      "                 coef    std err          z      P>|z|      [0.025      0.975]\n",
      "------------------------------------------------------------------------------\n",
      "const          5.4572      2.225      2.453      0.014       1.097       9.817\n",
      "income         0.6424      0.057     11.264      0.000       0.531       0.754\n",
      "==============================================================================\n",
      "Omnibus:                        2.010   Durbin-Watson:                   1.693\n",
      "Prob(Omnibus):                  0.366   Jarque-Bera (JB):                1.298\n",
      "Skew:                          -0.100   Prob(JB):                        0.523\n",
      "Kurtosis:                       2.211   Cond. No.                         581.\n",
      "==============================================================================\n",
      "\n",
      "Notes:\n",
      "[1] Standard Errors are heteroscedasticity robust (HC1)\n"
     ]
    }
   ],
   "source": [
    "# ロバスト標準誤差を用いたWLS推定\n",
    "mod_wls_robust = sm.WLS(\n",
    "    endog, # 被説明変数\n",
    "    exog,  # 説明変数\n",
    "    weights = df['number'] # 重みを指定\n",
    ")\n",
    "res_wls_robust = mod_wls.fit(cov_type = 'HC1') # ロバスト標準誤差を指定\n",
    "print(res_wls_robust.summary())"
   ]
  },
  {
   "cell_type": "code",
   "execution_count": 25,
   "metadata": {},
   "outputs": [
    {
     "name": "stdout",
     "output_type": "stream",
     "text": [
      "\n",
      "============================================\n",
      "                 ols      wls    wls(robust)\n",
      "--------------------------------------------\n",
      "const          6.490*** 5.457**  5.457**    \n",
      "               (2.218)  (2.109)  (2.225)    \n",
      "income         0.610*** 0.642*** 0.642***   \n",
      "               (0.057)  (0.053)  (0.057)    \n",
      "R-squared      0.744    0.766    0.766      \n",
      "R-squared Adj. 0.739    0.761    0.761      \n",
      "N              47       47       47         \n",
      "============================================\n",
      "Standard errors in parentheses.\n",
      "* p<.1, ** p<.05, ***p<.01\n"
     ]
    }
   ],
   "source": [
    "# 推定結果を1つの表にまとめる．\n",
    "results_table = summary_col(\n",
    "    results = [\n",
    "        res_ols,\n",
    "        res_wls,\n",
    "        res_wls_robust\n",
    "    ],\n",
    "    model_names = [\n",
    "        'ols',\n",
    "        'wls',\n",
    "        'wls(robust)'\n",
    "    ],\n",
    "    stars = True,\n",
    "    float_format = '%0.3f',\n",
    "    info_dict = {\n",
    "        'N':lambda x: \"{0:d}\".format(int(x.nobs))\n",
    "    }\n",
    ")\n",
    "\n",
    "print(results_table)"
   ]
  }
 ],
 "metadata": {
  "kernelspec": {
   "display_name": "Python 3",
   "language": "python",
   "name": "python3"
  },
  "language_info": {
   "codemirror_mode": {
    "name": "ipython",
    "version": 3
   },
   "file_extension": ".py",
   "mimetype": "text/x-python",
   "name": "python",
   "nbconvert_exporter": "python",
   "pygments_lexer": "ipython3",
   "version": "3.12.3"
  }
 },
 "nbformat": 4,
 "nbformat_minor": 2
}
