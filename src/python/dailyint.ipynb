{
 "cells": [
  {
   "cell_type": "code",
   "execution_count": 21,
   "metadata": {},
   "outputs": [],
   "source": [
    "# ライブラリをインポート\n",
    "\n",
    "# データ操作と数値計算のため\n",
    "import pandas as pd\n",
    "import numpy as np\n",
    "\n",
    "# データ可視化のため\n",
    "import matplotlib.pyplot as plt\n",
    "import seaborn as sns\n",
    "\n",
    "# 統計モデリングと計量経済分析のため\n",
    "import statsmodels.api as sm\n",
    "from statsmodels.iolib.summary2 import summary_col\n",
    "\n",
    "# for ignore warning\n",
    "import warnings\n",
    "warnings.filterwarnings('ignore')"
   ]
  },
  {
   "cell_type": "code",
   "execution_count": 2,
   "metadata": {},
   "outputs": [
    {
     "data": {
      "text/html": [
       "<div>\n",
       "<style scoped>\n",
       "    .dataframe tbody tr th:only-of-type {\n",
       "        vertical-align: middle;\n",
       "    }\n",
       "\n",
       "    .dataframe tbody tr th {\n",
       "        vertical-align: top;\n",
       "    }\n",
       "\n",
       "    .dataframe thead th {\n",
       "        text-align: right;\n",
       "    }\n",
       "</style>\n",
       "<table border=\"1\" class=\"dataframe\">\n",
       "  <thead>\n",
       "    <tr style=\"text-align: right;\">\n",
       "      <th></th>\n",
       "      <th>date</th>\n",
       "      <th>spot</th>\n",
       "      <th>intervention</th>\n",
       "    </tr>\n",
       "  </thead>\n",
       "  <tbody>\n",
       "    <tr>\n",
       "      <th>0</th>\n",
       "      <td>1991-04-01</td>\n",
       "      <td>139.30</td>\n",
       "      <td>0.0</td>\n",
       "    </tr>\n",
       "    <tr>\n",
       "      <th>1</th>\n",
       "      <td>1991-04-02</td>\n",
       "      <td>137.90</td>\n",
       "      <td>0.0</td>\n",
       "    </tr>\n",
       "    <tr>\n",
       "      <th>2</th>\n",
       "      <td>1991-04-03</td>\n",
       "      <td>137.38</td>\n",
       "      <td>0.0</td>\n",
       "    </tr>\n",
       "    <tr>\n",
       "      <th>3</th>\n",
       "      <td>1991-04-04</td>\n",
       "      <td>135.95</td>\n",
       "      <td>0.0</td>\n",
       "    </tr>\n",
       "    <tr>\n",
       "      <th>4</th>\n",
       "      <td>1991-04-05</td>\n",
       "      <td>136.60</td>\n",
       "      <td>0.0</td>\n",
       "    </tr>\n",
       "  </tbody>\n",
       "</table>\n",
       "</div>"
      ],
      "text/plain": [
       "        date    spot  intervention\n",
       "0 1991-04-01  139.30           0.0\n",
       "1 1991-04-02  137.90           0.0\n",
       "2 1991-04-03  137.38           0.0\n",
       "3 1991-04-04  135.95           0.0\n",
       "4 1991-04-05  136.60           0.0"
      ]
     },
     "execution_count": 2,
     "metadata": {},
     "output_type": "execute_result"
    }
   ],
   "source": [
    "url = \"https://www.fbc.keio.ac.jp/~tyabu/keiryo/dailyint_data.csv\"\n",
    "df = pd.read_csv(url)\n",
    "df['date'] = pd.to_datetime(df['date'], format='%m/%d/%Y')\n",
    "df = df.dropna()\n",
    "df.head()"
   ]
  },
  {
   "cell_type": "code",
   "execution_count": 3,
   "metadata": {},
   "outputs": [
    {
     "data": {
      "text/html": [
       "<div>\n",
       "<style scoped>\n",
       "    .dataframe tbody tr th:only-of-type {\n",
       "        vertical-align: middle;\n",
       "    }\n",
       "\n",
       "    .dataframe tbody tr th {\n",
       "        vertical-align: top;\n",
       "    }\n",
       "\n",
       "    .dataframe thead th {\n",
       "        text-align: right;\n",
       "    }\n",
       "</style>\n",
       "<table border=\"1\" class=\"dataframe\">\n",
       "  <thead>\n",
       "    <tr style=\"text-align: right;\">\n",
       "      <th></th>\n",
       "      <th>date</th>\n",
       "      <th>spot</th>\n",
       "      <th>intervention</th>\n",
       "    </tr>\n",
       "  </thead>\n",
       "  <tbody>\n",
       "    <tr>\n",
       "      <th>count</th>\n",
       "      <td>3055</td>\n",
       "      <td>3055.000000</td>\n",
       "      <td>3055.000000</td>\n",
       "    </tr>\n",
       "    <tr>\n",
       "      <th>mean</th>\n",
       "      <td>1997-02-10 05:24:45.957446912</td>\n",
       "      <td>116.043676</td>\n",
       "      <td>-76.739771</td>\n",
       "    </tr>\n",
       "    <tr>\n",
       "      <th>min</th>\n",
       "      <td>1991-04-01 00:00:00</td>\n",
       "      <td>80.620000</td>\n",
       "      <td>-14059.000000</td>\n",
       "    </tr>\n",
       "    <tr>\n",
       "      <th>25%</th>\n",
       "      <td>1994-03-05 12:00:00</td>\n",
       "      <td>106.440000</td>\n",
       "      <td>0.000000</td>\n",
       "    </tr>\n",
       "    <tr>\n",
       "      <th>50%</th>\n",
       "      <td>1997-02-10 00:00:00</td>\n",
       "      <td>116.900000</td>\n",
       "      <td>0.000000</td>\n",
       "    </tr>\n",
       "    <tr>\n",
       "      <th>75%</th>\n",
       "      <td>2000-01-18 12:00:00</td>\n",
       "      <td>124.695000</td>\n",
       "      <td>0.000000</td>\n",
       "    </tr>\n",
       "    <tr>\n",
       "      <th>max</th>\n",
       "      <td>2002-12-31 00:00:00</td>\n",
       "      <td>147.200000</td>\n",
       "      <td>26201.000000</td>\n",
       "    </tr>\n",
       "    <tr>\n",
       "      <th>std</th>\n",
       "      <td>NaN</td>\n",
       "      <td>12.711133</td>\n",
       "      <td>883.624841</td>\n",
       "    </tr>\n",
       "  </tbody>\n",
       "</table>\n",
       "</div>"
      ],
      "text/plain": [
       "                                date         spot  intervention\n",
       "count                           3055  3055.000000   3055.000000\n",
       "mean   1997-02-10 05:24:45.957446912   116.043676    -76.739771\n",
       "min              1991-04-01 00:00:00    80.620000 -14059.000000\n",
       "25%              1994-03-05 12:00:00   106.440000      0.000000\n",
       "50%              1997-02-10 00:00:00   116.900000      0.000000\n",
       "75%              2000-01-18 12:00:00   124.695000      0.000000\n",
       "max              2002-12-31 00:00:00   147.200000  26201.000000\n",
       "std                              NaN    12.711133    883.624841"
      ]
     },
     "execution_count": 3,
     "metadata": {},
     "output_type": "execute_result"
    }
   ],
   "source": [
    "df.describe()"
   ]
  },
  {
   "cell_type": "markdown",
   "metadata": {},
   "source": [
    "# 変数の定義\n",
    "ドル円レートは変化率に、介入額(単位億円)は介入額(単位兆円)に変換"
   ]
  },
  {
   "cell_type": "code",
   "execution_count": 4,
   "metadata": {},
   "outputs": [
    {
     "data": {
      "text/html": [
       "<div>\n",
       "<style scoped>\n",
       "    .dataframe tbody tr th:only-of-type {\n",
       "        vertical-align: middle;\n",
       "    }\n",
       "\n",
       "    .dataframe tbody tr th {\n",
       "        vertical-align: top;\n",
       "    }\n",
       "\n",
       "    .dataframe thead th {\n",
       "        text-align: right;\n",
       "    }\n",
       "</style>\n",
       "<table border=\"1\" class=\"dataframe\">\n",
       "  <thead>\n",
       "    <tr style=\"text-align: right;\">\n",
       "      <th></th>\n",
       "      <th>date</th>\n",
       "      <th>spot</th>\n",
       "      <th>intervention</th>\n",
       "      <th>ds</th>\n",
       "      <th>intj</th>\n",
       "    </tr>\n",
       "  </thead>\n",
       "  <tbody>\n",
       "    <tr>\n",
       "      <th>1</th>\n",
       "      <td>1991-04-02</td>\n",
       "      <td>137.90</td>\n",
       "      <td>0.0</td>\n",
       "      <td>-1.010110</td>\n",
       "      <td>0.0</td>\n",
       "    </tr>\n",
       "    <tr>\n",
       "      <th>2</th>\n",
       "      <td>1991-04-03</td>\n",
       "      <td>137.38</td>\n",
       "      <td>0.0</td>\n",
       "      <td>-0.377798</td>\n",
       "      <td>0.0</td>\n",
       "    </tr>\n",
       "    <tr>\n",
       "      <th>3</th>\n",
       "      <td>1991-04-04</td>\n",
       "      <td>135.95</td>\n",
       "      <td>0.0</td>\n",
       "      <td>-1.046364</td>\n",
       "      <td>0.0</td>\n",
       "    </tr>\n",
       "    <tr>\n",
       "      <th>4</th>\n",
       "      <td>1991-04-05</td>\n",
       "      <td>136.60</td>\n",
       "      <td>0.0</td>\n",
       "      <td>0.476978</td>\n",
       "      <td>0.0</td>\n",
       "    </tr>\n",
       "    <tr>\n",
       "      <th>5</th>\n",
       "      <td>1991-04-08</td>\n",
       "      <td>137.10</td>\n",
       "      <td>0.0</td>\n",
       "      <td>0.365364</td>\n",
       "      <td>0.0</td>\n",
       "    </tr>\n",
       "  </tbody>\n",
       "</table>\n",
       "</div>"
      ],
      "text/plain": [
       "        date    spot  intervention        ds  intj\n",
       "1 1991-04-02  137.90           0.0 -1.010110   0.0\n",
       "2 1991-04-03  137.38           0.0 -0.377798   0.0\n",
       "3 1991-04-04  135.95           0.0 -1.046364   0.0\n",
       "4 1991-04-05  136.60           0.0  0.476978   0.0\n",
       "5 1991-04-08  137.10           0.0  0.365364   0.0"
      ]
     },
     "execution_count": 4,
     "metadata": {},
     "output_type": "execute_result"
    }
   ],
   "source": [
    "df['ds'] = 100 * ((np.log(df['spot'])) - np.log(df['spot'].shift()))\n",
    "df['intj'] = df['intervention'] / 10000\n",
    "df = df.dropna()\n",
    "df.head()"
   ]
  },
  {
   "cell_type": "markdown",
   "metadata": {},
   "source": [
    "# 7.4.2節の推定結果\n",
    "supF検定と構造変化日の特定"
   ]
  },
  {
   "cell_type": "code",
   "execution_count": 5,
   "metadata": {},
   "outputs": [
    {
     "name": "stdout",
     "output_type": "stream",
     "text": [
      "                            OLS Regression Results                            \n",
      "==============================================================================\n",
      "Dep. Variable:                     ds   R-squared:                       0.015\n",
      "Model:                            OLS   Adj. R-squared:                  0.015\n",
      "Method:                 Least Squares   F-statistic:                     47.68\n",
      "Date:                Sun, 22 Sep 2024   Prob (F-statistic):           6.06e-12\n",
      "Time:                        00:01:52   Log-Likelihood:                -3318.5\n",
      "No. Observations:                3054   AIC:                             6641.\n",
      "Df Residuals:                    3052   BIC:                             6653.\n",
      "Df Model:                           1                                         \n",
      "Covariance Type:            nonrobust                                         \n",
      "==============================================================================\n",
      "                 coef    std err          t      P>|t|      [0.025      0.975]\n",
      "------------------------------------------------------------------------------\n",
      "const         -0.0130      0.013     -1.000      0.318      -0.039       0.013\n",
      "intj          -1.0146      0.147     -6.905      0.000      -1.303      -0.727\n",
      "==============================================================================\n",
      "Omnibus:                      590.536   Durbin-Watson:                   1.956\n",
      "Prob(Omnibus):                  0.000   Jarque-Bera (JB):             4986.306\n",
      "Skew:                          -0.674   Prob(JB):                         0.00\n",
      "Kurtosis:                       9.113   Cond. No.                         11.3\n",
      "==============================================================================\n",
      "\n",
      "Notes:\n",
      "[1] Standard Errors assume that the covariance matrix of the errors is correctly specified.\n"
     ]
    }
   ],
   "source": [
    "endog = df['ds']\n",
    "exog = df['intj']\n",
    "exog = sm.add_constant(exog)\n",
    "\n",
    "model_1 = sm.OLS(endog, exog)\n",
    "results_1 = model_1.fit()\n",
    "print(results_1.summary())"
   ]
  },
  {
   "cell_type": "code",
   "execution_count": 11,
   "metadata": {},
   "outputs": [
    {
     "name": "stdout",
     "output_type": "stream",
     "text": [
      "構造変化点: 1998-10-01 00:00:00\n",
      "supF統計量: 5.14\n"
     ]
    },
    {
     "data": {
      "image/png": "[encoded data removed]",
      "text/plain": [
       "<Figure size 1200x600 with 1 Axes>"
      ]
     },
     "metadata": {},
     "output_type": "display_data"
    }
   ],
   "source": [
    "# 構造変化点の候補を計算する\n",
    "T = len(df)\n",
    "T_min = round(0.15 * T)\n",
    "T_max = round((1 - 0.15) * T)\n",
    "\n",
    "# F統計量を格納するデータフレームを作成\n",
    "df_f_stat = pd.DataFrame(columns=columns)\n",
    "\n",
    "# 帰無仮説が正しいという前提で推定\n",
    "endog = df['ds']\n",
    "exog = df['intj']\n",
    "exog = sm.add_constant(exog)\n",
    "H_0 = sm.OLS(endog, exog).fit()\n",
    "ssr_0 = np.sum(H_0.resid**2)\n",
    "\n",
    "# 構造変化点の候補を一つずつ試す\n",
    "for T_B in range(T_min, T_max + 1):\n",
    "    T_B_date = df.iloc[T_B - 1]['date']\n",
    "    df['d'] = (df['date'] > T_B_date).astype(int)\n",
    "    df['d_intj'] = df['d'] * df['ds'].shift()\n",
    "    df_supf = df.dropna()\n",
    "\n",
    "    # 対立仮説が正しいという前提で推定\n",
    "    endog = df_supf['ds']\n",
    "    exog = df_supf[['intj', 'd', 'd_intj']]\n",
    "    exog = sm.add_constant(exog)\n",
    "    H_1 = sm.OLS(endog, exog).fit()\n",
    "    ssr_1 = np.sum(H_1.resid**2)\n",
    "\n",
    "    # F統計量を計算する\n",
    "    K = 1\n",
    "    f_stat = (ssr_0 - ssr_1) / (K + 1) / ssr_1 * (T - 2 * (K + 1))\n",
    "\n",
    "    new_f_stat = pd.Series([T_B_date, f_stat], index=df_f_stat.columns)\n",
    "    df_f_stat = pd.concat([df_f_stat, new_f_stat.to_frame().T], ignore_index=True)\n",
    "\n",
    "# 最大値を求める\n",
    "sup_f_stat = df_f_stat['f_stat'].max()\n",
    "structural_break_point = df_f_stat.loc[df_f_stat['f_stat'].idxmax(), 'date']\n",
    "print(f'構造変化点: {structural_break_point}')\n",
    "print(f'supF統計量: {sup_f_stat:.02f}')\n",
    "\n",
    "# wald統計量の推移をプロット\n",
    "plt.figure(figsize=(12, 6))\n",
    "plt.plot(df_f_stat['date'], df_f_stat['f_stat'])\n",
    "plt.xlabel('date')\n",
    "plt.ylabel('F-stat')\n",
    "\n",
    "current_ymin, current_ymax = plt.ylim()\n",
    "plt.ylim(current_ymin, current_ymax * 1.2)\n",
    "\n",
    "# 最大値の位置にテキストで値を表示\n",
    "plt.annotate(\n",
    "    f'sup F = {sup_f_stat:.2f}',\n",
    "    xy=(structural_break_point, sup_f_stat),\n",
    "    xytext=(10, 10),\n",
    "    textcoords='offset points',\n",
    "    arrowprops=dict(arrowstyle='->', connectionstyle='arc3,rad=0')\n",
    ")\n",
    "plt.show()\n",
    "\n",
    "# 構造変化点を表示\n",
    "# df_f_stat[df_f_stat['f_stat'] >= 33.8]"
   ]
  },
  {
   "cell_type": "code",
   "execution_count": 6,
   "metadata": {},
   "outputs": [],
   "source": [
    "# F統計量を格納するデータフレームを作成\n",
    "columns = ['date', 'f_stat']\n",
    "df_f_stat = pd.DataFrame(columns=columns)"
   ]
  },
  {
   "cell_type": "code",
   "execution_count": 7,
   "metadata": {},
   "outputs": [
    {
     "ename": "NameError",
     "evalue": "name 'df_supf' is not defined",
     "output_type": "error",
     "traceback": [
      "\u001b[0;31m---------------------------------------------------------------------------\u001b[0m",
      "\u001b[0;31mNameError\u001b[0m                                 Traceback (most recent call last)",
      "Cell \u001b[0;32mIn[7], line 2\u001b[0m\n\u001b[1;32m      1\u001b[0m \u001b[38;5;66;03m# 帰無仮説が正しいという前提で推定\u001b[39;00m\n\u001b[0;32m----> 2\u001b[0m endog \u001b[38;5;241m=\u001b[39m \u001b[43mdf_supf\u001b[49m[\u001b[38;5;124m'\u001b[39m\u001b[38;5;124mds\u001b[39m\u001b[38;5;124m'\u001b[39m]         \u001b[38;5;66;03m# 被説明変数\u001b[39;00m\n\u001b[1;32m      3\u001b[0m exog \u001b[38;5;241m=\u001b[39m df_supf[\u001b[38;5;124m'\u001b[39m\u001b[38;5;124mintj\u001b[39m\u001b[38;5;124m'\u001b[39m]      \u001b[38;5;66;03m# 説明変数\u001b[39;00m\n\u001b[1;32m      4\u001b[0m exog \u001b[38;5;241m=\u001b[39m sm\u001b[38;5;241m.\u001b[39madd_constant(exog) \u001b[38;5;66;03m# 定数項を追加\u001b[39;00m\n",
      "\u001b[0;31mNameError\u001b[0m: name 'df_supf' is not defined"
     ]
    }
   ],
   "source": [
    "# 帰無仮説が正しいという前提で推定\n",
    "endog = df_supf['ds']         # 被説明変数\n",
    "exog = df_supf['intj']      # 説明変数\n",
    "exog = sm.add_constant(exog) # 定数項を追加\n",
    "H_0 = sm.OLS(endog, exog).fit()\n",
    "ssr_0 = np.sum(H_0.resid**2) # 残差２乗和を取得"
   ]
  },
  {
   "cell_type": "code",
   "execution_count": 66,
   "metadata": {},
   "outputs": [
    {
     "name": "stdout",
     "output_type": "stream",
     "text": [
      "構造変化点の候補の始期:1992-12-31 00:00:00\n",
      "構造変化点の候補の終期:2001-03-26 00:00:00\n",
      "[458, 459, 460, 461, 462, 463, 464, 465, 466, 467, 468, 469, 470, 471, 472, 473, 474, 475, 476, 477, 478, 479, 480, 481, 482, 483, 484, 485, 486, 487, 488, 489, 490, 491, 492, 493, 494, 495, 496, 497, 498, 499, 500, 501, 502, 503, 504, 505, 506, 507, 508, 509, 510, 511, 512, 513, 514, 515, 516, 517, 518, 519, 520, 521, 522, 523, 524, 525, 526, 527, 528, 529, 530, 531, 532, 533, 534, 535, 536, 537, 538, 539, 540, 541, 542, 543, 544, 545, 546, 547, 548, 549, 550, 551, 552, 553, 554, 555, 556, 557, 558, 559, 560, 561, 562, 563, 564, 565, 566, 567, 568, 569, 570, 571, 572, 573, 574, 575, 576, 577, 578, 579, 580, 581, 582, 583, 584, 585, 586, 587, 588, 589, 590, 591, 592, 593, 594, 595, 596, 597, 598, 599, 600, 601, 602, 603, 604, 605, 606, 607, 608, 609, 610, 611, 612, 613, 614, 615, 616, 617, 618, 619, 620, 621, 622, 623, 624, 625, 626, 627, 628, 629, 630, 631, 632, 633, 634, 635, 636, 637, 638, 639, 640, 641, 642, 643, 644, 645, 646, 647, 648, 649, 650, 651, 652, 653, 654, 655, 656, 657, 658, 659, 660, 661, 662, 663, 664, 665, 666, 667, 668, 669, 670, 671, 672, 673, 674, 675, 676, 677, 678, 679, 680, 681, 682, 683, 684, 685, 686, 687, 688, 689, 690, 691, 692, 693, 694, 695, 696, 697, 698, 699, 700, 701, 702, 703, 704, 705, 706, 707, 708, 709, 710, 711, 712, 713, 714, 715, 716, 717, 718, 719, 720, 721, 722, 723, 724, 725, 726, 727, 728, 729, 730, 731, 732, 733, 734, 735, 736, 737, 738, 739, 740, 741, 742, 743, 744, 745, 746, 747, 748, 749, 750, 751, 752, 753, 754, 755, 756, 757, 758, 759, 760, 761, 762, 763, 764, 765, 766, 767, 768, 769, 770, 771, 772, 773, 774, 775, 776, 777, 778, 779, 780, 781, 782, 783, 784, 785, 786, 787, 788, 789, 790, 791, 792, 793, 794, 795, 796, 797, 798, 799, 800, 801, 802, 803, 804, 805, 806, 807, 808, 809, 810, 811, 812, 813, 814, 815, 816, 817, 818, 819, 820, 821, 822, 823, 824, 825, 826, 827, 828, 829, 830, 831, 832, 833, 834, 835, 836, 837, 838, 839, 840, 841, 842, 843, 844, 845, 846, 847, 848, 849, 850, 851, 852, 853, 854, 855, 856, 857, 858, 859, 860, 861, 862, 863, 864, 865, 866, 867, 868, 869, 870, 871, 872, 873, 874, 875, 876, 877, 878, 879, 880, 881, 882, 883, 884, 885, 886, 887, 888, 889, 890, 891, 892, 893, 894, 895, 896, 897, 898, 899, 900, 901, 902, 903, 904, 905, 906, 907, 908, 909, 910, 911, 912, 913, 914, 915, 916, 917, 918, 919, 920, 921, 922, 923, 924, 925, 926, 927, 928, 929, 930, 931, 932, 933, 934, 935, 936, 937, 938, 939, 940, 941, 942, 943, 944, 945, 946, 947, 948, 949, 950, 951, 952, 953, 954, 955, 956, 957, 958, 959, 960, 961, 962, 963, 964, 965, 966, 967, 968, 969, 970, 971, 972, 973, 974, 975, 976, 977, 978, 979, 980, 981, 982, 983, 984, 985, 986, 987, 988, 989, 990, 991, 992, 993, 994, 995, 996, 997, 998, 999, 1000, 1001, 1002, 1003, 1004, 1005, 1006, 1007, 1008, 1009, 1010, 1011, 1012, 1013, 1014, 1015, 1016, 1017, 1018, 1019, 1020, 1021, 1022, 1023, 1024, 1025, 1026, 1027, 1028, 1029, 1030, 1031, 1032, 1033, 1034, 1035, 1036, 1037, 1038, 1039, 1040, 1041, 1042, 1043, 1044, 1045, 1046, 1047, 1048, 1049, 1050, 1051, 1052, 1053, 1054, 1055, 1056, 1057, 1058, 1059, 1060, 1061, 1062, 1063, 1064, 1065, 1066, 1067, 1068, 1069, 1070, 1071, 1072, 1073, 1074, 1075, 1076, 1077, 1078, 1079, 1080, 1081, 1082, 1083, 1084, 1085, 1086, 1087, 1088, 1089, 1090, 1091, 1092, 1093, 1094, 1095, 1096, 1097, 1098, 1099, 1100, 1101, 1102, 1103, 1104, 1105, 1106, 1107, 1108, 1109, 1110, 1111, 1112, 1113, 1114, 1115, 1116, 1117, 1118, 1119, 1120, 1121, 1122, 1123, 1124, 1125, 1126, 1127, 1128, 1129, 1130, 1131, 1132, 1133, 1134, 1135, 1136, 1137, 1138, 1139, 1140, 1141, 1142, 1143, 1144, 1145, 1146, 1147, 1148, 1149, 1150, 1151, 1152, 1153, 1154, 1155, 1156, 1157, 1158, 1159, 1160, 1161, 1162, 1163, 1164, 1165, 1166, 1167, 1168, 1169, 1170, 1171, 1172, 1173, 1174, 1175, 1176, 1177, 1178, 1179, 1180, 1181, 1182, 1183, 1184, 1185, 1186, 1187, 1188, 1189, 1190, 1191, 1192, 1193, 1194, 1195, 1196, 1197, 1198, 1199, 1200, 1201, 1202, 1203, 1204, 1205, 1206, 1207, 1208, 1209, 1210, 1211, 1212, 1213, 1214, 1215, 1216, 1217, 1218, 1219, 1220, 1221, 1222, 1223, 1224, 1225, 1226, 1227, 1228, 1229, 1230, 1231, 1232, 1233, 1234, 1235, 1236, 1237, 1238, 1239, 1240, 1241, 1242, 1243, 1244, 1245, 1246, 1247, 1248, 1249, 1250, 1251, 1252, 1253, 1254, 1255, 1256, 1257, 1258, 1259, 1260, 1261, 1262, 1263, 1264, 1265, 1266, 1267, 1268, 1269, 1270, 1271, 1272, 1273, 1274, 1275, 1276, 1277, 1278, 1279, 1280, 1281, 1282, 1283, 1284, 1285, 1286, 1287, 1288, 1289, 1290, 1291, 1292, 1293, 1294, 1295, 1296, 1297, 1298, 1299, 1300, 1301, 1302, 1303, 1304, 1305, 1306, 1307, 1308, 1309, 1310, 1311, 1312, 1313, 1314, 1315, 1316, 1317, 1318, 1319, 1320, 1321, 1322, 1323, 1324, 1325, 1326, 1327, 1328, 1329, 1330, 1331, 1332, 1333, 1334, 1335, 1336, 1337, 1338, 1339, 1340, 1341, 1342, 1343, 1344, 1345, 1346, 1347, 1348, 1349, 1350, 1351, 1352, 1353, 1354, 1355, 1356, 1357, 1358, 1359, 1360, 1361, 1362, 1363, 1364, 1365, 1366, 1367, 1368, 1369, 1370, 1371, 1372, 1373, 1374, 1375, 1376, 1377, 1378, 1379, 1380, 1381, 1382, 1383, 1384, 1385, 1386, 1387, 1388, 1389, 1390, 1391, 1392, 1393, 1394, 1395, 1396, 1397, 1398, 1399, 1400, 1401, 1402, 1403, 1404, 1405, 1406, 1407, 1408, 1409, 1410, 1411, 1412, 1413, 1414, 1415, 1416, 1417, 1418, 1419, 1420, 1421, 1422, 1423, 1424, 1425, 1426, 1427, 1428, 1429, 1430, 1431, 1432, 1433, 1434, 1435, 1436, 1437, 1438, 1439, 1440, 1441, 1442, 1443, 1444, 1445, 1446, 1447, 1448, 1449, 1450, 1451, 1452, 1453, 1454, 1455, 1456, 1457, 1458, 1459, 1460, 1461, 1462, 1463, 1464, 1465, 1466, 1467, 1468, 1469, 1470, 1471, 1472, 1473, 1474, 1475, 1476, 1477, 1478, 1479, 1480, 1481, 1482, 1483, 1484, 1485, 1486, 1487, 1488, 1489, 1490, 1491, 1492, 1493, 1494, 1495, 1496, 1497, 1498, 1499, 1500, 1501, 1502, 1503, 1504, 1505, 1506, 1507, 1508, 1509, 1510, 1511, 1512, 1513, 1514, 1515, 1516, 1517, 1518, 1519, 1520, 1521, 1522, 1523, 1524, 1525, 1526, 1527, 1528, 1529, 1530, 1531, 1532, 1533, 1534, 1535, 1536, 1537, 1538, 1539, 1540, 1541, 1542, 1543, 1544, 1545, 1546, 1547, 1548, 1549, 1550, 1551, 1552, 1553, 1554, 1555, 1556, 1557, 1558, 1559, 1560, 1561, 1562, 1563, 1564, 1565, 1566, 1567, 1568, 1569, 1570, 1571, 1572, 1573, 1574, 1575, 1576, 1577, 1578, 1579, 1580, 1581, 1582, 1583, 1584, 1585, 1586, 1587, 1588, 1589, 1590, 1591, 1592, 1593, 1594, 1595, 1596, 1597, 1598, 1599, 1600, 1601, 1602, 1603, 1604, 1605, 1606, 1607, 1608, 1609, 1610, 1611, 1612, 1613, 1614, 1615, 1616, 1617, 1618, 1619, 1620, 1621, 1622, 1623, 1624, 1625, 1626, 1627, 1628, 1629, 1630, 1631, 1632, 1633, 1634, 1635, 1636, 1637, 1638, 1639, 1640, 1641, 1642, 1643, 1644, 1645, 1646, 1647, 1648, 1649, 1650, 1651, 1652, 1653, 1654, 1655, 1656, 1657, 1658, 1659, 1660, 1661, 1662, 1663, 1664, 1665, 1666, 1667, 1668, 1669, 1670, 1671, 1672, 1673, 1674, 1675, 1676, 1677, 1678, 1679, 1680, 1681, 1682, 1683, 1684, 1685, 1686, 1687, 1688, 1689, 1690, 1691, 1692, 1693, 1694, 1695, 1696, 1697, 1698, 1699, 1700, 1701, 1702, 1703, 1704, 1705, 1706, 1707, 1708, 1709, 1710, 1711, 1712, 1713, 1714, 1715, 1716, 1717, 1718, 1719, 1720, 1721, 1722, 1723, 1724, 1725, 1726, 1727, 1728, 1729, 1730, 1731, 1732, 1733, 1734, 1735, 1736, 1737, 1738, 1739, 1740, 1741, 1742, 1743, 1744, 1745, 1746, 1747, 1748, 1749, 1750, 1751, 1752, 1753, 1754, 1755, 1756, 1757, 1758, 1759, 1760, 1761, 1762, 1763, 1764, 1765, 1766, 1767, 1768, 1769, 1770, 1771, 1772, 1773, 1774, 1775, 1776, 1777, 1778, 1779, 1780, 1781, 1782, 1783, 1784, 1785, 1786, 1787, 1788, 1789, 1790, 1791, 1792, 1793, 1794, 1795, 1796, 1797, 1798, 1799, 1800, 1801, 1802, 1803, 1804, 1805, 1806, 1807, 1808, 1809, 1810, 1811, 1812, 1813, 1814, 1815, 1816, 1817, 1818, 1819, 1820, 1821, 1822, 1823, 1824, 1825, 1826, 1827, 1828, 1829, 1830, 1831, 1832, 1833, 1834, 1835, 1836, 1837, 1838, 1839, 1840, 1841, 1842, 1843, 1844, 1845, 1846, 1847, 1848, 1849, 1850, 1851, 1852, 1853, 1854, 1855, 1856, 1857, 1858, 1859, 1860, 1861, 1862, 1863, 1864, 1865, 1866, 1867, 1868, 1869, 1870, 1871, 1872, 1873, 1874, 1875, 1876, 1877, 1878, 1879, 1880, 1881, 1882, 1883, 1884, 1885, 1886, 1887, 1888, 1889, 1890, 1891, 1892, 1893, 1894, 1895, 1896, 1897, 1898, 1899, 1900, 1901, 1902, 1903, 1904, 1905, 1906, 1907, 1908, 1909, 1910, 1911, 1912, 1913, 1914, 1915, 1916, 1917, 1918, 1919, 1920, 1921, 1922, 1923, 1924, 1925, 1926, 1927, 1928, 1929, 1930, 1931, 1932, 1933, 1934, 1935, 1936, 1937, 1938, 1939, 1940, 1941, 1942, 1943, 1944, 1945, 1946, 1947, 1948, 1949, 1950, 1951, 1952, 1953, 1954, 1955, 1956, 1957, 1958, 1959, 1960, 1961, 1962, 1963, 1964, 1965, 1966, 1967, 1968, 1969, 1970, 1971, 1972, 1973, 1974, 1975, 1976, 1977, 1978, 1979, 1980, 1981, 1982, 1983, 1984, 1985, 1986, 1987, 1988, 1989, 1990, 1991, 1992, 1993, 1994, 1995, 1996, 1997, 1998, 1999, 2000, 2001, 2002, 2003, 2004, 2005, 2006, 2007, 2008, 2009, 2010, 2011, 2012, 2013, 2014, 2015, 2016, 2017, 2018, 2019, 2020, 2021, 2022, 2023, 2024, 2025, 2026, 2027, 2028, 2029, 2030, 2031, 2032, 2033, 2034, 2035, 2036, 2037, 2038, 2039, 2040, 2041, 2042, 2043, 2044, 2045, 2046, 2047, 2048, 2049, 2050, 2051, 2052, 2053, 2054, 2055, 2056, 2057, 2058, 2059, 2060, 2061, 2062, 2063, 2064, 2065, 2066, 2067, 2068, 2069, 2070, 2071, 2072, 2073, 2074, 2075, 2076, 2077, 2078, 2079, 2080, 2081, 2082, 2083, 2084, 2085, 2086, 2087, 2088, 2089, 2090, 2091, 2092, 2093, 2094, 2095, 2096, 2097, 2098, 2099, 2100, 2101, 2102, 2103, 2104, 2105, 2106, 2107, 2108, 2109, 2110, 2111, 2112, 2113, 2114, 2115, 2116, 2117, 2118, 2119, 2120, 2121, 2122, 2123, 2124, 2125, 2126, 2127, 2128, 2129, 2130, 2131, 2132, 2133, 2134, 2135, 2136, 2137, 2138, 2139, 2140, 2141, 2142, 2143, 2144, 2145, 2146, 2147, 2148, 2149, 2150, 2151, 2152, 2153, 2154, 2155, 2156, 2157, 2158, 2159, 2160, 2161, 2162, 2163, 2164, 2165, 2166, 2167, 2168, 2169, 2170, 2171, 2172, 2173, 2174, 2175, 2176, 2177, 2178, 2179, 2180, 2181, 2182, 2183, 2184, 2185, 2186, 2187, 2188, 2189, 2190, 2191, 2192, 2193, 2194, 2195, 2196, 2197, 2198, 2199, 2200, 2201, 2202, 2203, 2204, 2205, 2206, 2207, 2208, 2209, 2210, 2211, 2212, 2213, 2214, 2215, 2216, 2217, 2218, 2219, 2220, 2221, 2222, 2223, 2224, 2225, 2226, 2227, 2228, 2229, 2230, 2231, 2232, 2233, 2234, 2235, 2236, 2237, 2238, 2239, 2240, 2241, 2242, 2243, 2244, 2245, 2246, 2247, 2248, 2249, 2250, 2251, 2252, 2253, 2254, 2255, 2256, 2257, 2258, 2259, 2260, 2261, 2262, 2263, 2264, 2265, 2266, 2267, 2268, 2269, 2270, 2271, 2272, 2273, 2274, 2275, 2276, 2277, 2278, 2279, 2280, 2281, 2282, 2283, 2284, 2285, 2286, 2287, 2288, 2289, 2290, 2291, 2292, 2293, 2294, 2295, 2296, 2297, 2298, 2299, 2300, 2301, 2302, 2303, 2304, 2305, 2306, 2307, 2308, 2309, 2310, 2311, 2312, 2313, 2314, 2315, 2316, 2317, 2318, 2319, 2320, 2321, 2322, 2323, 2324, 2325, 2326, 2327, 2328, 2329, 2330, 2331, 2332, 2333, 2334, 2335, 2336, 2337, 2338, 2339, 2340, 2341, 2342, 2343, 2344, 2345, 2346, 2347, 2348, 2349, 2350, 2351, 2352, 2353, 2354, 2355, 2356, 2357, 2358, 2359, 2360, 2361, 2362, 2363, 2364, 2365, 2366, 2367, 2368, 2369, 2370, 2371, 2372, 2373, 2374, 2375, 2376, 2377, 2378, 2379, 2380, 2381, 2382, 2383, 2384, 2385, 2386, 2387, 2388, 2389, 2390, 2391, 2392, 2393, 2394, 2395, 2396, 2397, 2398, 2399, 2400, 2401, 2402, 2403, 2404, 2405, 2406, 2407, 2408, 2409, 2410, 2411, 2412, 2413, 2414, 2415, 2416, 2417, 2418, 2419, 2420, 2421, 2422, 2423, 2424, 2425, 2426, 2427, 2428, 2429, 2430, 2431, 2432, 2433, 2434, 2435, 2436, 2437, 2438, 2439, 2440, 2441, 2442, 2443, 2444, 2445, 2446, 2447, 2448, 2449, 2450, 2451, 2452, 2453, 2454, 2455, 2456, 2457, 2458, 2459, 2460, 2461, 2462, 2463, 2464, 2465, 2466, 2467, 2468, 2469, 2470, 2471, 2472, 2473, 2474, 2475, 2476, 2477, 2478, 2479, 2480, 2481, 2482, 2483, 2484, 2485, 2486, 2487, 2488, 2489, 2490, 2491, 2492, 2493, 2494, 2495, 2496, 2497, 2498, 2499, 2500, 2501, 2502, 2503, 2504, 2505, 2506, 2507, 2508, 2509, 2510, 2511, 2512, 2513, 2514, 2515, 2516, 2517, 2518, 2519, 2520, 2521, 2522, 2523, 2524, 2525, 2526, 2527, 2528, 2529, 2530, 2531, 2532, 2533, 2534, 2535, 2536, 2537, 2538, 2539, 2540, 2541, 2542, 2543, 2544, 2545, 2546, 2547, 2548, 2549, 2550, 2551, 2552, 2553, 2554, 2555, 2556, 2557, 2558, 2559, 2560, 2561, 2562, 2563, 2564, 2565, 2566, 2567, 2568, 2569, 2570, 2571, 2572, 2573, 2574, 2575, 2576, 2577, 2578, 2579, 2580, 2581, 2582, 2583, 2584, 2585, 2586, 2587, 2588, 2589, 2590, 2591, 2592, 2593, 2594, 2595, 2596]\n"
     ]
    }
   ],
   "source": [
    "# 構造変化点の候補を計算する．\n",
    "T = len(df) # サンプルサイズ\n",
    "\n",
    "T_min = round(0.15 * T) # 構造変化点の候補の始期．整数を用いる\n",
    "T_min_date = df.sort_values('date').iloc[T_min - 1]['date'] # date列でソートし，T_min番目の値を取得\n",
    "print(f'構造変化点の候補の始期:{T_min_date}')\n",
    "\n",
    "T_max = round((1 - 0.15) * T) # 構造変化点の候補の終期．整数を用いる\n",
    "T_max_date = df.sort_values('date').iloc[T_max - 1]['date'] # date列でソートし，T_max番目の値を取得\n",
    "print(f'構造変化点の候補の終期:{T_max_date}')\n",
    "\n",
    "T_B_list = list(range(T_min, T_max + 1)) # 構造変化点の候補のリストを作成．\n",
    "print(T_B_list)\n",
    "\n",
    "# 構造変化点の候補を一つずつ試す．\n",
    "for T_B in T_B_list:\n",
    "    T_B_date = df.sort_values('date').iloc[T_B - 1]['date'] # date列でソートし，T_B番目の値を取得\n",
    "    df['d'] = (df['date'] > T_B_date).astype(int) # 構造変化点の候補T_Bの期以前は0，それ以降は1\n",
    "    df['d_intj'] = df['d'] * df['ds'].shift() # dが1のときだけ前期のgrowthを入れる．\n",
    "    df_supf = df.dropna()\n",
    "    \n",
    "    # 対立仮説が正しいという前提で推定\n",
    "    endog = df_supf['ds']                       # 被説明変数\n",
    "    exog = df_supf[['intj', 'd', 'd_intj']] # 説明変数\n",
    "    exog = sm.add_constant(exog)\n",
    "    H_1 = sm.OLS(endog, exog).fit()\n",
    "    ssr_1 = np.sum(H_1.resid**2) # 残差２乗和を取得\n",
    "\n",
    "    # F統計量を計算する\n",
    "    K = 1 # 制約なしモデルの説明変数の数\n",
    "    f_stat = (ssr_0 - ssr_1) / (K + 1) / ssr_1 * (T - 2 * (K + 1)) # F統計量を計算する．\n",
    "\n",
    "    new_f_stat = pd.Series(\n",
    "        [T_B_date, f_stat],\n",
    "        index = df_f_stat.columns\n",
    "    )\n",
    "    df_f_stat = pd.concat(\n",
    "        [\n",
    "            df_f_stat,\n",
    "            new_f_stat.to_frame().T\n",
    "        ],\n",
    "        ignore_index = True\n",
    "    )"
   ]
  },
  {
   "cell_type": "code",
   "execution_count": 60,
   "metadata": {},
   "outputs": [],
   "source": [
    "# 帰無仮説が正しいという前提で推定\n",
    "endog = df_supf['ds']         # 被説明変数\n",
    "exog = df_supf['intj']      # 説明変数\n",
    "exog = sm.add_constant(exog) # 定数項を追加\n",
    "H_0 = sm.OLS(endog, exog).fit()\n",
    "ssr_0 = np.sum(H_0.resid**2) # 残差２乗和を取得"
   ]
  },
  {
   "cell_type": "code",
   "execution_count": 67,
   "metadata": {},
   "outputs": [
    {
     "name": "stdout",
     "output_type": "stream",
     "text": [
      "構造変化点:1998-10-01 00:00:00\n",
      "supF統計量:4.17\n"
     ]
    },
    {
     "data": {
      "image/png": "[encoded data removed]",
      "text/plain": [
       "<Figure size 1200x600 with 1 Axes>"
      ]
     },
     "metadata": {},
     "output_type": "display_data"
    }
   ],
   "source": [
    "sup_f_stat = df_f_stat['f_stat'].max() # F値の最大値\n",
    "structural_break_point = df_f_stat.loc[df_f_stat['f_stat'].idxmax(), 'date'] # 構造変化点を取得\n",
    "print(f'構造変化点:{structural_break_point}')\n",
    "print(f'supF統計量:{sup_f_stat:.02f}')\n",
    "\n",
    "plt.figure(figsize=(12, 6))\n",
    "plt.plot(\n",
    "    df_f_stat['date'],\n",
    "    df_f_stat['f_stat'],\n",
    ")\n",
    "plt.xlabel('date')\n",
    "plt.ylabel('F-stat')\n",
    "\n",
    "current_ymin, current_ymax = plt.ylim()\n",
    "plt.ylim(current_ymin, current_ymax * 1.2)\n",
    "\n",
    "# 最大値の位置にテキストで値を表示\n",
    "plt.annotate(\n",
    "    f'sup F = {sup_f_stat:.2f}',\n",
    "    xy = (structural_break_point, sup_f_stat),\n",
    "    xytext = (10, 10),\n",
    "    textcoords = 'offset points',\n",
    "    arrowprops = dict(arrowstyle='->', connectionstyle='arc3,rad=0')\n",
    ")\n",
    "plt.show()\n"
   ]
  },
  {
   "cell_type": "code",
   "execution_count": 61,
   "metadata": {},
   "outputs": [],
   "source": [
    "def sup_f_test(df_supf=df_supf):\n",
    "\n",
    "    # F統計量を格納するデータフレームを作成\n",
    "    columns = ['date', 'f_stat']\n",
    "    df_f_stat = pd.DataFrame(columns=columns)\n",
    "\n",
    "    # 構造変化点の候補を計算する．\n",
    "    T = len(df_supf) # サンプルサイズ\n",
    "\n",
    "    T_min = round(0.15 * T) # 構造変化点の候補の始期．整数を用いる\n",
    "    T_min_date = df_supf.sort_values('date').iloc[T_min - 1]['date'] # date列でソートし，T_min番目の値を取得\n",
    "    print(f'構造変化点の候補の始期:{T_min_date}')\n",
    "\n",
    "    T_max = round((1 - 0.15) * T) # 構造変化点の候補の終期．整数を用いる\n",
    "    T_max_date = df_supf.sort_values('date').iloc[T_max - 1]['date'] # date列でソートし，T_max番目の値を取得\n",
    "    print(f'構造変化点の候補の終期:{T_max_date}')\n",
    "\n",
    "    T_B_list = list(range(T_min, T_max + 1)) # 構造変化点の候補のリストを作成．\n",
    "\n",
    "    # 帰無仮説が正しいという前提で推定\n",
    "    endog = df_supf['ds']         # 被説明変数\n",
    "    exog = df_supf['intj']      # 説明変数\n",
    "    exog = sm.add_constant(exog) # 定数項を追加\n",
    "    H_0 = sm.OLS(endog, exog).fit()\n",
    "    ssr_0 = np.sum(H_0.resid**2) # 残差２乗和を取得\n",
    "\n",
    "    # 構造変化点の候補を一つずつ試す．\n",
    "    for T_B in T_B_list:\n",
    "        T_B_date = df_supf.sort_values('date').iloc[T_B - 1]['date'] # date列でソートし，T_B番目の値を取得\n",
    "        df_supf['d'] = (df_supf['date'] > T_B_date).astype(int) # 構造変化点の候補T_Bの期以前は0，それ以降は1\n",
    "        df_supf['d_intj'] = df_supf['d'] * df_supf['ds'].shift() # dが1のときだけ前期のgrowthを入れる．\n",
    "        df_supf = df_supf.dropna()\n",
    "\n",
    "        # 対立仮説が正しいという前提で推定\n",
    "        endog = df_supf['ds']                       # 被説明変数\n",
    "        exog = df_supf[['intj', 'd', 'd_intj']] # 説明変数\n",
    "        exog = sm.add_constant(exog)\n",
    "        H_1 = sm.OLS(endog, exog).fit()\n",
    "        ssr_1 = np.sum(H_1.resid**2) # 残差２乗和を取得\n",
    "\n",
    "        # F統計量を計算する\n",
    "        K = 1 # 制約なしモデルの説明変数の数\n",
    "        f_stat = (ssr_0 - ssr_1) / (K + 1) / ssr_1 * (T - 2 * (K + 1)) # F統計量を計算する．\n",
    "\n",
    "        new_f_stat = pd.Series(\n",
    "            [T_B_date, f_stat],\n",
    "            index = df_f_stat.columns\n",
    "        )\n",
    "        df_f_stat = pd.concat(\n",
    "            [\n",
    "                df_f_stat,\n",
    "                new_f_stat.to_frame().T\n",
    "            ],\n",
    "            ignore_index = True\n",
    "        )\n",
    "\n",
    "    sup_f_stat = df_f_stat['f_stat'].max() # F値の最大値\n",
    "    structural_break_point = df_f_stat.loc[df_f_stat['f_stat'].idxmax(), 'date'] # 構造変化点を取得\n",
    "    print(f'構造変化点:{structural_break_point}')\n",
    "    print(f'supF統計量:{sup_f_stat:.02f}')\n",
    "\n",
    "    plt.figure(figsize=(12, 6))\n",
    "    plt.plot(\n",
    "        df_f_stat['date'],\n",
    "        df_f_stat['f_stat'],\n",
    "    )\n",
    "    plt.xlabel('date')\n",
    "    plt.ylabel('F-stat')\n",
    "\n",
    "    current_ymin, current_ymax = plt.ylim()\n",
    "    plt.ylim(current_ymin, current_ymax * 1.2)\n",
    "\n",
    "    # 最大値の位置にテキストで値を表示\n",
    "    plt.annotate(\n",
    "        f'sup F = {sup_f_stat:.2f}',\n",
    "        xy = (structural_break_point, sup_f_stat),\n",
    "        xytext = (10, 10),\n",
    "        textcoords = 'offset points',\n",
    "        arrowprops = dict(arrowstyle='->', connectionstyle='arc3,rad=0')\n",
    "    )\n",
    "    plt.show()\n",
    "\n",
    "    return"
   ]
  },
  {
   "cell_type": "code",
   "execution_count": 22,
   "metadata": {},
   "outputs": [
    {
     "name": "stdout",
     "output_type": "stream",
     "text": [
      "構造変化点の候補の始期:1993-02-24 00:00:00\n",
      "構造変化点の候補の終期:2002-01-22 00:00:00\n"
     ]
    },
    {
     "ename": "KeyError",
     "evalue": "'ds'",
     "output_type": "error",
     "traceback": [
      "\u001b[1;31m---------------------------------------------------------------------------\u001b[0m",
      "\u001b[1;31mKeyError\u001b[0m                                  Traceback (most recent call last)",
      "File \u001b[1;32mc:\\Users\\keise\\AppData\\Local\\Programs\\Python\\Python312\\Lib\\site-packages\\pandas\\core\\indexes\\base.py:3805\u001b[0m, in \u001b[0;36mIndex.get_loc\u001b[1;34m(self, key)\u001b[0m\n\u001b[0;32m   3804\u001b[0m \u001b[38;5;28;01mtry\u001b[39;00m:\n\u001b[1;32m-> 3805\u001b[0m     \u001b[38;5;28;01mreturn\u001b[39;00m \u001b[38;5;28;43mself\u001b[39;49m\u001b[38;5;241;43m.\u001b[39;49m\u001b[43m_engine\u001b[49m\u001b[38;5;241;43m.\u001b[39;49m\u001b[43mget_loc\u001b[49m\u001b[43m(\u001b[49m\u001b[43mcasted_key\u001b[49m\u001b[43m)\u001b[49m\n\u001b[0;32m   3806\u001b[0m \u001b[38;5;28;01mexcept\u001b[39;00m \u001b[38;5;167;01mKeyError\u001b[39;00m \u001b[38;5;28;01mas\u001b[39;00m err:\n",
      "File \u001b[1;32mindex.pyx:167\u001b[0m, in \u001b[0;36mpandas._libs.index.IndexEngine.get_loc\u001b[1;34m()\u001b[0m\n",
      "File \u001b[1;32mindex.pyx:196\u001b[0m, in \u001b[0;36mpandas._libs.index.IndexEngine.get_loc\u001b[1;34m()\u001b[0m\n",
      "File \u001b[1;32mpandas\\\\_libs\\\\hashtable_class_helper.pxi:7081\u001b[0m, in \u001b[0;36mpandas._libs.hashtable.PyObjectHashTable.get_item\u001b[1;34m()\u001b[0m\n",
      "File \u001b[1;32mpandas\\\\_libs\\\\hashtable_class_helper.pxi:7089\u001b[0m, in \u001b[0;36mpandas._libs.hashtable.PyObjectHashTable.get_item\u001b[1;34m()\u001b[0m\n",
      "\u001b[1;31mKeyError\u001b[0m: 'ds'",
      "\nThe above exception was the direct cause of the following exception:\n",
      "\u001b[1;31mKeyError\u001b[0m                                  Traceback (most recent call last)",
      "Cell \u001b[1;32mIn[22], line 1\u001b[0m\n\u001b[1;32m----> 1\u001b[0m \u001b[43msup_f_test\u001b[49m\u001b[43m(\u001b[49m\u001b[43m)\u001b[49m\n",
      "Cell \u001b[1;32mIn[21], line 21\u001b[0m, in \u001b[0;36msup_f_test\u001b[1;34m(imported_df)\u001b[0m\n\u001b[0;32m     18\u001b[0m T_B_list \u001b[38;5;241m=\u001b[39m \u001b[38;5;28mlist\u001b[39m(\u001b[38;5;28mrange\u001b[39m(T_min, T_max \u001b[38;5;241m+\u001b[39m \u001b[38;5;241m1\u001b[39m)) \u001b[38;5;66;03m# 構造変化点の候補のリストを作成．\u001b[39;00m\n\u001b[0;32m     20\u001b[0m \u001b[38;5;66;03m# 帰無仮説が正しいという前提で推定\u001b[39;00m\n\u001b[1;32m---> 21\u001b[0m endog \u001b[38;5;241m=\u001b[39m \u001b[43mimported_df\u001b[49m\u001b[43m[\u001b[49m\u001b[38;5;124;43m'\u001b[39;49m\u001b[38;5;124;43mds\u001b[39;49m\u001b[38;5;124;43m'\u001b[39;49m\u001b[43m]\u001b[49m         \u001b[38;5;66;03m# 被説明変数\u001b[39;00m\n\u001b[0;32m     22\u001b[0m exog \u001b[38;5;241m=\u001b[39m imported_df[\u001b[38;5;124m'\u001b[39m\u001b[38;5;124mintj\u001b[39m\u001b[38;5;124m'\u001b[39m]      \u001b[38;5;66;03m# 説明変数\u001b[39;00m\n\u001b[0;32m     23\u001b[0m exog \u001b[38;5;241m=\u001b[39m sm\u001b[38;5;241m.\u001b[39madd_constant(exog) \u001b[38;5;66;03m# 定数項を追加\u001b[39;00m\n",
      "File \u001b[1;32mc:\\Users\\keise\\AppData\\Local\\Programs\\Python\\Python312\\Lib\\site-packages\\pandas\\core\\frame.py:4102\u001b[0m, in \u001b[0;36mDataFrame.__getitem__\u001b[1;34m(self, key)\u001b[0m\n\u001b[0;32m   4100\u001b[0m \u001b[38;5;28;01mif\u001b[39;00m \u001b[38;5;28mself\u001b[39m\u001b[38;5;241m.\u001b[39mcolumns\u001b[38;5;241m.\u001b[39mnlevels \u001b[38;5;241m>\u001b[39m \u001b[38;5;241m1\u001b[39m:\n\u001b[0;32m   4101\u001b[0m     \u001b[38;5;28;01mreturn\u001b[39;00m \u001b[38;5;28mself\u001b[39m\u001b[38;5;241m.\u001b[39m_getitem_multilevel(key)\n\u001b[1;32m-> 4102\u001b[0m indexer \u001b[38;5;241m=\u001b[39m \u001b[38;5;28;43mself\u001b[39;49m\u001b[38;5;241;43m.\u001b[39;49m\u001b[43mcolumns\u001b[49m\u001b[38;5;241;43m.\u001b[39;49m\u001b[43mget_loc\u001b[49m\u001b[43m(\u001b[49m\u001b[43mkey\u001b[49m\u001b[43m)\u001b[49m\n\u001b[0;32m   4103\u001b[0m \u001b[38;5;28;01mif\u001b[39;00m is_integer(indexer):\n\u001b[0;32m   4104\u001b[0m     indexer \u001b[38;5;241m=\u001b[39m [indexer]\n",
      "File \u001b[1;32mc:\\Users\\keise\\AppData\\Local\\Programs\\Python\\Python312\\Lib\\site-packages\\pandas\\core\\indexes\\base.py:3812\u001b[0m, in \u001b[0;36mIndex.get_loc\u001b[1;34m(self, key)\u001b[0m\n\u001b[0;32m   3807\u001b[0m     \u001b[38;5;28;01mif\u001b[39;00m \u001b[38;5;28misinstance\u001b[39m(casted_key, \u001b[38;5;28mslice\u001b[39m) \u001b[38;5;129;01mor\u001b[39;00m (\n\u001b[0;32m   3808\u001b[0m         \u001b[38;5;28misinstance\u001b[39m(casted_key, abc\u001b[38;5;241m.\u001b[39mIterable)\n\u001b[0;32m   3809\u001b[0m         \u001b[38;5;129;01mand\u001b[39;00m \u001b[38;5;28many\u001b[39m(\u001b[38;5;28misinstance\u001b[39m(x, \u001b[38;5;28mslice\u001b[39m) \u001b[38;5;28;01mfor\u001b[39;00m x \u001b[38;5;129;01min\u001b[39;00m casted_key)\n\u001b[0;32m   3810\u001b[0m     ):\n\u001b[0;32m   3811\u001b[0m         \u001b[38;5;28;01mraise\u001b[39;00m InvalidIndexError(key)\n\u001b[1;32m-> 3812\u001b[0m     \u001b[38;5;28;01mraise\u001b[39;00m \u001b[38;5;167;01mKeyError\u001b[39;00m(key) \u001b[38;5;28;01mfrom\u001b[39;00m \u001b[38;5;21;01merr\u001b[39;00m\n\u001b[0;32m   3813\u001b[0m \u001b[38;5;28;01mexcept\u001b[39;00m \u001b[38;5;167;01mTypeError\u001b[39;00m:\n\u001b[0;32m   3814\u001b[0m     \u001b[38;5;66;03m# If we have a listlike key, _check_indexing_error will raise\u001b[39;00m\n\u001b[0;32m   3815\u001b[0m     \u001b[38;5;66;03m#  InvalidIndexError. Otherwise we fall through and re-raise\u001b[39;00m\n\u001b[0;32m   3816\u001b[0m     \u001b[38;5;66;03m#  the TypeError.\u001b[39;00m\n\u001b[0;32m   3817\u001b[0m     \u001b[38;5;28mself\u001b[39m\u001b[38;5;241m.\u001b[39m_check_indexing_error(key)\n",
      "\u001b[1;31mKeyError\u001b[0m: 'ds'"
     ]
    }
   ],
   "source": [
    "sup_f_test()"
   ]
  },
  {
   "cell_type": "code",
   "execution_count": null,
   "metadata": {},
   "outputs": [],
   "source": [
    "fs1 <- Fstats(ds~intj, data = Dat, from = 0.15, to = 0.85)\n",
    "fs <- fs1$Fstats\n",
    "Dat2 <- Dat[(459:2596),]　#両端15％をカット\n",
    "Dat3 <- cbind(Dat2,fs)\n",
    "Dat3[,1] <- as.Date(Dat3[,1],\"%m/%d/%Y\")\n",
    "Dat3\n",
    "plot(Dat3$date,Dat3$fs,type=\"l\") #wald統計量の推移\n",
    "max(Dat3$fs) \n",
    "  ##33.899と計算されるが制約数が２であるため、２で除すと16.945となり教科書と一致\n",
    "Dat3[Dat3$fs >= 33.8,] #構造変化点\n",
    "\n",
    "\n"
   ]
  },
  {
   "cell_type": "markdown",
   "metadata": {},
   "source": [
    "前半(1995/4/18まで)と後半(1995/4/19から)で分けて、別々に推定する"
   ]
  },
  {
   "cell_type": "code",
   "execution_count": 16,
   "metadata": {},
   "outputs": [
    {
     "name": "stdout",
     "output_type": "stream",
     "text": [
      "                            OLS Regression Results                            \n",
      "==============================================================================\n",
      "Dep. Variable:                     ds   R-squared:                       0.019\n",
      "Model:                            OLS   Adj. R-squared:                  0.019\n",
      "Method:                 Least Squares   F-statistic:                     20.89\n",
      "Date:                Sun, 22 Sep 2024   Prob (F-statistic):           5.43e-06\n",
      "Time:                        00:15:34   Log-Likelihood:                -1020.4\n",
      "No. Observations:                1055   AIC:                             2045.\n",
      "Df Residuals:                    1053   BIC:                             2055.\n",
      "Df Model:                           1                                         \n",
      "Covariance Type:            nonrobust                                         \n",
      "==============================================================================\n",
      "                 coef    std err          t      P>|t|      [0.025      0.975]\n",
      "------------------------------------------------------------------------------\n",
      "const         -0.0301      0.020     -1.493      0.136      -0.070       0.009\n",
      "intj           3.7318      0.816      4.571      0.000       2.130       5.334\n",
      "==============================================================================\n",
      "Omnibus:                       86.094   Durbin-Watson:                   2.093\n",
      "Prob(Omnibus):                  0.000   Jarque-Bera (JB):              458.571\n",
      "Skew:                          -0.074   Prob(JB):                    2.65e-100\n",
      "Kurtosis:                       6.226   Cond. No.                         41.6\n",
      "==============================================================================\n",
      "\n",
      "Notes:\n",
      "[1] Standard Errors assume that the covariance matrix of the errors is correctly specified.\n"
     ]
    }
   ],
   "source": [
    "subset_condition_1 = (df['date'] <= '1995-04-18')\n",
    "Out2 = sm.OLS(df.loc[subset_condition_1, 'ds'], sm.add_constant(df.loc[subset_condition_1, 'intj'])).fit()\n",
    "print(Out2.summary())"
   ]
  },
  {
   "cell_type": "code",
   "execution_count": 17,
   "metadata": {},
   "outputs": [
    {
     "name": "stdout",
     "output_type": "stream",
     "text": [
      "                            OLS Regression Results                            \n",
      "==============================================================================\n",
      "Dep. Variable:                     ds   R-squared:                       0.026\n",
      "Model:                            OLS   Adj. R-squared:                  0.025\n",
      "Method:                 Least Squares   F-statistic:                     52.90\n",
      "Date:                Sun, 22 Sep 2024   Prob (F-statistic):           5.02e-13\n",
      "Time:                        00:15:41   Log-Likelihood:                -2263.1\n",
      "No. Observations:                1999   AIC:                             4530.\n",
      "Df Residuals:                    1997   BIC:                             4541.\n",
      "Df Model:                           1                                         \n",
      "Covariance Type:            nonrobust                                         \n",
      "==============================================================================\n",
      "                 coef    std err          t      P>|t|      [0.025      0.975]\n",
      "------------------------------------------------------------------------------\n",
      "const          0.0095      0.017      0.566      0.571      -0.024       0.043\n",
      "intj          -1.1333      0.156     -7.273      0.000      -1.439      -0.828\n",
      "==============================================================================\n",
      "Omnibus:                      456.031   Durbin-Watson:                   1.918\n",
      "Prob(Omnibus):                  0.000   Jarque-Bera (JB):             3960.044\n",
      "Skew:                          -0.821   Prob(JB):                         0.00\n",
      "Kurtosis:                       9.697   Cond. No.                         9.28\n",
      "==============================================================================\n",
      "\n",
      "Notes:\n",
      "[1] Standard Errors assume that the covariance matrix of the errors is correctly specified.\n"
     ]
    }
   ],
   "source": [
    "subset_condition_2 = (df['date'] > '1995-04-18')\n",
    "Out3 = sm.OLS(df.loc[subset_condition_2, 'ds'], sm.add_constant(df.loc[subset_condition_2, 'intj'])).fit()\n",
    "print(Out3.summary())"
   ]
  },
  {
   "cell_type": "markdown",
   "metadata": {},
   "source": [
    "推定結果の頑健性を調べるため、説明変数に新たにdsの1期前の値を加える"
   ]
  },
  {
   "cell_type": "code",
   "execution_count": 18,
   "metadata": {},
   "outputs": [
    {
     "name": "stdout",
     "output_type": "stream",
     "text": [
      "                            OLS Regression Results                            \n",
      "==============================================================================\n",
      "Dep. Variable:                     ds   R-squared:                       0.016\n",
      "Model:                            OLS   Adj. R-squared:                  0.015\n",
      "Method:                 Least Squares   F-statistic:                     24.27\n",
      "Date:                Sun, 22 Sep 2024   Prob (F-statistic):           3.50e-11\n",
      "Time:                        00:17:08   Log-Likelihood:                -3316.5\n",
      "No. Observations:                3053   AIC:                             6639.\n",
      "Df Residuals:                    3050   BIC:                             6657.\n",
      "Df Model:                           2                                         \n",
      "Covariance Type:            nonrobust                                         \n",
      "==============================================================================\n",
      "                 coef    std err          t      P>|t|      [0.025      0.975]\n",
      "------------------------------------------------------------------------------\n",
      "const         -0.0127      0.013     -0.976      0.329      -0.038       0.013\n",
      "intj          -1.0288      0.148     -6.964      0.000      -1.318      -0.739\n",
      "lag_ds         0.0168      0.018      0.931      0.352      -0.019       0.052\n",
      "==============================================================================\n",
      "Omnibus:                      578.127   Durbin-Watson:                   1.989\n",
      "Prob(Omnibus):                  0.000   Jarque-Bera (JB):             4794.811\n",
      "Skew:                          -0.660   Prob(JB):                         0.00\n",
      "Kurtosis:                       8.996   Cond. No.                         11.4\n",
      "==============================================================================\n",
      "\n",
      "Notes:\n",
      "[1] Standard Errors assume that the covariance matrix of the errors is correctly specified.\n"
     ]
    }
   ],
   "source": [
    "# Adding lagged values of 'ds' to the dataframe\n",
    "df['lag_ds'] = df['ds'].shift()\n",
    "\n",
    "# Dropping NaN values that result from the lag operation\n",
    "df = df.dropna()\n",
    "\n",
    "# Fitting the model\n",
    "exog = df[['intj', 'lag_ds']]\n",
    "exog = sm.add_constant(exog)\n",
    "endog = df['ds']\n",
    "Out4 = sm.OLS(endog, exog).fit()\n",
    "\n",
    "# Summarizing the model\n",
    "print(Out4.summary())"
   ]
  },
  {
   "cell_type": "code",
   "execution_count": null,
   "metadata": {},
   "outputs": [],
   "source": [
    "fs2 <- Fstats(ds~intj+lag(ds), data = Dat1, from = 0.15 , to = 0.85)\n",
    "fs2_1 <- fs2$Fstats\n",
    "Dat4 <- Dat1[(459:2597),] #両端15％をカット\n",
    "Dat5 <- cbind(Dat4, fs2_1)\n",
    "Dat5[,1] <- as.Date(Dat5[,1],\"%m/%d/%Y\")\n",
    "plot(Dat5$date, Dat5$fs2_1, type=\"l\")\n",
    "max(Dat5$fs2_1)\n",
    "Dat5[Dat5$fs2_1 >= 39.4,] #構造変化点\n"
   ]
  },
  {
   "cell_type": "code",
   "execution_count": 22,
   "metadata": {},
   "outputs": [
    {
     "name": "stdout",
     "output_type": "stream",
     "text": [
      "                            OLS Regression Results                            \n",
      "==============================================================================\n",
      "Dep. Variable:                     ds   R-squared:                       0.023\n",
      "Model:                            OLS   Adj. R-squared:                  0.022\n",
      "Method:                 Least Squares   F-statistic:                     12.76\n",
      "Date:                Sun, 22 Sep 2024   Prob (F-statistic):           3.35e-06\n",
      "Time:                        00:19:07   Log-Likelihood:                -1043.4\n",
      "No. Observations:                1069   AIC:                             2093.\n",
      "Df Residuals:                    1066   BIC:                             2108.\n",
      "Df Model:                           2                                         \n",
      "Covariance Type:            nonrobust                                         \n",
      "==============================================================================\n",
      "                 coef    std err          t      P>|t|      [0.025      0.975]\n",
      "------------------------------------------------------------------------------\n",
      "const         -0.0271      0.020     -1.340      0.180      -0.067       0.013\n",
      "intj           4.0300      0.832      4.842      0.000       2.397       5.663\n",
      "lag_ds        -0.0648      0.031     -2.120      0.034      -0.125      -0.005\n",
      "==============================================================================\n",
      "Omnibus:                       89.047   Durbin-Watson:                   2.004\n",
      "Prob(Omnibus):                  0.000   Jarque-Bera (JB):              495.846\n",
      "Skew:                          -0.032   Prob(JB):                    2.13e-108\n",
      "Kurtosis:                       6.336   Cond. No.                         42.4\n",
      "==============================================================================\n",
      "\n",
      "Notes:\n",
      "[1] Standard Errors assume that the covariance matrix of the errors is correctly specified.\n"
     ]
    }
   ],
   "source": [
    "subset_condition_1 = (df['date'] <= '1995-05-09')\n",
    "Out5 = sm.OLS(df.loc[subset_condition_1, 'ds'], sm.add_constant(df.loc[subset_condition_1, ['intj', 'lag_ds']])).fit()\n",
    "print(Out5.summary())"
   ]
  },
  {
   "cell_type": "code",
   "execution_count": 24,
   "metadata": {},
   "outputs": [
    {
     "name": "stdout",
     "output_type": "stream",
     "text": [
      "                            OLS Regression Results                            \n",
      "==============================================================================\n",
      "Dep. Variable:                     ds   R-squared:                       0.028\n",
      "Model:                            OLS   Adj. R-squared:                  0.027\n",
      "Method:                 Least Squares   F-statistic:                     28.18\n",
      "Date:                Sun, 22 Sep 2024   Prob (F-statistic):           8.54e-13\n",
      "Time:                        00:19:14   Log-Likelihood:                -2238.0\n",
      "No. Observations:                1984   AIC:                             4482.\n",
      "Df Residuals:                    1981   BIC:                             4499.\n",
      "Df Model:                           2                                         \n",
      "Covariance Type:            nonrobust                                         \n",
      "==============================================================================\n",
      "                 coef    std err          t      P>|t|      [0.025      0.975]\n",
      "------------------------------------------------------------------------------\n",
      "const          0.0070      0.017      0.415      0.678      -0.026       0.040\n",
      "intj          -1.1647      0.156     -7.456      0.000      -1.471      -0.858\n",
      "lag_ds         0.0383      0.022      1.718      0.086      -0.005       0.082\n",
      "==============================================================================\n",
      "Omnibus:                      440.260   Durbin-Watson:                   1.984\n",
      "Prob(Omnibus):                  0.000   Jarque-Bera (JB):             3652.188\n",
      "Skew:                          -0.805   Prob(JB):                         0.00\n",
      "Kurtosis:                       9.449   Cond. No.                         9.31\n",
      "==============================================================================\n",
      "\n",
      "Notes:\n",
      "[1] Standard Errors assume that the covariance matrix of the errors is correctly specified.\n"
     ]
    }
   ],
   "source": [
    "subset_condition_2 = (df['date'] > '1995-05-09')\n",
    "Out6 = sm.OLS(df.loc[subset_condition_2, 'ds'], sm.add_constant(df.loc[subset_condition_2, ['intj', 'lag_ds']])).fit()\n",
    "print(Out6.summary())"
   ]
  }
 ],
 "metadata": {
  "kernelspec": {
   "display_name": "Python 3",
   "language": "python",
   "name": "python3"
  },
  "language_info": {
   "codemirror_mode": {
    "name": "ipython",
    "version": 3
   },
   "file_extension": ".py",
   "mimetype": "text/x-python",
   "name": "python",
   "nbconvert_exporter": "python",
   "pygments_lexer": "ipython3",
   "version": "3.12.6"
  }
 },
 "nbformat": 4,
 "nbformat_minor": 2
}
