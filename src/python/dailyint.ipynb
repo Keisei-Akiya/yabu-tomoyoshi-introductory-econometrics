{
 "cells": [
  {
   "cell_type": "code",
   "execution_count": 1,
   "metadata": {},
   "outputs": [],
   "source": [
    "# ライブラリをインポート\n",
    "\n",
    "# データ操作と数値計算のため\n",
    "import pandas as pd\n",
    "import numpy as np\n",
    "\n",
    "# データ可視化のため\n",
    "import matplotlib.pyplot as plt\n",
    "import seaborn as sns\n",
    "\n",
    "# 統計モデリングと計量経済分析のため\n",
    "import statsmodels.api as sm\n",
    "from statsmodels.iolib.summary2 import summary_col\n",
    "from scipy import stats\n",
    "\n",
    "# for ignore warning\n",
    "import warnings\n",
    "warnings.filterwarnings('ignore')"
   ]
  },
  {
   "cell_type": "code",
   "execution_count": 42,
   "metadata": {},
   "outputs": [
    {
     "data": {
      "text/html": [
       "<div>\n",
       "<style scoped>\n",
       "    .dataframe tbody tr th:only-of-type {\n",
       "        vertical-align: middle;\n",
       "    }\n",
       "\n",
       "    .dataframe tbody tr th {\n",
       "        vertical-align: top;\n",
       "    }\n",
       "\n",
       "    .dataframe thead th {\n",
       "        text-align: right;\n",
       "    }\n",
       "</style>\n",
       "<table border=\"1\" class=\"dataframe\">\n",
       "  <thead>\n",
       "    <tr style=\"text-align: right;\">\n",
       "      <th></th>\n",
       "      <th>date</th>\n",
       "      <th>spot</th>\n",
       "      <th>intervention</th>\n",
       "    </tr>\n",
       "  </thead>\n",
       "  <tbody>\n",
       "    <tr>\n",
       "      <th>0</th>\n",
       "      <td>1991-04-01</td>\n",
       "      <td>139.30</td>\n",
       "      <td>0.0</td>\n",
       "    </tr>\n",
       "    <tr>\n",
       "      <th>1</th>\n",
       "      <td>1991-04-02</td>\n",
       "      <td>137.90</td>\n",
       "      <td>0.0</td>\n",
       "    </tr>\n",
       "    <tr>\n",
       "      <th>2</th>\n",
       "      <td>1991-04-03</td>\n",
       "      <td>137.38</td>\n",
       "      <td>0.0</td>\n",
       "    </tr>\n",
       "    <tr>\n",
       "      <th>3</th>\n",
       "      <td>1991-04-04</td>\n",
       "      <td>135.95</td>\n",
       "      <td>0.0</td>\n",
       "    </tr>\n",
       "    <tr>\n",
       "      <th>4</th>\n",
       "      <td>1991-04-05</td>\n",
       "      <td>136.60</td>\n",
       "      <td>0.0</td>\n",
       "    </tr>\n",
       "  </tbody>\n",
       "</table>\n",
       "</div>"
      ],
      "text/plain": [
       "        date    spot  intervention\n",
       "0 1991-04-01  139.30           0.0\n",
       "1 1991-04-02  137.90           0.0\n",
       "2 1991-04-03  137.38           0.0\n",
       "3 1991-04-04  135.95           0.0\n",
       "4 1991-04-05  136.60           0.0"
      ]
     },
     "execution_count": 42,
     "metadata": {},
     "output_type": "execute_result"
    }
   ],
   "source": [
    "url = \"https://www.fbc.keio.ac.jp/~tyabu/keiryo/dailyint_data.csv\"\n",
    "df = pd.read_csv(url)\n",
    "df['date'] = pd.to_datetime(df['date'], format='%m/%d/%Y')\n",
    "df = df.dropna()\n",
    "df.head()"
   ]
  },
  {
   "cell_type": "markdown",
   "metadata": {},
   "source": [
    "# 変数の定義\n",
    "ドル円レートは変化率に、介入額(単位億円)は介入額(単位兆円)に変換"
   ]
  },
  {
   "cell_type": "code",
   "execution_count": 43,
   "metadata": {},
   "outputs": [
    {
     "data": {
      "text/html": [
       "<div>\n",
       "<style scoped>\n",
       "    .dataframe tbody tr th:only-of-type {\n",
       "        vertical-align: middle;\n",
       "    }\n",
       "\n",
       "    .dataframe tbody tr th {\n",
       "        vertical-align: top;\n",
       "    }\n",
       "\n",
       "    .dataframe thead th {\n",
       "        text-align: right;\n",
       "    }\n",
       "</style>\n",
       "<table border=\"1\" class=\"dataframe\">\n",
       "  <thead>\n",
       "    <tr style=\"text-align: right;\">\n",
       "      <th></th>\n",
       "      <th>date</th>\n",
       "      <th>spot</th>\n",
       "      <th>intervention</th>\n",
       "      <th>ds</th>\n",
       "      <th>intj</th>\n",
       "    </tr>\n",
       "  </thead>\n",
       "  <tbody>\n",
       "    <tr>\n",
       "      <th>1</th>\n",
       "      <td>1991-04-02</td>\n",
       "      <td>137.90</td>\n",
       "      <td>0.0</td>\n",
       "      <td>-1.010110</td>\n",
       "      <td>0.0</td>\n",
       "    </tr>\n",
       "    <tr>\n",
       "      <th>2</th>\n",
       "      <td>1991-04-03</td>\n",
       "      <td>137.38</td>\n",
       "      <td>0.0</td>\n",
       "      <td>-0.377798</td>\n",
       "      <td>0.0</td>\n",
       "    </tr>\n",
       "    <tr>\n",
       "      <th>3</th>\n",
       "      <td>1991-04-04</td>\n",
       "      <td>135.95</td>\n",
       "      <td>0.0</td>\n",
       "      <td>-1.046364</td>\n",
       "      <td>0.0</td>\n",
       "    </tr>\n",
       "    <tr>\n",
       "      <th>4</th>\n",
       "      <td>1991-04-05</td>\n",
       "      <td>136.60</td>\n",
       "      <td>0.0</td>\n",
       "      <td>0.476978</td>\n",
       "      <td>0.0</td>\n",
       "    </tr>\n",
       "    <tr>\n",
       "      <th>5</th>\n",
       "      <td>1991-04-08</td>\n",
       "      <td>137.10</td>\n",
       "      <td>0.0</td>\n",
       "      <td>0.365364</td>\n",
       "      <td>0.0</td>\n",
       "    </tr>\n",
       "  </tbody>\n",
       "</table>\n",
       "</div>"
      ],
      "text/plain": [
       "        date    spot  intervention        ds  intj\n",
       "1 1991-04-02  137.90           0.0 -1.010110   0.0\n",
       "2 1991-04-03  137.38           0.0 -0.377798   0.0\n",
       "3 1991-04-04  135.95           0.0 -1.046364   0.0\n",
       "4 1991-04-05  136.60           0.0  0.476978   0.0\n",
       "5 1991-04-08  137.10           0.0  0.365364   0.0"
      ]
     },
     "execution_count": 43,
     "metadata": {},
     "output_type": "execute_result"
    }
   ],
   "source": [
    "df['ds'] = 100 * ((np.log(df['spot'])) - np.log(df['spot'].shift()))\n",
    "df['intj'] = df['intervention'] / 10000\n",
    "df = df.dropna()\n",
    "df.head()"
   ]
  },
  {
   "cell_type": "markdown",
   "metadata": {},
   "source": [
    "# 7.4.2節の推定結果\n",
    "supF検定と構造変化日の特定"
   ]
  },
  {
   "cell_type": "code",
   "execution_count": 44,
   "metadata": {},
   "outputs": [
    {
     "name": "stdout",
     "output_type": "stream",
     "text": [
      "                            OLS Regression Results                            \n",
      "==============================================================================\n",
      "Dep. Variable:                     ds   R-squared:                       0.015\n",
      "Model:                            OLS   Adj. R-squared:                  0.015\n",
      "Method:                 Least Squares   F-statistic:                     47.68\n",
      "Date:                Wed, 25 Sep 2024   Prob (F-statistic):           6.06e-12\n",
      "Time:                        10:48:33   Log-Likelihood:                -3318.5\n",
      "No. Observations:                3054   AIC:                             6641.\n",
      "Df Residuals:                    3052   BIC:                             6653.\n",
      "Df Model:                           1                                         \n",
      "Covariance Type:            nonrobust                                         \n",
      "==============================================================================\n",
      "                 coef    std err          t      P>|t|      [0.025      0.975]\n",
      "------------------------------------------------------------------------------\n",
      "const         -0.0130      0.013     -1.000      0.318      -0.039       0.013\n",
      "intj          -1.0146      0.147     -6.905      0.000      -1.303      -0.727\n",
      "==============================================================================\n",
      "Omnibus:                      590.536   Durbin-Watson:                   1.956\n",
      "Prob(Omnibus):                  0.000   Jarque-Bera (JB):             4986.306\n",
      "Skew:                          -0.674   Prob(JB):                         0.00\n",
      "Kurtosis:                       9.113   Cond. No.                         11.3\n",
      "==============================================================================\n",
      "\n",
      "Notes:\n",
      "[1] Standard Errors assume that the covariance matrix of the errors is correctly specified.\n"
     ]
    }
   ],
   "source": [
    "endog = df['ds']\n",
    "exog = df['intj']\n",
    "exog = sm.add_constant(exog)\n",
    "\n",
    "model_1 = sm.OLS(endog, exog)\n",
    "results_1 = model_1.fit()\n",
    "print(results_1.summary())"
   ]
  },
  {
   "cell_type": "code",
   "execution_count": 45,
   "metadata": {},
   "outputs": [],
   "source": [
    "# 構造変化の検出関数\n",
    "def sup_f_test(endog, exog, breakpoint):\n",
    "    n = len(endog)\n",
    "    k = exog.shape[1]\n",
    "\n",
    "    exog1 = exog[:breakpoint]\n",
    "    exog2 = exog[breakpoint:]\n",
    "    endog1 = endog[:breakpoint]\n",
    "    endog2 = endog[breakpoint:]\n",
    "\n",
    "    model = sm.OLS(endog, exog).fit()\n",
    "    model1 = sm.OLS(endog1, exog1).fit()\n",
    "    model2 = sm.OLS(endog2, exog2).fit()\n",
    "\n",
    "    rss = model.ssr\n",
    "    rss1 = model1.ssr\n",
    "    rss2 = model2.ssr\n",
    "\n",
    "    f_stat = ((rss - (rss1 + rss2)) / k) / ((rss1 + rss2) / (n - 2 * k))\n",
    "    p_value = 1 - stats.f.cdf(f_stat, k, n - 2*k)\n",
    "\n",
    "    return f_stat, p_value"
   ]
  },
  {
   "cell_type": "code",
   "execution_count": 46,
   "metadata": {},
   "outputs": [
    {
     "name": "stdout",
     "output_type": "stream",
     "text": [
      "Estimated break point date: 1995-04-18 00:00:00\n",
      "supF statistic: 16.9495\n",
      "Minimum p-value: 0.0000\n"
     ]
    }
   ],
   "source": [
    "# すべての可能な分割点でsupF検定を実行\n",
    "f_statistics = []\n",
    "p_values = []\n",
    "T = len(df)\n",
    "T_B_min = round(T * 0.15)\n",
    "T_B_max = round(T * (1-0.15))\n",
    "endog = df['ds']\n",
    "exog = df['intj']\n",
    "exog = sm.add_constant(exog)\n",
    "\n",
    "for i in range(T_B_min, T_B_max+1):  # データの両端15%をトリミング\n",
    "    f_stat, p_val = sup_f_test(endog, exog, i)\n",
    "    f_statistics.append(f_stat)\n",
    "    p_values.append(p_val)\n",
    "\n",
    "# 最大のF統計量を持つ点を構造変化点として特定\n",
    "breakpoint = np.argmax(f_statistics) + T_B_min\n",
    "breakpoint_date = df.iloc[breakpoint-1]['date']\n",
    "max_f_stat = np.max(f_statistics)\n",
    "min_p_value = np.min(p_values)\n",
    "\n",
    "print(f\"Estimated break point date: {breakpoint_date}\")\n",
    "print(f\"supF statistic: {max_f_stat:.4f}\")\n",
    "print(f\"Minimum p-value: {min_p_value:.4f}\")"
   ]
  },
  {
   "cell_type": "markdown",
   "metadata": {},
   "source": [
    "前半(1995/4/18まで)と後半(1995/4/19から)で分けて、別々に推定する"
   ]
  },
  {
   "cell_type": "code",
   "execution_count": 9,
   "metadata": {},
   "outputs": [
    {
     "name": "stdout",
     "output_type": "stream",
     "text": [
      "                            OLS Regression Results                            \n",
      "==============================================================================\n",
      "Dep. Variable:                     ds   R-squared:                       0.019\n",
      "Model:                            OLS   Adj. R-squared:                  0.019\n",
      "Method:                 Least Squares   F-statistic:                     20.89\n",
      "Date:                Wed, 25 Sep 2024   Prob (F-statistic):           5.43e-06\n",
      "Time:                        10:29:09   Log-Likelihood:                -1020.4\n",
      "No. Observations:                1055   AIC:                             2045.\n",
      "Df Residuals:                    1053   BIC:                             2055.\n",
      "Df Model:                           1                                         \n",
      "Covariance Type:            nonrobust                                         \n",
      "==============================================================================\n",
      "                 coef    std err          t      P>|t|      [0.025      0.975]\n",
      "------------------------------------------------------------------------------\n",
      "const         -0.0301      0.020     -1.493      0.136      -0.070       0.009\n",
      "intj           3.7318      0.816      4.571      0.000       2.130       5.334\n",
      "==============================================================================\n",
      "Omnibus:                       86.094   Durbin-Watson:                   2.093\n",
      "Prob(Omnibus):                  0.000   Jarque-Bera (JB):              458.571\n",
      "Skew:                          -0.074   Prob(JB):                    2.65e-100\n",
      "Kurtosis:                       6.226   Cond. No.                         41.6\n",
      "==============================================================================\n",
      "\n",
      "Notes:\n",
      "[1] Standard Errors assume that the covariance matrix of the errors is correctly specified.\n"
     ]
    }
   ],
   "source": [
    "subset_condition_1 = (df['date'] <= '1995-04-18')\n",
    "Out2 = sm.OLS(df.loc[subset_condition_1, 'ds'], sm.add_constant(df.loc[subset_condition_1, 'intj'])).fit()\n",
    "print(Out2.summary())"
   ]
  },
  {
   "cell_type": "code",
   "execution_count": 10,
   "metadata": {},
   "outputs": [
    {
     "name": "stdout",
     "output_type": "stream",
     "text": [
      "                            OLS Regression Results                            \n",
      "==============================================================================\n",
      "Dep. Variable:                     ds   R-squared:                       0.026\n",
      "Model:                            OLS   Adj. R-squared:                  0.025\n",
      "Method:                 Least Squares   F-statistic:                     52.90\n",
      "Date:                Wed, 25 Sep 2024   Prob (F-statistic):           5.02e-13\n",
      "Time:                        10:29:19   Log-Likelihood:                -2263.1\n",
      "No. Observations:                1999   AIC:                             4530.\n",
      "Df Residuals:                    1997   BIC:                             4541.\n",
      "Df Model:                           1                                         \n",
      "Covariance Type:            nonrobust                                         \n",
      "==============================================================================\n",
      "                 coef    std err          t      P>|t|      [0.025      0.975]\n",
      "------------------------------------------------------------------------------\n",
      "const          0.0095      0.017      0.566      0.571      -0.024       0.043\n",
      "intj          -1.1333      0.156     -7.273      0.000      -1.439      -0.828\n",
      "==============================================================================\n",
      "Omnibus:                      456.031   Durbin-Watson:                   1.918\n",
      "Prob(Omnibus):                  0.000   Jarque-Bera (JB):             3960.044\n",
      "Skew:                          -0.821   Prob(JB):                         0.00\n",
      "Kurtosis:                       9.697   Cond. No.                         9.28\n",
      "==============================================================================\n",
      "\n",
      "Notes:\n",
      "[1] Standard Errors assume that the covariance matrix of the errors is correctly specified.\n"
     ]
    }
   ],
   "source": [
    "subset_condition_2 = (df['date'] > '1995-04-18')\n",
    "Out3 = sm.OLS(df.loc[subset_condition_2, 'ds'], sm.add_constant(df.loc[subset_condition_2, 'intj'])).fit()\n",
    "print(Out3.summary())"
   ]
  },
  {
   "cell_type": "markdown",
   "metadata": {},
   "source": [
    "推定結果の頑健性を調べるため、説明変数に新たにdsの1期前の値を加える"
   ]
  },
  {
   "cell_type": "code",
   "execution_count": 48,
   "metadata": {},
   "outputs": [
    {
     "name": "stdout",
     "output_type": "stream",
     "text": [
      "                            OLS Regression Results                            \n",
      "==============================================================================\n",
      "Dep. Variable:                     ds   R-squared:                       0.016\n",
      "Model:                            OLS   Adj. R-squared:                  0.015\n",
      "Method:                 Least Squares   F-statistic:                     24.27\n",
      "Date:                Wed, 25 Sep 2024   Prob (F-statistic):           3.50e-11\n",
      "Time:                        10:48:53   Log-Likelihood:                -3316.5\n",
      "No. Observations:                3053   AIC:                             6639.\n",
      "Df Residuals:                    3050   BIC:                             6657.\n",
      "Df Model:                           2                                         \n",
      "Covariance Type:            nonrobust                                         \n",
      "==============================================================================\n",
      "                 coef    std err          t      P>|t|      [0.025      0.975]\n",
      "------------------------------------------------------------------------------\n",
      "const         -0.0127      0.013     -0.976      0.329      -0.038       0.013\n",
      "intj          -1.0288      0.148     -6.964      0.000      -1.318      -0.739\n",
      "lag_ds         0.0168      0.018      0.931      0.352      -0.019       0.052\n",
      "==============================================================================\n",
      "Omnibus:                      578.127   Durbin-Watson:                   1.989\n",
      "Prob(Omnibus):                  0.000   Jarque-Bera (JB):             4794.811\n",
      "Skew:                          -0.660   Prob(JB):                         0.00\n",
      "Kurtosis:                       8.996   Cond. No.                         11.4\n",
      "==============================================================================\n",
      "\n",
      "Notes:\n",
      "[1] Standard Errors assume that the covariance matrix of the errors is correctly specified.\n"
     ]
    }
   ],
   "source": [
    "# Adding lagged values of 'ds' to the dataframe\n",
    "df['lag_ds'] = df['ds'].shift()\n",
    "\n",
    "# Dropping NaN values that result from the lag operation\n",
    "df = df.dropna()\n",
    "\n",
    "# Fitting the model\n",
    "endog = df['ds']\n",
    "exog = df[['intj', 'lag_ds']]\n",
    "exog = sm.add_constant(exog)\n",
    "Out4 = sm.OLS(endog, exog).fit()\n",
    "\n",
    "# Summarizing the model\n",
    "print(Out4.summary())"
   ]
  },
  {
   "cell_type": "code",
   "execution_count": 49,
   "metadata": {},
   "outputs": [
    {
     "name": "stdout",
     "output_type": "stream",
     "text": [
      "Estimated break point date: 1995-05-09 00:00:00\n",
      "supF statistic: 13.1450\n",
      "Minimum p-value: 0.0000\n"
     ]
    }
   ],
   "source": [
    "# すべての可能な分割点でsupF検定を実行\n",
    "f_statistics = []\n",
    "p_values = []\n",
    "T = len(df)\n",
    "T_B_min = round(T * 0.15)\n",
    "T_B_max = round(T * (1-0.15))\n",
    "endog = df['ds']\n",
    "exog = df[['intj', 'lag_ds']]\n",
    "exog = sm.add_constant(exog)\n",
    "\n",
    "for i in range(T_B_min, T_B_max+1):  # データの両端15%をトリミング\n",
    "    f_stat, p_val = sup_f_test(endog, exog, i)\n",
    "    f_statistics.append(f_stat)\n",
    "    p_values.append(p_val)\n",
    "\n",
    "# 最大のF統計量を持つ点を構造変化点として特定\n",
    "breakpoint = np.argmax(f_statistics) + T_B_min\n",
    "breakpoint_date = df.iloc[breakpoint-1]['date']\n",
    "max_f_stat = np.max(f_statistics)\n",
    "min_p_value = np.min(p_values)\n",
    "\n",
    "print(f\"Estimated break point date: {breakpoint_date}\")\n",
    "print(f\"supF statistic: {max_f_stat:.4f}\")\n",
    "print(f\"Minimum p-value: {min_p_value:.4f}\")"
   ]
  },
  {
   "cell_type": "markdown",
   "metadata": {},
   "source": [
    "以下では、構造変化前後で別々に推定する"
   ]
  },
  {
   "cell_type": "code",
   "execution_count": 15,
   "metadata": {},
   "outputs": [
    {
     "name": "stdout",
     "output_type": "stream",
     "text": [
      "                            OLS Regression Results                            \n",
      "==============================================================================\n",
      "Dep. Variable:                     ds   R-squared:                       0.023\n",
      "Model:                            OLS   Adj. R-squared:                  0.022\n",
      "Method:                 Least Squares   F-statistic:                     12.76\n",
      "Date:                Wed, 25 Sep 2024   Prob (F-statistic):           3.35e-06\n",
      "Time:                        10:34:04   Log-Likelihood:                -1043.4\n",
      "No. Observations:                1069   AIC:                             2093.\n",
      "Df Residuals:                    1066   BIC:                             2108.\n",
      "Df Model:                           2                                         \n",
      "Covariance Type:            nonrobust                                         \n",
      "==============================================================================\n",
      "                 coef    std err          t      P>|t|      [0.025      0.975]\n",
      "------------------------------------------------------------------------------\n",
      "const         -0.0271      0.020     -1.340      0.180      -0.067       0.013\n",
      "intj           4.0300      0.832      4.842      0.000       2.397       5.663\n",
      "lag_ds        -0.0648      0.031     -2.120      0.034      -0.125      -0.005\n",
      "==============================================================================\n",
      "Omnibus:                       89.047   Durbin-Watson:                   2.004\n",
      "Prob(Omnibus):                  0.000   Jarque-Bera (JB):              495.846\n",
      "Skew:                          -0.032   Prob(JB):                    2.13e-108\n",
      "Kurtosis:                       6.336   Cond. No.                         42.4\n",
      "==============================================================================\n",
      "\n",
      "Notes:\n",
      "[1] Standard Errors assume that the covariance matrix of the errors is correctly specified.\n"
     ]
    }
   ],
   "source": [
    "subset_condition_1 = (df['date'] <= '1995-05-09')\n",
    "Out5 = sm.OLS(df.loc[subset_condition_1, 'ds'], sm.add_constant(df.loc[subset_condition_1, ['intj', 'lag_ds']])).fit()\n",
    "print(Out5.summary())"
   ]
  },
  {
   "cell_type": "code",
   "execution_count": 16,
   "metadata": {},
   "outputs": [
    {
     "name": "stdout",
     "output_type": "stream",
     "text": [
      "                            OLS Regression Results                            \n",
      "==============================================================================\n",
      "Dep. Variable:                     ds   R-squared:                       0.028\n",
      "Model:                            OLS   Adj. R-squared:                  0.027\n",
      "Method:                 Least Squares   F-statistic:                     28.18\n",
      "Date:                Wed, 25 Sep 2024   Prob (F-statistic):           8.54e-13\n",
      "Time:                        10:34:18   Log-Likelihood:                -2238.0\n",
      "No. Observations:                1984   AIC:                             4482.\n",
      "Df Residuals:                    1981   BIC:                             4499.\n",
      "Df Model:                           2                                         \n",
      "Covariance Type:            nonrobust                                         \n",
      "==============================================================================\n",
      "                 coef    std err          t      P>|t|      [0.025      0.975]\n",
      "------------------------------------------------------------------------------\n",
      "const          0.0070      0.017      0.415      0.678      -0.026       0.040\n",
      "intj          -1.1647      0.156     -7.456      0.000      -1.471      -0.858\n",
      "lag_ds         0.0383      0.022      1.718      0.086      -0.005       0.082\n",
      "==============================================================================\n",
      "Omnibus:                      440.260   Durbin-Watson:                   1.984\n",
      "Prob(Omnibus):                  0.000   Jarque-Bera (JB):             3652.188\n",
      "Skew:                          -0.805   Prob(JB):                         0.00\n",
      "Kurtosis:                       9.449   Cond. No.                         9.31\n",
      "==============================================================================\n",
      "\n",
      "Notes:\n",
      "[1] Standard Errors assume that the covariance matrix of the errors is correctly specified.\n"
     ]
    }
   ],
   "source": [
    "subset_condition_2 = (df['date'] > '1995-05-09')\n",
    "Out6 = sm.OLS(df.loc[subset_condition_2, 'ds'], sm.add_constant(df.loc[subset_condition_2, ['intj', 'lag_ds']])).fit()\n",
    "print(Out6.summary())"
   ]
  }
 ],
 "metadata": {
  "kernelspec": {
   "display_name": "Python 3",
   "language": "python",
   "name": "python3"
  },
  "language_info": {
   "codemirror_mode": {
    "name": "ipython",
    "version": 3
   },
   "file_extension": ".py",
   "mimetype": "text/x-python",
   "name": "python",
   "nbconvert_exporter": "python",
   "pygments_lexer": "ipython3",
   "version": "3.12.6"
  }
 },
 "nbformat": 4,
 "nbformat_minor": 2
}
