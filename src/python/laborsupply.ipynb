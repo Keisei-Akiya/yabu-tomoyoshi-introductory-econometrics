{
 "cells": [
  {
   "cell_type": "code",
   "execution_count": 10,
   "metadata": {},
   "outputs": [],
   "source": [
    "# ライブラリをインポート\n",
    "\n",
    "# データ操作と数値計算のため\n",
    "import pandas as pd\n",
    "import numpy as np\n",
    "\n",
    "# データ可視化のため\n",
    "import matplotlib.pyplot as plt\n",
    "import seaborn as sns\n",
    "\n",
    "# 統計モデリングと計量経済分析のため\n",
    "import statsmodels.api as sm\n",
    "from linearmodels.iv import IV2SLS\n",
    "from statsmodels.iolib.summary2 import summary_col\n",
    "\n",
    "# for ignore warning\n",
    "import warnings\n",
    "warnings.filterwarnings('ignore')"
   ]
  },
  {
   "cell_type": "code",
   "execution_count": 31,
   "metadata": {},
   "outputs": [
    {
     "data": {
      "text/html": [
       "<div>\n",
       "<style scoped>\n",
       "    .dataframe tbody tr th:only-of-type {\n",
       "        vertical-align: middle;\n",
       "    }\n",
       "\n",
       "    .dataframe tbody tr th {\n",
       "        vertical-align: top;\n",
       "    }\n",
       "\n",
       "    .dataframe thead th {\n",
       "        text-align: right;\n",
       "    }\n",
       "</style>\n",
       "<table border=\"1\" class=\"dataframe\">\n",
       "  <thead>\n",
       "    <tr style=\"text-align: right;\">\n",
       "      <th></th>\n",
       "      <th>morekids</th>\n",
       "      <th>samesex</th>\n",
       "      <th>age</th>\n",
       "      <th>black</th>\n",
       "      <th>hispan</th>\n",
       "      <th>othrace</th>\n",
       "      <th>weeks</th>\n",
       "    </tr>\n",
       "  </thead>\n",
       "  <tbody>\n",
       "    <tr>\n",
       "      <th>0</th>\n",
       "      <td>0</td>\n",
       "      <td>0</td>\n",
       "      <td>27</td>\n",
       "      <td>0</td>\n",
       "      <td>0</td>\n",
       "      <td>0</td>\n",
       "      <td>0</td>\n",
       "    </tr>\n",
       "    <tr>\n",
       "      <th>1</th>\n",
       "      <td>0</td>\n",
       "      <td>0</td>\n",
       "      <td>30</td>\n",
       "      <td>0</td>\n",
       "      <td>0</td>\n",
       "      <td>0</td>\n",
       "      <td>30</td>\n",
       "    </tr>\n",
       "    <tr>\n",
       "      <th>2</th>\n",
       "      <td>0</td>\n",
       "      <td>0</td>\n",
       "      <td>27</td>\n",
       "      <td>0</td>\n",
       "      <td>0</td>\n",
       "      <td>0</td>\n",
       "      <td>0</td>\n",
       "    </tr>\n",
       "    <tr>\n",
       "      <th>3</th>\n",
       "      <td>0</td>\n",
       "      <td>0</td>\n",
       "      <td>35</td>\n",
       "      <td>1</td>\n",
       "      <td>0</td>\n",
       "      <td>0</td>\n",
       "      <td>0</td>\n",
       "    </tr>\n",
       "    <tr>\n",
       "      <th>4</th>\n",
       "      <td>0</td>\n",
       "      <td>1</td>\n",
       "      <td>30</td>\n",
       "      <td>0</td>\n",
       "      <td>0</td>\n",
       "      <td>0</td>\n",
       "      <td>22</td>\n",
       "    </tr>\n",
       "  </tbody>\n",
       "</table>\n",
       "</div>"
      ],
      "text/plain": [
       "   morekids  samesex  age  black  hispan  othrace  weeks\n",
       "0         0        0   27      0       0        0      0\n",
       "1         0        0   30      0       0        0     30\n",
       "2         0        0   27      0       0        0      0\n",
       "3         0        0   35      1       0        0      0\n",
       "4         0        1   30      0       0        0     22"
      ]
     },
     "execution_count": 31,
     "metadata": {},
     "output_type": "execute_result"
    }
   ],
   "source": [
    "url = \"https://www.fbc.keio.ac.jp/~tyabu/keiryo/laborsupply_data.csv\"\n",
    "df = pd.read_csv(url)\n",
    "df.head()"
   ]
  },
  {
   "cell_type": "markdown",
   "metadata": {},
   "source": [
    "## 13.6節の推定結果"
   ]
  },
  {
   "cell_type": "markdown",
   "metadata": {},
   "source": [
    "### OLS"
   ]
  },
  {
   "cell_type": "code",
   "execution_count": 32,
   "metadata": {},
   "outputs": [
    {
     "name": "stdout",
     "output_type": "stream",
     "text": [
      "                            OLS Regression Results                            \n",
      "==============================================================================\n",
      "Dep. Variable:                  weeks   R-squared:                       0.014\n",
      "Model:                            OLS   Adj. R-squared:                  0.014\n",
      "Method:                 Least Squares   F-statistic:                     3821.\n",
      "Date:                Fri, 30 Aug 2024   Prob (F-statistic):               0.00\n",
      "Time:                        17:31:18   Log-Likelihood:            -1.1451e+06\n",
      "No. Observations:              254654   AIC:                         2.290e+06\n",
      "Df Residuals:                  254652   BIC:                         2.290e+06\n",
      "Df Model:                           1                                         \n",
      "Covariance Type:                  HC1                                         \n",
      "==============================================================================\n",
      "                 coef    std err          z      P>|z|      [0.025      0.975]\n",
      "------------------------------------------------------------------------------\n",
      "const         21.0684      0.056    375.765      0.000      20.959      21.178\n",
      "morekids      -5.3870      0.087    -61.814      0.000      -5.558      -5.216\n",
      "==============================================================================\n",
      "Omnibus:                  1921554.195   Durbin-Watson:                   1.927\n",
      "Prob(Omnibus):                  0.000   Jarque-Bera (JB):            33549.325\n",
      "Skew:                           0.525   Prob(JB):                         0.00\n",
      "Kurtosis:                       1.564   Cond. No.                         2.43\n",
      "==============================================================================\n",
      "\n",
      "Notes:\n",
      "[1] Standard Errors are heteroscedasticity robust (HC1)\n"
     ]
    }
   ],
   "source": [
    "X = sm.add_constant(df['morekids'])\n",
    "y = df['weeks']\n",
    "out_1 = sm.OLS(y, X).fit(cov_type='HC1')\n",
    "print(out_1.summary())"
   ]
  },
  {
   "cell_type": "markdown",
   "metadata": {},
   "source": [
    "### IV\n",
    "#### First-stage"
   ]
  },
  {
   "cell_type": "code",
   "execution_count": 46,
   "metadata": {},
   "outputs": [
    {
     "name": "stdout",
     "output_type": "stream",
     "text": [
      "                            OLS Regression Results                            \n",
      "==============================================================================\n",
      "Dep. Variable:               morekids   R-squared:                       0.005\n",
      "Model:                            OLS   Adj. R-squared:                  0.005\n",
      "Method:                 Least Squares   F-statistic:                     1238.\n",
      "Date:                Fri, 30 Aug 2024   Prob (F-statistic):          1.39e-270\n",
      "Time:                        17:35:05   Log-Likelihood:            -1.7673e+05\n",
      "No. Observations:              254654   AIC:                         3.535e+05\n",
      "Df Residuals:                  254652   BIC:                         3.535e+05\n",
      "Df Model:                           1                                         \n",
      "Covariance Type:                  HC1                                         \n",
      "==============================================================================\n",
      "                 coef    std err          z      P>|z|      [0.025      0.975]\n",
      "------------------------------------------------------------------------------\n",
      "const          0.3464      0.001    258.335      0.000       0.344       0.349\n",
      "samesex        0.0675      0.002     35.188      0.000       0.064       0.071\n",
      "==============================================================================\n",
      "Omnibus:                  1057523.438   Durbin-Watson:                   1.949\n",
      "Prob(Omnibus):                  0.000   Jarque-Bera (JB):            42280.951\n",
      "Skew:                           0.488   Prob(JB):                         0.00\n",
      "Kurtosis:                       1.259   Cond. No.                         2.63\n",
      "==============================================================================\n",
      "\n",
      "Notes:\n",
      "[1] Standard Errors are heteroscedasticity robust (HC1)\n"
     ]
    }
   ],
   "source": [
    "X = sm.add_constant(df['samesex'])\n",
    "y = df['morekids']\n",
    "out_2_1st = sm.OLS(y, X).fit(cov_type='HC1')\n",
    "print(out_2_1st.summary())"
   ]
  },
  {
   "cell_type": "markdown",
   "metadata": {},
   "source": [
    "#### Second-stage"
   ]
  },
  {
   "cell_type": "code",
   "execution_count": 49,
   "metadata": {},
   "outputs": [
    {
     "name": "stdout",
     "output_type": "stream",
     "text": [
      "                          IV-2SLS Estimation Summary                          \n",
      "==============================================================================\n",
      "Dep. Variable:                  weeks   R-squared:                      0.0143\n",
      "Estimator:                    IV-2SLS   Adj. R-squared:                 0.0143\n",
      "No. Observations:              254654   F-statistic:                    3820.9\n",
      "Date:                Fri, Aug 30 2024   P-value (F-stat)                0.0000\n",
      "Time:                        17:37:29   Distribution:                  chi2(1)\n",
      "Cov. Estimator:                robust                                         \n",
      "                                                                              \n",
      "                             Parameter Estimates                              \n",
      "==============================================================================\n",
      "            Parameter  Std. Err.     T-stat    P-value    Lower CI    Upper CI\n",
      "------------------------------------------------------------------------------\n",
      "const          21.068     0.0561     375.77     0.0000      20.959      21.178\n",
      "morekids      -5.3870     0.0871    -61.814     0.0000     -5.5578     -5.2162\n",
      "==============================================================================\n",
      "\n",
      "Endogenous: \n",
      "Instruments: samesex\n",
      "Robust Covariance (Heteroskedastic)\n",
      "Debiased: False\n"
     ]
    }
   ],
   "source": [
    "x = sm.add_constant(df['morekids'])\n",
    "y = df['weeks']\n",
    "w = None\n",
    "Z = df['samesex']\n",
    "out_2 = IV2SLS(y, x, w, Z).fit()\n",
    "print(out_2)"
   ]
  },
  {
   "cell_type": "markdown",
   "metadata": {},
   "source": [
    "## 練習問題他のコントロール変数を含めた分析"
   ]
  },
  {
   "cell_type": "markdown",
   "metadata": {},
   "source": [
    "### OLS"
   ]
  },
  {
   "cell_type": "code",
   "execution_count": 48,
   "metadata": {},
   "outputs": [
    {
     "name": "stdout",
     "output_type": "stream",
     "text": [
      "                            OLS Regression Results                            \n",
      "==============================================================================\n",
      "Dep. Variable:                  weeks   R-squared:                       0.044\n",
      "Model:                            OLS   Adj. R-squared:                  0.044\n",
      "Method:                 Least Squares   F-statistic:                     2545.\n",
      "Date:                Fri, 30 Aug 2024   Prob (F-statistic):               0.00\n",
      "Time:                        17:35:25   Log-Likelihood:            -1.1412e+06\n",
      "No. Observations:              254654   AIC:                         2.283e+06\n",
      "Df Residuals:                  254648   BIC:                         2.283e+06\n",
      "Df Model:                           5                                         \n",
      "Covariance Type:                  HC1                                         \n",
      "==============================================================================\n",
      "                 coef    std err          z      P>|z|      [0.025      0.975]\n",
      "------------------------------------------------------------------------------\n",
      "const         -4.8345      0.367    -13.161      0.000      -5.555      -4.115\n",
      "morekids      -6.2304      0.086    -72.246      0.000      -6.399      -6.061\n",
      "age            0.8379      0.012     69.144      0.000       0.814       0.862\n",
      "black         11.6642      0.196     59.655      0.000      11.281      12.047\n",
      "hispan         0.4661      0.181      2.579      0.010       0.112       0.820\n",
      "othrace        2.1421      0.208     10.285      0.000       1.734       2.550\n",
      "==============================================================================\n",
      "Omnibus:                  4788726.078   Durbin-Watson:                   1.927\n",
      "Prob(Omnibus):                  0.000   Jarque-Bera (JB):            30037.015\n",
      "Skew:                           0.502   Prob(JB):                         0.00\n",
      "Kurtosis:                       1.650   Cond. No.                         279.\n",
      "==============================================================================\n",
      "\n",
      "Notes:\n",
      "[1] Standard Errors are heteroscedasticity robust (HC1)\n"
     ]
    }
   ],
   "source": [
    "X = sm.add_constant(df[['morekids', 'age', 'black', 'hispan', 'othrace']])\n",
    "y = df['weeks']\n",
    "out_3 = sm.OLS(y, X).fit(cov_type='HC1')\n",
    "print(out_3.summary())"
   ]
  },
  {
   "cell_type": "markdown",
   "metadata": {},
   "source": [
    "### IV\n",
    "#### First-stage"
   ]
  },
  {
   "cell_type": "code",
   "execution_count": 36,
   "metadata": {},
   "outputs": [
    {
     "name": "stdout",
     "output_type": "stream",
     "text": [
      "                            OLS Regression Results                            \n",
      "==============================================================================\n",
      "Dep. Variable:               morekids   R-squared:                       0.024\n",
      "Model:                            OLS   Adj. R-squared:                  0.024\n",
      "Method:                 Least Squares   F-statistic:                     1304.\n",
      "Date:                Fri, 30 Aug 2024   Prob (F-statistic):               0.00\n",
      "Time:                        17:31:39   Log-Likelihood:            -1.7423e+05\n",
      "No. Observations:              254654   AIC:                         3.485e+05\n",
      "Df Residuals:                  254648   BIC:                         3.485e+05\n",
      "Df Model:                           5                                         \n",
      "Covariance Type:                  HC1                                         \n",
      "==============================================================================\n",
      "                 coef    std err          z      P>|z|      [0.025      0.975]\n",
      "------------------------------------------------------------------------------\n",
      "const         -0.1395      0.008    -16.494      0.000      -0.156      -0.123\n",
      "samesex        0.0680      0.002     35.790      0.000       0.064       0.072\n",
      "age            0.0154      0.000     55.764      0.000       0.015       0.016\n",
      "black          0.1005      0.004     22.628      0.000       0.092       0.109\n",
      "hispan         0.1512      0.004     36.742      0.000       0.143       0.159\n",
      "othrace        0.0275      0.005      5.928      0.000       0.018       0.037\n",
      "==============================================================================\n",
      "Omnibus:                  1139857.877   Durbin-Watson:                   1.947\n",
      "Prob(Omnibus):                  0.000   Jarque-Bera (JB):            39288.630\n",
      "Skew:                           0.477   Prob(JB):                         0.00\n",
      "Kurtosis:                       1.329   Cond. No.                         281.\n",
      "==============================================================================\n",
      "\n",
      "Notes:\n",
      "[1] Standard Errors are heteroscedasticity robust (HC1)\n"
     ]
    }
   ],
   "source": [
    "X = sm.add_constant(df[['samesex', 'age', 'black', 'hispan', 'othrace']])\n",
    "y = df['morekids']\n",
    "out_4_1st = sm.OLS(y, X).fit(cov_type='HC1')\n",
    "print(out_4_1st.summary())"
   ]
  },
  {
   "cell_type": "markdown",
   "metadata": {},
   "source": [
    "#### Second-stage"
   ]
  },
  {
   "cell_type": "code",
   "execution_count": 41,
   "metadata": {},
   "outputs": [
    {
     "name": "stdout",
     "output_type": "stream",
     "text": [
      "                          IV-2SLS Estimation Summary                          \n",
      "==============================================================================\n",
      "Dep. Variable:                  weeks   R-squared:                      0.0437\n",
      "Estimator:                    IV-2SLS   Adj. R-squared:                 0.0437\n",
      "No. Observations:              254654   F-statistic:                    6955.0\n",
      "Date:                Fri, Aug 30 2024   P-value (F-stat)                0.0000\n",
      "Time:                        17:32:56   Distribution:                  chi2(5)\n",
      "Cov. Estimator:                robust                                         \n",
      "                                                                              \n",
      "                             Parameter Estimates                              \n",
      "==============================================================================\n",
      "            Parameter  Std. Err.     T-stat    P-value    Lower CI    Upper CI\n",
      "------------------------------------------------------------------------------\n",
      "const         -4.7919     0.3898    -12.294     0.0000     -5.5559     -4.0279\n",
      "age            0.8316     0.0226     36.730     0.0000      0.7872      0.8760\n",
      "black          11.623     0.2318     50.145     0.0000      11.169      12.078\n",
      "hispan         0.4042     0.2608     1.5498     0.1212     -0.1070      0.9153\n",
      "othrace        2.1310     0.2110     10.100     0.0000      1.7174      2.5445\n",
      "morekids      -5.8211     1.2464    -4.6703     0.0000     -8.2639     -3.3782\n",
      "==============================================================================\n",
      "\n",
      "Endogenous: morekids\n",
      "Instruments: samesex\n",
      "Robust Covariance (Heteroskedastic)\n",
      "Debiased: False\n"
     ]
    }
   ],
   "source": [
    "exog = sm.add_constant(df[['age', 'black', 'hispan', 'othrace']])\n",
    "endog = df['morekids']\n",
    "y = df['weeks']\n",
    "instruments = df[['samesex']]\n",
    "out_4 = IV2SLS(y, exog, endog, instruments).fit(cov_type='robust')\n",
    "print(out_4.summary)"
   ]
  }
 ],
 "metadata": {
  "kernelspec": {
   "display_name": "Python 3",
   "language": "python",
   "name": "python3"
  },
  "language_info": {
   "codemirror_mode": {
    "name": "ipython",
    "version": 3
   },
   "file_extension": ".py",
   "mimetype": "text/x-python",
   "name": "python",
   "nbconvert_exporter": "python",
   "pygments_lexer": "ipython3",
   "version": "3.12.3"
  }
 },
 "nbformat": 4,
 "nbformat_minor": 2
}
