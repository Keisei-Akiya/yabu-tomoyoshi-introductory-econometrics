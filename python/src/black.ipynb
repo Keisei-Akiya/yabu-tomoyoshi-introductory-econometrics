{
 "cells": [
  {
   "cell_type": "code",
   "execution_count": 1,
   "metadata": {},
   "outputs": [],
   "source": [
    "# ライブラリをインポート\n",
    "\n",
    "# データ操作と数値計算のため\n",
    "import pandas as pd\n",
    "import numpy as np\n",
    "\n",
    "# データ可視化のため\n",
    "import matplotlib.pyplot as plt\n",
    "import seaborn as sns\n",
    "\n",
    "# 統計モデリングと計量経済分析のため\n",
    "import statsmodels.api as sm\n",
    "from statsmodels.iolib.summary2 import summary_col\n",
    "\n",
    "# for ignore warning\n",
    "import warnings\n",
    "warnings.filterwarnings('ignore')"
   ]
  },
  {
   "cell_type": "code",
   "execution_count": 2,
   "metadata": {},
   "outputs": [
    {
     "data": {
      "text/html": [
       "<div>\n",
       "<style scoped>\n",
       "    .dataframe tbody tr th:only-of-type {\n",
       "        vertical-align: middle;\n",
       "    }\n",
       "\n",
       "    .dataframe tbody tr th {\n",
       "        vertical-align: top;\n",
       "    }\n",
       "\n",
       "    .dataframe thead th {\n",
       "        text-align: right;\n",
       "    }\n",
       "</style>\n",
       "<table border=\"1\" class=\"dataframe\">\n",
       "  <thead>\n",
       "    <tr style=\"text-align: right;\">\n",
       "      <th></th>\n",
       "      <th>name</th>\n",
       "      <th>call</th>\n",
       "      <th>black</th>\n",
       "      <th>experience</th>\n",
       "      <th>female</th>\n",
       "    </tr>\n",
       "  </thead>\n",
       "  <tbody>\n",
       "    <tr>\n",
       "      <th>0</th>\n",
       "      <td>Allison</td>\n",
       "      <td>0</td>\n",
       "      <td>0</td>\n",
       "      <td>6</td>\n",
       "      <td>1</td>\n",
       "    </tr>\n",
       "    <tr>\n",
       "      <th>1</th>\n",
       "      <td>Kristen</td>\n",
       "      <td>0</td>\n",
       "      <td>0</td>\n",
       "      <td>6</td>\n",
       "      <td>1</td>\n",
       "    </tr>\n",
       "    <tr>\n",
       "      <th>2</th>\n",
       "      <td>Lakisha</td>\n",
       "      <td>0</td>\n",
       "      <td>1</td>\n",
       "      <td>6</td>\n",
       "      <td>1</td>\n",
       "    </tr>\n",
       "    <tr>\n",
       "      <th>3</th>\n",
       "      <td>Latonya</td>\n",
       "      <td>0</td>\n",
       "      <td>1</td>\n",
       "      <td>6</td>\n",
       "      <td>1</td>\n",
       "    </tr>\n",
       "    <tr>\n",
       "      <th>4</th>\n",
       "      <td>Carrie</td>\n",
       "      <td>0</td>\n",
       "      <td>0</td>\n",
       "      <td>22</td>\n",
       "      <td>1</td>\n",
       "    </tr>\n",
       "  </tbody>\n",
       "</table>\n",
       "</div>"
      ],
      "text/plain": [
       "      name  call  black  experience  female\n",
       "0  Allison     0      0           6       1\n",
       "1  Kristen     0      0           6       1\n",
       "2  Lakisha     0      1           6       1\n",
       "3  Latonya     0      1           6       1\n",
       "4   Carrie     0      0          22       1"
      ]
     },
     "execution_count": 2,
     "metadata": {},
     "output_type": "execute_result"
    }
   ],
   "source": [
    "url = \"https://www.fbc.keio.ac.jp/~tyabu/keiryo/black_data.csv\"\n",
    "df = pd.read_csv(url)\n",
    "df.head()"
   ]
  },
  {
   "cell_type": "markdown",
   "metadata": {},
   "source": [
    "# 9.3節の推定結果"
   ]
  },
  {
   "cell_type": "code",
   "execution_count": 3,
   "metadata": {},
   "outputs": [
    {
     "name": "stdout",
     "output_type": "stream",
     "text": [
      "                            OLS Regression Results                            \n",
      "==============================================================================\n",
      "Dep. Variable:                   call   R-squared:                       0.003\n",
      "Model:                            OLS   Adj. R-squared:                  0.003\n",
      "Method:                 Least Squares   F-statistic:                     16.93\n",
      "Date:                Wed, 18 Sep 2024   Prob (F-statistic):           3.94e-05\n",
      "Time:                        17:11:20   Log-Likelihood:                -562.24\n",
      "No. Observations:                4870   AIC:                             1128.\n",
      "Df Residuals:                    4868   BIC:                             1141.\n",
      "Df Model:                           1                                         \n",
      "Covariance Type:            nonrobust                                         \n",
      "==============================================================================\n",
      "                 coef    std err          t      P>|t|      [0.025      0.975]\n",
      "------------------------------------------------------------------------------\n",
      "const          0.0965      0.006     17.532      0.000       0.086       0.107\n",
      "black         -0.0320      0.008     -4.115      0.000      -0.047      -0.017\n",
      "==============================================================================\n",
      "Omnibus:                     2969.205   Durbin-Watson:                   1.440\n",
      "Prob(Omnibus):                  0.000   Jarque-Bera (JB):            18927.068\n",
      "Skew:                           3.068   Prob(JB):                         0.00\n",
      "Kurtosis:                      10.458   Cond. No.                         2.62\n",
      "==============================================================================\n",
      "\n",
      "Notes:\n",
      "[1] Standard Errors assume that the covariance matrix of the errors is correctly specified.\n"
     ]
    }
   ],
   "source": [
    "endog = df['call']\n",
    "exog = df['black']\n",
    "exog = sm.add_constant(exog)\n",
    "\n",
    "model_1 = sm.OLS(endog, exog)\n",
    "results_1 = model_1.fit()\n",
    "print(results_1.summary())"
   ]
  },
  {
   "cell_type": "code",
   "execution_count": 4,
   "metadata": {},
   "outputs": [
    {
     "name": "stdout",
     "output_type": "stream",
     "text": [
      "                            OLS Regression Results                            \n",
      "==============================================================================\n",
      "Dep. Variable:                   call   R-squared:                       0.003\n",
      "Model:                            OLS   Adj. R-squared:                  0.003\n",
      "Method:                 Least Squares   F-statistic:                     16.93\n",
      "Date:                Wed, 18 Sep 2024   Prob (F-statistic):           3.94e-05\n",
      "Time:                        17:11:22   Log-Likelihood:                -562.24\n",
      "No. Observations:                4870   AIC:                             1128.\n",
      "Df Residuals:                    4868   BIC:                             1141.\n",
      "Df Model:                           1                                         \n",
      "Covariance Type:                  HC1                                         \n",
      "==============================================================================\n",
      "                 coef    std err          z      P>|z|      [0.025      0.975]\n",
      "------------------------------------------------------------------------------\n",
      "const          0.0965      0.006     16.124      0.000       0.085       0.108\n",
      "black         -0.0320      0.008     -4.115      0.000      -0.047      -0.017\n",
      "==============================================================================\n",
      "Omnibus:                     2969.205   Durbin-Watson:                   1.440\n",
      "Prob(Omnibus):                  0.000   Jarque-Bera (JB):            18927.068\n",
      "Skew:                           3.068   Prob(JB):                         0.00\n",
      "Kurtosis:                      10.458   Cond. No.                         2.62\n",
      "==============================================================================\n",
      "\n",
      "Notes:\n",
      "[1] Standard Errors are heteroscedasticity robust (HC1)\n"
     ]
    }
   ],
   "source": [
    "endog = df['call']\n",
    "exog = df['black']\n",
    "exog = sm.add_constant(exog)\n",
    "\n",
    "model_1_robust = sm.OLS(endog, exog)\n",
    "results_1_robust = model_1_robust.fit(cov_type=\"HC1\")\n",
    "print(results_1_robust.summary())"
   ]
  },
  {
   "cell_type": "code",
   "execution_count": 5,
   "metadata": {},
   "outputs": [
    {
     "name": "stdout",
     "output_type": "stream",
     "text": [
      "                            OLS Regression Results                            \n",
      "==============================================================================\n",
      "Dep. Variable:                   call   R-squared:                       0.007\n",
      "Model:                            OLS   Adj. R-squared:                  0.007\n",
      "Method:                 Least Squares   F-statistic:                     17.70\n",
      "Date:                Wed, 18 Sep 2024   Prob (F-statistic):           2.19e-08\n",
      "Time:                        17:11:24   Log-Likelihood:                -553.05\n",
      "No. Observations:                4870   AIC:                             1112.\n",
      "Df Residuals:                    4867   BIC:                             1132.\n",
      "Df Model:                           2                                         \n",
      "Covariance Type:            nonrobust                                         \n",
      "==============================================================================\n",
      "                 coef    std err          t      P>|t|      [0.025      0.975]\n",
      "------------------------------------------------------------------------------\n",
      "const          0.0705      0.008      8.630      0.000       0.055       0.087\n",
      "black         -0.0319      0.008     -4.111      0.000      -0.047      -0.017\n",
      "experience     0.0033      0.001      4.291      0.000       0.002       0.005\n",
      "==============================================================================\n",
      "Omnibus:                     2953.901   Durbin-Watson:                   1.444\n",
      "Prob(Omnibus):                  0.000   Jarque-Bera (JB):            18682.700\n",
      "Skew:                           3.051   Prob(JB):                         0.00\n",
      "Kurtosis:                      10.406   Cond. No.                         23.4\n",
      "==============================================================================\n",
      "\n",
      "Notes:\n",
      "[1] Standard Errors assume that the covariance matrix of the errors is correctly specified.\n"
     ]
    }
   ],
   "source": [
    "endog = df['call']\n",
    "exog = df[['black', 'experience']]\n",
    "exog = sm.add_constant(exog)\n",
    "\n",
    "model_2 = sm.OLS(endog, exog)\n",
    "results_2 = model_2.fit()\n",
    "print(results_2.summary())"
   ]
  },
  {
   "cell_type": "code",
   "execution_count": 6,
   "metadata": {},
   "outputs": [
    {
     "name": "stdout",
     "output_type": "stream",
     "text": [
      "                            OLS Regression Results                            \n",
      "==============================================================================\n",
      "Dep. Variable:                   call   R-squared:                       0.007\n",
      "Model:                            OLS   Adj. R-squared:                  0.007\n",
      "Method:                 Least Squares   F-statistic:                     15.87\n",
      "Date:                Wed, 18 Sep 2024   Prob (F-statistic):           1.35e-07\n",
      "Time:                        17:11:25   Log-Likelihood:                -553.05\n",
      "No. Observations:                4870   AIC:                             1112.\n",
      "Df Residuals:                    4867   BIC:                             1132.\n",
      "Df Model:                           2                                         \n",
      "Covariance Type:                  HC1                                         \n",
      "==============================================================================\n",
      "                 coef    std err          z      P>|z|      [0.025      0.975]\n",
      "------------------------------------------------------------------------------\n",
      "const          0.0705      0.008      8.341      0.000       0.054       0.087\n",
      "black         -0.0319      0.008     -4.111      0.000      -0.047      -0.017\n",
      "experience     0.0033      0.001      3.870      0.000       0.002       0.005\n",
      "==============================================================================\n",
      "Omnibus:                     2953.901   Durbin-Watson:                   1.444\n",
      "Prob(Omnibus):                  0.000   Jarque-Bera (JB):            18682.700\n",
      "Skew:                           3.051   Prob(JB):                         0.00\n",
      "Kurtosis:                      10.406   Cond. No.                         23.4\n",
      "==============================================================================\n",
      "\n",
      "Notes:\n",
      "[1] Standard Errors are heteroscedasticity robust (HC1)\n"
     ]
    }
   ],
   "source": [
    "endog = df['call']\n",
    "exog = df[['black', 'experience']]\n",
    "exog = sm.add_constant(exog)\n",
    "\n",
    "model_2_robust = sm.OLS(endog, exog)\n",
    "results_2_robust = model_2_robust.fit(cov_type=\"HC1\")\n",
    "print(results_2_robust.summary())"
   ]
  },
  {
   "cell_type": "markdown",
   "metadata": {},
   "source": [
    "# 9.4.2節の推定結果"
   ]
  },
  {
   "cell_type": "code",
   "execution_count": 7,
   "metadata": {},
   "outputs": [
    {
     "name": "stdout",
     "output_type": "stream",
     "text": [
      "                            OLS Regression Results                            \n",
      "==============================================================================\n",
      "Dep. Variable:                   call   R-squared:                       0.007\n",
      "Model:                            OLS   Adj. R-squared:                  0.007\n",
      "Method:                 Least Squares   F-statistic:                     15.87\n",
      "Date:                Wed, 18 Sep 2024   Prob (F-statistic):           1.35e-07\n",
      "Time:                        17:11:27   Log-Likelihood:                -553.05\n",
      "No. Observations:                4870   AIC:                             1112.\n",
      "Df Residuals:                    4867   BIC:                             1132.\n",
      "Df Model:                           2                                         \n",
      "Covariance Type:                  HC1                                         \n",
      "==============================================================================\n",
      "                 coef    std err          z      P>|z|      [0.025      0.975]\n",
      "------------------------------------------------------------------------------\n",
      "const          0.0705      0.008      8.341      0.000       0.054       0.087\n",
      "black         -0.0319      0.008     -4.111      0.000      -0.047      -0.017\n",
      "experience     0.0033      0.001      3.870      0.000       0.002       0.005\n",
      "==============================================================================\n",
      "Omnibus:                     2953.901   Durbin-Watson:                   1.444\n",
      "Prob(Omnibus):                  0.000   Jarque-Bera (JB):            18682.700\n",
      "Skew:                           3.051   Prob(JB):                         0.00\n",
      "Kurtosis:                      10.406   Cond. No.                         23.4\n",
      "==============================================================================\n",
      "\n",
      "Notes:\n",
      "[1] Standard Errors are heteroscedasticity robust (HC1)\n"
     ]
    }
   ],
   "source": [
    "endog = df['call']\n",
    "exog = df[['black', 'experience']]\n",
    "exog = sm.add_constant(exog)\n",
    "\n",
    "model_3 = sm.OLS(endog, exog)\n",
    "result_3 = model_3.fit(cov_type=\"HC1\")\n",
    "print(result_3.summary())"
   ]
  },
  {
   "cell_type": "code",
   "execution_count": 8,
   "metadata": {},
   "outputs": [
    {
     "name": "stdout",
     "output_type": "stream",
     "text": [
      "                                 OLS Regression Results                                \n",
      "=======================================================================================\n",
      "Dep. Variable:                 call_h   R-squared (uncentered):                   0.081\n",
      "Model:                            OLS   Adj. R-squared (uncentered):              0.080\n",
      "Method:                 Least Squares   F-statistic:                              143.1\n",
      "Date:                Wed, 18 Sep 2024   Prob (F-statistic):                    7.53e-89\n",
      "Time:                        17:11:29   Log-Likelihood:                         -6911.4\n",
      "No. Observations:                4870   AIC:                                  1.383e+04\n",
      "Df Residuals:                    4867   BIC:                                  1.385e+04\n",
      "Df Model:                           3                                                  \n",
      "Covariance Type:            nonrobust                                                  \n",
      "================================================================================\n",
      "                   coef    std err          t      P>|t|      [0.025      0.975]\n",
      "--------------------------------------------------------------------------------\n",
      "x0               0.0699      0.009      8.206      0.000       0.053       0.087\n",
      "black_h         -0.0312      0.008     -4.076      0.000      -0.046      -0.016\n",
      "experience_h     0.0033      0.001      3.950      0.000       0.002       0.005\n",
      "==============================================================================\n",
      "Omnibus:                     3129.187   Durbin-Watson:                   1.443\n",
      "Prob(Omnibus):                  0.000   Jarque-Bera (JB):            23369.475\n",
      "Skew:                           3.202   Prob(JB):                         0.00\n",
      "Kurtosis:                      11.612   Cond. No.                         22.6\n",
      "==============================================================================\n",
      "\n",
      "Notes:\n",
      "[1] R² is computed without centering (uncentered) since the model does not contain a constant.\n",
      "[2] Standard Errors assume that the covariance matrix of the errors is correctly specified.\n"
     ]
    }
   ],
   "source": [
    "df['p'] = result_3.fittedvalues\n",
    "df['h'] = ((1 - df['p']) * df['p'])**0.5\n",
    "df['x0'] = 1 / df['h']\n",
    "df['call_h'] = df['call'] / df['h']\n",
    "df['black_h'] = df['black'] / df['h']\n",
    "df['experience_h'] = df['experience'] / df['h']\n",
    "\n",
    "endog = df['call_h']\n",
    "exog = df[['x0', 'black_h', 'experience_h']]\n",
    "\n",
    "model_4 = sm.OLS(endog, exog)\n",
    "result_4 = model_4.fit()\n",
    "\n",
    "print(result_4.summary())"
   ]
  }
 ],
 "metadata": {
  "kernelspec": {
   "display_name": "Python 3",
   "language": "python",
   "name": "python3"
  },
  "language_info": {
   "codemirror_mode": {
    "name": "ipython",
    "version": 3
   },
   "file_extension": ".py",
   "mimetype": "text/x-python",
   "name": "python",
   "nbconvert_exporter": "python",
   "pygments_lexer": "ipython3",
   "version": "3.12.6"
  }
 },
 "nbformat": 4,
 "nbformat_minor": 2
}
