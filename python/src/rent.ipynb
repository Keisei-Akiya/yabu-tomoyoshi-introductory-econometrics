{
 "cells": [
  {
   "cell_type": "code",
   "execution_count": 58,
   "metadata": {},
   "outputs": [],
   "source": [
    "# ライブラリをインポート\n",
    "\n",
    "# データ操作と数値計算のため\n",
    "import pandas as pd\n",
    "import numpy as np\n",
    "\n",
    "# データ可視化のため\n",
    "import matplotlib.pyplot as plt\n",
    "import seaborn as sns\n",
    "\n",
    "# 統計モデリングと計量経済分析のため\n",
    "import statsmodels.api as sm\n",
    "from statsmodels.iolib.summary2 import summary_col\n",
    "\n",
    "# for ignore warning\n",
    "import warnings\n",
    "warnings.filterwarnings('ignore')"
   ]
  },
  {
   "cell_type": "code",
   "execution_count": 59,
   "metadata": {},
   "outputs": [
    {
     "data": {
      "text/html": [
       "<div>\n",
       "<style scoped>\n",
       "    .dataframe tbody tr th:only-of-type {\n",
       "        vertical-align: middle;\n",
       "    }\n",
       "\n",
       "    .dataframe tbody tr th {\n",
       "        vertical-align: top;\n",
       "    }\n",
       "\n",
       "    .dataframe thead th {\n",
       "        text-align: right;\n",
       "    }\n",
       "</style>\n",
       "<table border=\"1\" class=\"dataframe\">\n",
       "  <thead>\n",
       "    <tr style=\"text-align: right;\">\n",
       "      <th></th>\n",
       "      <th>rent</th>\n",
       "      <th>space</th>\n",
       "      <th>distance</th>\n",
       "      <th>age</th>\n",
       "      <th>floor</th>\n",
       "    </tr>\n",
       "  </thead>\n",
       "  <tbody>\n",
       "    <tr>\n",
       "      <th>0</th>\n",
       "      <td>14.6</td>\n",
       "      <td>50.51</td>\n",
       "      <td>8</td>\n",
       "      <td>7</td>\n",
       "      <td>1</td>\n",
       "    </tr>\n",
       "    <tr>\n",
       "      <th>1</th>\n",
       "      <td>14.8</td>\n",
       "      <td>50.51</td>\n",
       "      <td>8</td>\n",
       "      <td>7</td>\n",
       "      <td>2</td>\n",
       "    </tr>\n",
       "    <tr>\n",
       "      <th>2</th>\n",
       "      <td>11.0</td>\n",
       "      <td>50.08</td>\n",
       "      <td>20</td>\n",
       "      <td>19</td>\n",
       "      <td>3</td>\n",
       "    </tr>\n",
       "    <tr>\n",
       "      <th>3</th>\n",
       "      <td>7.0</td>\n",
       "      <td>25.04</td>\n",
       "      <td>20</td>\n",
       "      <td>19</td>\n",
       "      <td>2</td>\n",
       "    </tr>\n",
       "    <tr>\n",
       "      <th>4</th>\n",
       "      <td>11.3</td>\n",
       "      <td>50.08</td>\n",
       "      <td>20</td>\n",
       "      <td>19</td>\n",
       "      <td>3</td>\n",
       "    </tr>\n",
       "  </tbody>\n",
       "</table>\n",
       "</div>"
      ],
      "text/plain": [
       "   rent  space  distance  age  floor\n",
       "0  14.6  50.51         8    7      1\n",
       "1  14.8  50.51         8    7      2\n",
       "2  11.0  50.08        20   19      3\n",
       "3   7.0  25.04        20   19      2\n",
       "4  11.3  50.08        20   19      3"
      ]
     },
     "execution_count": 59,
     "metadata": {},
     "output_type": "execute_result"
    }
   ],
   "source": [
    "# データの読み込み\n",
    "url = \"https://www.fbc.keio.ac.jp/~tyabu/keiryo/rent_data.csv\"\n",
    "df = pd.read_csv(url)\n",
    "df.head()"
   ]
  },
  {
   "cell_type": "code",
   "execution_count": 60,
   "metadata": {},
   "outputs": [
    {
     "name": "stdout",
     "output_type": "stream",
     "text": [
      "<class 'pandas.core.frame.DataFrame'>\n",
      "RangeIndex: 724 entries, 0 to 723\n",
      "Data columns (total 5 columns):\n",
      " #   Column    Non-Null Count  Dtype  \n",
      "---  ------    --------------  -----  \n",
      " 0   rent      724 non-null    float64\n",
      " 1   space     724 non-null    float64\n",
      " 2   distance  724 non-null    int64  \n",
      " 3   age       724 non-null    int64  \n",
      " 4   floor     724 non-null    int64  \n",
      "dtypes: float64(2), int64(3)\n",
      "memory usage: 28.4 KB\n"
     ]
    }
   ],
   "source": [
    "df.info()"
   ]
  },
  {
   "cell_type": "code",
   "execution_count": 61,
   "metadata": {},
   "outputs": [
    {
     "data": {
      "text/html": [
       "<div>\n",
       "<style scoped>\n",
       "    .dataframe tbody tr th:only-of-type {\n",
       "        vertical-align: middle;\n",
       "    }\n",
       "\n",
       "    .dataframe tbody tr th {\n",
       "        vertical-align: top;\n",
       "    }\n",
       "\n",
       "    .dataframe thead th {\n",
       "        text-align: right;\n",
       "    }\n",
       "</style>\n",
       "<table border=\"1\" class=\"dataframe\">\n",
       "  <thead>\n",
       "    <tr style=\"text-align: right;\">\n",
       "      <th></th>\n",
       "      <th>rent</th>\n",
       "      <th>space</th>\n",
       "      <th>distance</th>\n",
       "      <th>age</th>\n",
       "      <th>floor</th>\n",
       "    </tr>\n",
       "  </thead>\n",
       "  <tbody>\n",
       "    <tr>\n",
       "      <th>count</th>\n",
       "      <td>724.000000</td>\n",
       "      <td>724.000000</td>\n",
       "      <td>724.000000</td>\n",
       "      <td>724.000000</td>\n",
       "      <td>724.000000</td>\n",
       "    </tr>\n",
       "    <tr>\n",
       "      <th>mean</th>\n",
       "      <td>7.035912</td>\n",
       "      <td>27.130124</td>\n",
       "      <td>10.796961</td>\n",
       "      <td>26.821823</td>\n",
       "      <td>1.983425</td>\n",
       "    </tr>\n",
       "    <tr>\n",
       "      <th>std</th>\n",
       "      <td>2.244058</td>\n",
       "      <td>12.179073</td>\n",
       "      <td>4.769827</td>\n",
       "      <td>11.025685</td>\n",
       "      <td>0.992225</td>\n",
       "    </tr>\n",
       "    <tr>\n",
       "      <th>min</th>\n",
       "      <td>3.600000</td>\n",
       "      <td>5.400000</td>\n",
       "      <td>1.000000</td>\n",
       "      <td>0.000000</td>\n",
       "      <td>1.000000</td>\n",
       "    </tr>\n",
       "    <tr>\n",
       "      <th>25%</th>\n",
       "      <td>5.500000</td>\n",
       "      <td>18.310000</td>\n",
       "      <td>7.000000</td>\n",
       "      <td>20.000000</td>\n",
       "      <td>1.000000</td>\n",
       "    </tr>\n",
       "    <tr>\n",
       "      <th>50%</th>\n",
       "      <td>6.500000</td>\n",
       "      <td>22.120000</td>\n",
       "      <td>10.000000</td>\n",
       "      <td>29.000000</td>\n",
       "      <td>2.000000</td>\n",
       "    </tr>\n",
       "    <tr>\n",
       "      <th>75%</th>\n",
       "      <td>8.000000</td>\n",
       "      <td>35.000000</td>\n",
       "      <td>15.000000</td>\n",
       "      <td>34.000000</td>\n",
       "      <td>2.000000</td>\n",
       "    </tr>\n",
       "    <tr>\n",
       "      <th>max</th>\n",
       "      <td>18.000000</td>\n",
       "      <td>80.550000</td>\n",
       "      <td>23.000000</td>\n",
       "      <td>59.000000</td>\n",
       "      <td>7.000000</td>\n",
       "    </tr>\n",
       "  </tbody>\n",
       "</table>\n",
       "</div>"
      ],
      "text/plain": [
       "             rent       space    distance         age       floor\n",
       "count  724.000000  724.000000  724.000000  724.000000  724.000000\n",
       "mean     7.035912   27.130124   10.796961   26.821823    1.983425\n",
       "std      2.244058   12.179073    4.769827   11.025685    0.992225\n",
       "min      3.600000    5.400000    1.000000    0.000000    1.000000\n",
       "25%      5.500000   18.310000    7.000000   20.000000    1.000000\n",
       "50%      6.500000   22.120000   10.000000   29.000000    2.000000\n",
       "75%      8.000000   35.000000   15.000000   34.000000    2.000000\n",
       "max     18.000000   80.550000   23.000000   59.000000    7.000000"
      ]
     },
     "execution_count": 61,
     "metadata": {},
     "output_type": "execute_result"
    }
   ],
   "source": [
    "df.describe()"
   ]
  },
  {
   "cell_type": "markdown",
   "metadata": {},
   "source": [
    "# 3.5節の推定結果\n",
    "724物件のデータを用いた推定"
   ]
  },
  {
   "cell_type": "code",
   "execution_count": 62,
   "metadata": {},
   "outputs": [
    {
     "name": "stdout",
     "output_type": "stream",
     "text": [
      "                            OLS Regression Results                            \n",
      "==============================================================================\n",
      "Dep. Variable:                   rent   R-squared:                       0.757\n",
      "Model:                            OLS   Adj. R-squared:                  0.756\n",
      "Method:                 Least Squares   F-statistic:                     2244.\n",
      "Date:                Thu, 18 Jul 2024   Prob (F-statistic):          1.03e-223\n",
      "Time:                        18:28:19   Log-Likelihood:                -1100.5\n",
      "No. Observations:                 724   AIC:                             2205.\n",
      "Df Residuals:                     722   BIC:                             2214.\n",
      "Df Model:                           1                                         \n",
      "Covariance Type:            nonrobust                                         \n",
      "==============================================================================\n",
      "                 coef    std err          t      P>|t|      [0.025      0.975]\n",
      "------------------------------------------------------------------------------\n",
      "const          2.6878      0.101     26.718      0.000       2.490       2.885\n",
      "space          0.1603      0.003     47.371      0.000       0.154       0.167\n",
      "==============================================================================\n",
      "Omnibus:                       40.653   Durbin-Watson:                   0.712\n",
      "Prob(Omnibus):                  0.000   Jarque-Bera (JB):               53.522\n",
      "Skew:                           0.497   Prob(JB):                     2.39e-12\n",
      "Kurtosis:                       3.886   Cond. No.                         72.7\n",
      "==============================================================================\n",
      "\n",
      "Notes:\n",
      "[1] Standard Errors assume that the covariance matrix of the errors is correctly specified.\n"
     ]
    }
   ],
   "source": [
    "endog = df['rent']\n",
    "exog = df['space']\n",
    "exog = sm.add_constant(exog)\n",
    "\n",
    "mod_1 = sm.OLS(\n",
    "  endog,\n",
    "  exog\n",
    ")\n",
    "res_1 = mod_1.fit()\n",
    "print(res_1.summary())"
   ]
  },
  {
   "cell_type": "code",
   "execution_count": 63,
   "metadata": {},
   "outputs": [
    {
     "data": {
      "image/png": "[encoded data removed]",
      "text/plain": [
       "<Figure size 1200x600 with 1 Axes>"
      ]
     },
     "metadata": {},
     "output_type": "display_data"
    }
   ],
   "source": [
    "plt.figure(figsize=(12, 6))\n",
    "sns.regplot(\n",
    "  x = df['space'],\n",
    "  y = df['rent']\n",
    ")\n",
    "plt.show()"
   ]
  },
  {
   "cell_type": "markdown",
   "metadata": {},
   "source": [
    "# 5.3.2節の推定結果"
   ]
  },
  {
   "cell_type": "code",
   "execution_count": 64,
   "metadata": {},
   "outputs": [],
   "source": [
    "endog = df['rent']\n",
    "exog = df[['distance', 'space']]\n",
    "exog = sm.add_constant(exog)\n",
    "\n",
    "mod_2 = sm.OLS(\n",
    "  endog,\n",
    "  exog\n",
    ")\n",
    "res_2 = mod_2.fit()\n",
    "# print(res_2.summary())"
   ]
  },
  {
   "cell_type": "code",
   "execution_count": 65,
   "metadata": {},
   "outputs": [],
   "source": [
    "endog = df['rent']\n",
    "exog = df['distance']\n",
    "exog = sm.add_constant(exog)\n",
    "\n",
    "mod_3 = sm.OLS(\n",
    "  endog,\n",
    "  exog\n",
    ")\n",
    "res_3 = mod_3.fit()\n",
    "# print(res_3.summary())"
   ]
  },
  {
   "cell_type": "code",
   "execution_count": 66,
   "metadata": {},
   "outputs": [
    {
     "name": "stdout",
     "output_type": "stream",
     "text": [
      "\n",
      "===============================\n",
      "                Eq(2)     q(3) \n",
      "-------------------------------\n",
      "const          3.15***  6.03***\n",
      "               (0.11)   (0.20) \n",
      "distance       -0.07*** 0.09***\n",
      "               (0.01)   (0.02) \n",
      "space          0.17***         \n",
      "               (0.00)          \n",
      "R-squared      0.77     0.04   \n",
      "R-squared Adj. 0.77     0.04   \n",
      "N              724      724    \n",
      "===============================\n",
      "Standard errors in parentheses.\n",
      "* p<.1, ** p<.05, ***p<.01\n"
     ]
    }
   ],
   "source": [
    "results_table = summary_col(\n",
    "    results = [\n",
    "        res_2,\n",
    "        res_3\n",
    "    ],\n",
    "    model_names = [\n",
    "        'Eq(2)',\n",
    "        'q(3)'\n",
    "    ],\n",
    "    stars = True,\n",
    "    float_format = '%0.2f',\n",
    "    info_dict = {\n",
    "        'N':lambda x: \"{0:d}\".format(int(x.nobs))\n",
    "    }\n",
    ")\n",
    "\n",
    "print(results_table)"
   ]
  },
  {
   "cell_type": "code",
   "execution_count": 67,
   "metadata": {},
   "outputs": [
    {
     "name": "stdout",
     "output_type": "stream",
     "text": [
      "0.37\n"
     ]
    }
   ],
   "source": [
    "correlation_matrix = np.corrcoef(\n",
    "    df['distance'],\n",
    "    df['space']\n",
    ")\n",
    "correlation_coefficient = np.round(correlation_matrix[0, 1], 2)\n",
    "print(correlation_coefficient)\n"
   ]
  },
  {
   "cell_type": "markdown",
   "metadata": {},
   "source": [
    "# 5.6.2節の推定結果"
   ]
  },
  {
   "cell_type": "code",
   "execution_count": 68,
   "metadata": {},
   "outputs": [],
   "source": [
    "endog = df['rent']\n",
    "exog = df['space']\n",
    "exog = sm.add_constant(exog)\n",
    "\n",
    "mod_4 = sm.OLS(\n",
    "    endog,\n",
    "    exog\n",
    ")\n",
    "res_4 = mod_4.fit()\n",
    "# print(res_4.summary())"
   ]
  },
  {
   "cell_type": "code",
   "execution_count": 69,
   "metadata": {},
   "outputs": [],
   "source": [
    "endog = df['rent']\n",
    "exog = df[['space', 'distance']]\n",
    "exog = sm.add_constant(exog)\n",
    "\n",
    "mod_5 = sm.OLS(\n",
    "    endog,\n",
    "    exog\n",
    ")\n",
    "res_5 = mod_5.fit()\n",
    "# print(res_5.summary())"
   ]
  },
  {
   "cell_type": "code",
   "execution_count": 70,
   "metadata": {},
   "outputs": [],
   "source": [
    "endog = df['rent']\n",
    "exog = df[['space', 'distance', 'age', 'floor']]\n",
    "exog = sm.add_constant(exog)\n",
    "\n",
    "mod_6 = sm.OLS(\n",
    "    endog,\n",
    "    exog\n",
    ")\n",
    "res_6 = mod_6.fit()\n",
    "# print(res_6.summary())"
   ]
  },
  {
   "cell_type": "code",
   "execution_count": 71,
   "metadata": {},
   "outputs": [
    {
     "name": "stdout",
     "output_type": "stream",
     "text": [
      "\n",
      "========================================\n",
      "                Eq(4)   Eq(5)    Eq(6)  \n",
      "----------------------------------------\n",
      "const          2.69*** 3.15***  4.74*** \n",
      "               (0.10)  (0.11)   (0.12)  \n",
      "space          0.16*** 0.17***  0.17*** \n",
      "               (0.00)  (0.00)   (0.00)  \n",
      "distance               -0.07*** -0.08***\n",
      "                       (0.01)   (0.01)  \n",
      "age                             -0.07***\n",
      "                                (0.00)  \n",
      "floor                           0.22*** \n",
      "                                (0.03)  \n",
      "R-squared      0.76    0.77     0.88    \n",
      "R-squared Adj. 0.76    0.77     0.88    \n",
      "N              724     724      724     \n",
      "========================================\n",
      "Standard errors in parentheses.\n",
      "* p<.1, ** p<.05, ***p<.01\n"
     ]
    }
   ],
   "source": [
    "results_table = summary_col(\n",
    "    results = [\n",
    "        res_4,\n",
    "        res_5,\n",
    "        res_6\n",
    "    ],\n",
    "    model_names = [\n",
    "        'Eq(4)',\n",
    "        'Eq(5)',\n",
    "        'Eq(6)'\n",
    "    ],\n",
    "    stars = True,\n",
    "    float_format = '%0.2f',\n",
    "    info_dict = {\n",
    "        'N':lambda x: \"{0:d}\".format(int(x.nobs))\n",
    "    }\n",
    ")\n",
    "\n",
    "print(results_table)"
   ]
  },
  {
   "cell_type": "markdown",
   "metadata": {},
   "source": [
    "# 6.6節の推定結果\n",
    "測定単位を変更する"
   ]
  },
  {
   "cell_type": "code",
   "execution_count": 72,
   "metadata": {},
   "outputs": [],
   "source": [
    "df['rent_10000'] = df['rent'] * 10000 # rentの単位を変更"
   ]
  },
  {
   "cell_type": "code",
   "execution_count": 73,
   "metadata": {},
   "outputs": [],
   "source": [
    "endog = df['rent']\n",
    "exog = df['space']\n",
    "exog = sm.add_constant(exog)\n",
    "\n",
    "mod_7 = sm.OLS(\n",
    "    endog,\n",
    "    exog\n",
    ")\n",
    "res_7 = mod_7.fit()\n",
    "# print(res_7.summary())"
   ]
  },
  {
   "cell_type": "code",
   "execution_count": 74,
   "metadata": {},
   "outputs": [],
   "source": [
    "endog = df['rent_10000']\n",
    "exog = df['space']\n",
    "exog = sm.add_constant(exog)\n",
    "\n",
    "mod_8 = sm.OLS(\n",
    "    endog,\n",
    "    exog\n",
    ")\n",
    "res_8 = mod_8.fit()\n",
    "# print(res_8.summary())"
   ]
  },
  {
   "cell_type": "code",
   "execution_count": 75,
   "metadata": {},
   "outputs": [
    {
     "name": "stdout",
     "output_type": "stream",
     "text": [
      "\n",
      "==================================\n",
      "                Eq(7)     Eq(8)   \n",
      "----------------------------------\n",
      "const          2.69*** 26878.34***\n",
      "               (0.10)  (1006.01)  \n",
      "space          0.16*** 1602.68*** \n",
      "               (0.00)  (33.83)    \n",
      "R-squared      0.76    0.76       \n",
      "R-squared Adj. 0.76    0.76       \n",
      "N              724     724        \n",
      "==================================\n",
      "Standard errors in parentheses.\n",
      "* p<.1, ** p<.05, ***p<.01\n"
     ]
    }
   ],
   "source": [
    "results_table = summary_col(\n",
    "    results = [\n",
    "        res_7,\n",
    "        res_8\n",
    "    ],\n",
    "    model_names = [\n",
    "        'Eq(7)',\n",
    "        'Eq(8)'\n",
    "    ],\n",
    "    stars = True,\n",
    "    float_format = '%0.2f',\n",
    "    info_dict = {\n",
    "        'N':lambda x: \"{0:d}\".format(int(x.nobs))\n",
    "    }\n",
    ")\n",
    "\n",
    "print(results_table)"
   ]
  },
  {
   "cell_type": "markdown",
   "metadata": {},
   "source": [
    "# 9.3節の推定結果"
   ]
  },
  {
   "cell_type": "code",
   "execution_count": 76,
   "metadata": {},
   "outputs": [],
   "source": [
    "endog = df['rent']\n",
    "exog = df['space']\n",
    "exog = sm.add_constant(exog)\n",
    "\n",
    "mod_9 = sm.OLS(\n",
    "    endog,\n",
    "    exog\n",
    ")\n",
    "res_9 = mod_9.fit()\n",
    "# print(res_9.summary())"
   ]
  },
  {
   "cell_type": "code",
   "execution_count": 77,
   "metadata": {},
   "outputs": [],
   "source": [
    "endog = df['rent']\n",
    "exog = df['space']\n",
    "exog = sm.add_constant(exog)\n",
    "\n",
    "mod_10 = sm.OLS(\n",
    "    endog,\n",
    "    exog\n",
    ")\n",
    "res_10 = mod_10.fit()\n",
    "# print(res_10.summary())"
   ]
  },
  {
   "cell_type": "code",
   "execution_count": 78,
   "metadata": {},
   "outputs": [
    {
     "name": "stdout",
     "output_type": "stream",
     "text": [
      "\n",
      "==============================\n",
      "                Eq(9)   Eq(10)\n",
      "------------------------------\n",
      "const          2.69*** 2.69***\n",
      "               (0.10)  (0.10) \n",
      "space          0.16*** 0.16***\n",
      "               (0.00)  (0.00) \n",
      "R-squared      0.76    0.76   \n",
      "R-squared Adj. 0.76    0.76   \n",
      "N              724     724    \n",
      "==============================\n",
      "Standard errors in\n",
      "parentheses.\n",
      "* p<.1, ** p<.05, ***p<.01\n"
     ]
    }
   ],
   "source": [
    "results_table = summary_col(\n",
    "    results = [\n",
    "        res_9,\n",
    "        res_10\n",
    "    ],\n",
    "    model_names = [\n",
    "        'Eq(9)',\n",
    "        'Eq(10)'\n",
    "    ],\n",
    "    stars = True,\n",
    "    float_format = '%0.2f',\n",
    "    info_dict = {\n",
    "        'N':lambda x: \"{0:d}\".format(int(x.nobs))\n",
    "    }\n",
    ")\n",
    "\n",
    "print(results_table)"
   ]
  }
 ],
 "metadata": {
  "kernelspec": {
   "display_name": "Python 3",
   "language": "python",
   "name": "python3"
  },
  "language_info": {
   "codemirror_mode": {
    "name": "ipython",
    "version": 3
   },
   "file_extension": ".py",
   "mimetype": "text/x-python",
   "name": "python",
   "nbconvert_exporter": "python",
   "pygments_lexer": "ipython3",
   "version": "3.12.3"
  }
 },
 "nbformat": 4,
 "nbformat_minor": 2
}
