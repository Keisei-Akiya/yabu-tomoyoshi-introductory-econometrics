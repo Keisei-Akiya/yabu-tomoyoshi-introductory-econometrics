{
 "cells": [
  {
   "cell_type": "code",
   "execution_count": 1,
   "metadata": {},
   "outputs": [],
   "source": [
    "# ライブラリをインポート\n",
    "\n",
    "# データ操作と数値計算のため\n",
    "import pandas as pd\n",
    "import numpy as np\n",
    "\n",
    "# データ可視化のため\n",
    "import matplotlib.pyplot as plt\n",
    "import seaborn as sns\n",
    "\n",
    "# 統計モデリングと計量経済分析のため\n",
    "import statsmodels.api as sm\n",
    "from statsmodels.iolib.summary2 import summary_col\n",
    "\n",
    "# for ignore warning\n",
    "import warnings\n",
    "warnings.filterwarnings('ignore')"
   ]
  },
  {
   "cell_type": "code",
   "execution_count": 2,
   "metadata": {},
   "outputs": [
    {
     "data": {
      "text/html": [
       "<div>\n",
       "<style scoped>\n",
       "    .dataframe tbody tr th:only-of-type {\n",
       "        vertical-align: middle;\n",
       "    }\n",
       "\n",
       "    .dataframe tbody tr th {\n",
       "        vertical-align: top;\n",
       "    }\n",
       "\n",
       "    .dataframe thead th {\n",
       "        text-align: right;\n",
       "    }\n",
       "</style>\n",
       "<table border=\"1\" class=\"dataframe\">\n",
       "  <thead>\n",
       "    <tr style=\"text-align: right;\">\n",
       "      <th></th>\n",
       "      <th>student</th>\n",
       "      <th>father</th>\n",
       "      <th>mother</th>\n",
       "      <th>female</th>\n",
       "      <th>parent</th>\n",
       "      <th>height</th>\n",
       "    </tr>\n",
       "  </thead>\n",
       "  <tbody>\n",
       "    <tr>\n",
       "      <th>0</th>\n",
       "      <td>169.0</td>\n",
       "      <td>175.0</td>\n",
       "      <td>155.0</td>\n",
       "      <td>0</td>\n",
       "      <td>171.20</td>\n",
       "      <td>169.0</td>\n",
       "    </tr>\n",
       "    <tr>\n",
       "      <th>1</th>\n",
       "      <td>184.0</td>\n",
       "      <td>172.0</td>\n",
       "      <td>168.0</td>\n",
       "      <td>0</td>\n",
       "      <td>176.72</td>\n",
       "      <td>184.0</td>\n",
       "    </tr>\n",
       "    <tr>\n",
       "      <th>2</th>\n",
       "      <td>163.0</td>\n",
       "      <td>169.0</td>\n",
       "      <td>152.0</td>\n",
       "      <td>0</td>\n",
       "      <td>166.58</td>\n",
       "      <td>163.0</td>\n",
       "    </tr>\n",
       "    <tr>\n",
       "      <th>3</th>\n",
       "      <td>160.0</td>\n",
       "      <td>165.0</td>\n",
       "      <td>148.0</td>\n",
       "      <td>0</td>\n",
       "      <td>162.42</td>\n",
       "      <td>160.0</td>\n",
       "    </tr>\n",
       "    <tr>\n",
       "      <th>4</th>\n",
       "      <td>175.0</td>\n",
       "      <td>173.0</td>\n",
       "      <td>165.0</td>\n",
       "      <td>0</td>\n",
       "      <td>175.60</td>\n",
       "      <td>175.0</td>\n",
       "    </tr>\n",
       "  </tbody>\n",
       "</table>\n",
       "</div>"
      ],
      "text/plain": [
       "   student  father  mother  female  parent  height\n",
       "0    169.0   175.0   155.0       0  171.20   169.0\n",
       "1    184.0   172.0   168.0       0  176.72   184.0\n",
       "2    163.0   169.0   152.0       0  166.58   163.0\n",
       "3    160.0   165.0   148.0       0  162.42   160.0\n",
       "4    175.0   173.0   165.0       0  175.60   175.0"
      ]
     },
     "execution_count": 2,
     "metadata": {},
     "output_type": "execute_result"
    }
   ],
   "source": [
    "url = \"https://www.fbc.keio.ac.jp/~tyabu/keiryo/height_data.csv\"\n",
    "df = pd.read_csv(url)\n",
    "df['parent'] = (df['father'] + 1.08 * df['mother']) / 2 # 両親の平均(母親の身長は1.08倍し，男性に換算している)\n",
    "df['height'] = 1.08 * df['student'] * df['female'] + df['student'] * (1 - df['female']) # 女性なら1.08倍し，女性でなければそのまま．\n",
    "df.head()"
   ]
  },
  {
   "cell_type": "code",
   "execution_count": 18,
   "metadata": {},
   "outputs": [
    {
     "name": "stdout",
     "output_type": "stream",
     "text": [
      "<class 'pandas.core.frame.DataFrame'>\n",
      "RangeIndex: 164 entries, 0 to 163\n",
      "Data columns (total 6 columns):\n",
      " #   Column   Non-Null Count  Dtype  \n",
      "---  ------   --------------  -----  \n",
      " 0   student  164 non-null    float64\n",
      " 1   father   164 non-null    float64\n",
      " 2   mother   164 non-null    float64\n",
      " 3   female   164 non-null    int64  \n",
      " 4   parent   164 non-null    float64\n",
      " 5   height   164 non-null    float64\n",
      "dtypes: float64(5), int64(1)\n",
      "memory usage: 7.8 KB\n"
     ]
    }
   ],
   "source": [
    "df.info() # データフレームの基本情報を確認"
   ]
  },
  {
   "cell_type": "code",
   "execution_count": 17,
   "metadata": {},
   "outputs": [
    {
     "data": {
      "text/html": [
       "<div>\n",
       "<style scoped>\n",
       "    .dataframe tbody tr th:only-of-type {\n",
       "        vertical-align: middle;\n",
       "    }\n",
       "\n",
       "    .dataframe tbody tr th {\n",
       "        vertical-align: top;\n",
       "    }\n",
       "\n",
       "    .dataframe thead th {\n",
       "        text-align: right;\n",
       "    }\n",
       "</style>\n",
       "<table border=\"1\" class=\"dataframe\">\n",
       "  <thead>\n",
       "    <tr style=\"text-align: right;\">\n",
       "      <th></th>\n",
       "      <th>student</th>\n",
       "      <th>father</th>\n",
       "      <th>mother</th>\n",
       "      <th>female</th>\n",
       "      <th>parent</th>\n",
       "      <th>height</th>\n",
       "    </tr>\n",
       "  </thead>\n",
       "  <tbody>\n",
       "    <tr>\n",
       "      <th>count</th>\n",
       "      <td>164.000000</td>\n",
       "      <td>164.000000</td>\n",
       "      <td>164.000000</td>\n",
       "      <td>164.000000</td>\n",
       "      <td>164.000000</td>\n",
       "      <td>164.000000</td>\n",
       "    </tr>\n",
       "    <tr>\n",
       "      <th>mean</th>\n",
       "      <td>168.171951</td>\n",
       "      <td>172.109756</td>\n",
       "      <td>159.329268</td>\n",
       "      <td>0.310976</td>\n",
       "      <td>172.092683</td>\n",
       "      <td>172.141854</td>\n",
       "    </tr>\n",
       "    <tr>\n",
       "      <th>std</th>\n",
       "      <td>7.538535</td>\n",
       "      <td>5.938480</td>\n",
       "      <td>5.257831</td>\n",
       "      <td>0.464311</td>\n",
       "      <td>4.048979</td>\n",
       "      <td>4.929235</td>\n",
       "    </tr>\n",
       "    <tr>\n",
       "      <th>min</th>\n",
       "      <td>150.000000</td>\n",
       "      <td>160.000000</td>\n",
       "      <td>148.000000</td>\n",
       "      <td>0.000000</td>\n",
       "      <td>162.420000</td>\n",
       "      <td>160.000000</td>\n",
       "    </tr>\n",
       "    <tr>\n",
       "      <th>25%</th>\n",
       "      <td>162.075000</td>\n",
       "      <td>168.000000</td>\n",
       "      <td>156.000000</td>\n",
       "      <td>0.000000</td>\n",
       "      <td>169.450000</td>\n",
       "      <td>169.000000</td>\n",
       "    </tr>\n",
       "    <tr>\n",
       "      <th>50%</th>\n",
       "      <td>169.000000</td>\n",
       "      <td>172.000000</td>\n",
       "      <td>159.000000</td>\n",
       "      <td>0.000000</td>\n",
       "      <td>171.400000</td>\n",
       "      <td>172.800000</td>\n",
       "    </tr>\n",
       "    <tr>\n",
       "      <th>75%</th>\n",
       "      <td>174.000000</td>\n",
       "      <td>175.000000</td>\n",
       "      <td>163.000000</td>\n",
       "      <td>1.000000</td>\n",
       "      <td>174.980000</td>\n",
       "      <td>175.775000</td>\n",
       "    </tr>\n",
       "    <tr>\n",
       "      <th>max</th>\n",
       "      <td>186.500000</td>\n",
       "      <td>188.000000</td>\n",
       "      <td>175.000000</td>\n",
       "      <td>1.000000</td>\n",
       "      <td>185.920000</td>\n",
       "      <td>186.500000</td>\n",
       "    </tr>\n",
       "  </tbody>\n",
       "</table>\n",
       "</div>"
      ],
      "text/plain": [
       "          student      father      mother      female      parent      height\n",
       "count  164.000000  164.000000  164.000000  164.000000  164.000000  164.000000\n",
       "mean   168.171951  172.109756  159.329268    0.310976  172.092683  172.141854\n",
       "std      7.538535    5.938480    5.257831    0.464311    4.048979    4.929235\n",
       "min    150.000000  160.000000  148.000000    0.000000  162.420000  160.000000\n",
       "25%    162.075000  168.000000  156.000000    0.000000  169.450000  169.000000\n",
       "50%    169.000000  172.000000  159.000000    0.000000  171.400000  172.800000\n",
       "75%    174.000000  175.000000  163.000000    1.000000  174.980000  175.775000\n",
       "max    186.500000  188.000000  175.000000    1.000000  185.920000  186.500000"
      ]
     },
     "execution_count": 17,
     "metadata": {},
     "output_type": "execute_result"
    }
   ],
   "source": [
    "df.describe() # 基本統計量"
   ]
  },
  {
   "cell_type": "markdown",
   "metadata": {},
   "source": [
    "# 2.6節と4.2.2節の推定結果"
   ]
  },
  {
   "cell_type": "code",
   "execution_count": 92,
   "metadata": {},
   "outputs": [
    {
     "name": "stdout",
     "output_type": "stream",
     "text": [
      "                            OLS Regression Results                            \n",
      "==============================================================================\n",
      "Dep. Variable:                 height   R-squared:                       0.295\n",
      "Model:                            OLS   Adj. R-squared:                  0.290\n",
      "Method:                 Least Squares   F-statistic:                     67.69\n",
      "Date:                Sun, 14 Jul 2024   Prob (F-statistic):           5.94e-14\n",
      "Time:                        15:23:09   Log-Likelihood:                -465.19\n",
      "No. Observations:                 164   AIC:                             934.4\n",
      "Df Residuals:                     162   BIC:                             940.6\n",
      "Df Model:                           1                                         \n",
      "Covariance Type:            nonrobust                                         \n",
      "==============================================================================\n",
      "                 coef    std err          t      P>|t|      [0.025      0.975]\n",
      "------------------------------------------------------------------------------\n",
      "const         58.4088     13.828      4.224      0.000      31.103      85.714\n",
      "parent         0.6609      0.080      8.227      0.000       0.502       0.820\n",
      "==============================================================================\n",
      "Omnibus:                        0.020   Durbin-Watson:                   1.970\n",
      "Prob(Omnibus):                  0.990   Jarque-Bera (JB):                0.085\n",
      "Skew:                           0.025   Prob(JB):                        0.959\n",
      "Kurtosis:                       2.901   Cond. No.                     7.34e+03\n",
      "==============================================================================\n",
      "\n",
      "Notes:\n",
      "[1] Standard Errors assume that the covariance matrix of the errors is correctly specified.\n",
      "[2] The condition number is large, 7.34e+03. This might indicate that there are\n",
      "strong multicollinearity or other numerical problems.\n"
     ]
    },
    {
     "name": "stderr",
     "output_type": "stream",
     "text": [
      "c:\\Users\\keise\\AppData\\Local\\Programs\\Python\\Python312\\Lib\\site-packages\\statsmodels\\base\\model.py:130: ValueWarning: unknown kwargs ['data']\n",
      "  warnings.warn(msg, ValueWarning)\n"
     ]
    }
   ],
   "source": [
    "endog = df['height']         # 被説明変数\n",
    "exog = df['parent']          # 説明変数\n",
    "exog = sm.add_constant(exog) # 定数項を追加\n",
    "\n",
    "model_1 = sm.OLS(\n",
    "    endog = endog,\n",
    "    exog = exog,\n",
    "    data = df\n",
    ")\n",
    "results_1 = model_1.fit()\n",
    "print(results_1.summary())"
   ]
  },
  {
   "cell_type": "markdown",
   "metadata": {},
   "source": [
    "予測値"
   ]
  },
  {
   "cell_type": "code",
   "execution_count": 93,
   "metadata": {},
   "outputs": [],
   "source": [
    "# 両親の平均身長から子の身長を予測する関数\n",
    "def get_child_height(parent_height):\n",
    "\n",
    "    # 予測したい説明変数の値を含む新しいデータフレームを作成\n",
    "    X_new = pd.DataFrame({\n",
    "        'const': [1],             # 定数項\n",
    "        'parent': [parent_height] # 両親の平均身長\n",
    "    })\n",
    "\n",
    "    # 予測を実行\n",
    "    child_height = results_1.predict(X_new)\n",
    "\n",
    "    # 予測値を表示\n",
    "    print(f'両親の平均身長が{parent_height}cmのときの子の身長: {child_height[0]:.1f}cm')\n",
    "\n",
    "    return"
   ]
  },
  {
   "cell_type": "code",
   "execution_count": 94,
   "metadata": {},
   "outputs": [
    {
     "name": "stdout",
     "output_type": "stream",
     "text": [
      "両親の平均身長が190cmのときの子の身長: 184.0cm\n"
     ]
    }
   ],
   "source": [
    "parent_height = 190\n",
    "get_child_height(parent_height)"
   ]
  },
  {
   "cell_type": "code",
   "execution_count": 95,
   "metadata": {},
   "outputs": [
    {
     "name": "stdout",
     "output_type": "stream",
     "text": [
      "両親の平均身長が150cmのときの子の身長: 157.5cm\n"
     ]
    }
   ],
   "source": [
    "parent_height = 150\n",
    "get_child_height(parent_height)"
   ]
  },
  {
   "cell_type": "code",
   "execution_count": 96,
   "metadata": {},
   "outputs": [
    {
     "name": "stdout",
     "output_type": "stream",
     "text": [
      "両親の平均身長が175.32cmのときの子の身長: 174.3cm\n"
     ]
    }
   ],
   "source": [
    "parent_height = (180 + 1.08 * 158) / 2\n",
    "get_child_height(parent_height)"
   ]
  },
  {
   "cell_type": "markdown",
   "metadata": {},
   "source": [
    "散布図と回帰直線を書く"
   ]
  },
  {
   "cell_type": "code",
   "execution_count": 97,
   "metadata": {},
   "outputs": [
    {
     "data": {
      "image/png": "[encoded data removed]",
      "text/plain": [
       "<Figure size 500x500 with 1 Axes>"
      ]
     },
     "metadata": {},
     "output_type": "display_data"
    }
   ],
   "source": [
    "plt.figure(figsize = (5, 5))\n",
    "sns.regplot(\n",
    "    x = df['parent'],\n",
    "    y = df['height'],\n",
    "    data = df\n",
    ")\n",
    "plt.show()"
   ]
  },
  {
   "cell_type": "markdown",
   "metadata": {},
   "source": [
    "# 5.3.2の推定結果"
   ]
  },
  {
   "cell_type": "code",
   "execution_count": 100,
   "metadata": {},
   "outputs": [
    {
     "name": "stdout",
     "output_type": "stream",
     "text": [
      "                            OLS Regression Results                            \n",
      "==============================================================================\n",
      "Dep. Variable:                 height   R-squared:                       0.295\n",
      "Model:                            OLS   Adj. R-squared:                  0.286\n",
      "Method:                 Least Squares   F-statistic:                     33.64\n",
      "Date:                Sun, 14 Jul 2024   Prob (F-statistic):           6.22e-13\n",
      "Time:                        15:24:05   Log-Likelihood:                -465.19\n",
      "No. Observations:                 164   AIC:                             936.4\n",
      "Df Residuals:                     161   BIC:                             945.7\n",
      "Df Model:                           2                                         \n",
      "Covariance Type:            nonrobust                                         \n",
      "==============================================================================\n",
      "                 coef    std err          t      P>|t|      [0.025      0.975]\n",
      "------------------------------------------------------------------------------\n",
      "const         58.4181     13.884      4.208      0.000      30.999      85.837\n",
      "father         0.3310      0.055      6.022      0.000       0.222       0.440\n",
      "mother2        0.3298      0.057      5.738      0.000       0.216       0.443\n",
      "==============================================================================\n",
      "Omnibus:                        0.020   Durbin-Watson:                   1.970\n",
      "Prob(Omnibus):                  0.990   Jarque-Bera (JB):                0.086\n",
      "Skew:                           0.025   Prob(JB):                        0.958\n",
      "Kurtosis:                       2.900   Cond. No.                     1.04e+04\n",
      "==============================================================================\n",
      "\n",
      "Notes:\n",
      "[1] Standard Errors assume that the covariance matrix of the errors is correctly specified.\n",
      "[2] The condition number is large, 1.04e+04. This might indicate that there are\n",
      "strong multicollinearity or other numerical problems.\n"
     ]
    }
   ],
   "source": [
    "df['mother2'] = 1.08 * df['mother'] # 母親の身長を男性換算\n",
    "\n",
    "endog = df['height']             # 被説明変数\n",
    "exog = df[['father', 'mother2']] # 説明変数\n",
    "exog = sm.add_constant(exog)     # 定数項\n",
    "\n",
    "model_2 = sm.OLS(\n",
    "    endog = endog,\n",
    "    exog = exog\n",
    ")\n",
    "results_2 = model_2.fit()\n",
    "print(results_2.summary())"
   ]
  },
  {
   "cell_type": "code",
   "execution_count": 101,
   "metadata": {},
   "outputs": [
    {
     "name": "stdout",
     "output_type": "stream",
     "text": [
      "                            OLS Regression Results                            \n",
      "==============================================================================\n",
      "Dep. Variable:                 height   R-squared:                       0.150\n",
      "Model:                            OLS   Adj. R-squared:                  0.145\n",
      "Method:                 Least Squares   F-statistic:                     28.69\n",
      "Date:                Sun, 14 Jul 2024   Prob (F-statistic):           2.87e-07\n",
      "Time:                        15:24:06   Log-Likelihood:                -480.44\n",
      "No. Observations:                 164   AIC:                             964.9\n",
      "Df Residuals:                     162   BIC:                             971.1\n",
      "Df Model:                           1                                         \n",
      "Covariance Type:            nonrobust                                         \n",
      "==============================================================================\n",
      "                 coef    std err          t      P>|t|      [0.025      0.975]\n",
      "------------------------------------------------------------------------------\n",
      "const        116.7299     10.352     11.277      0.000      96.289     137.171\n",
      "father         0.3220      0.060      5.356      0.000       0.203       0.441\n",
      "==============================================================================\n",
      "Omnibus:                        0.683   Durbin-Watson:                   1.870\n",
      "Prob(Omnibus):                  0.711   Jarque-Bera (JB):                0.778\n",
      "Skew:                          -0.043   Prob(JB):                        0.678\n",
      "Kurtosis:                       2.674   Cond. No.                     5.01e+03\n",
      "==============================================================================\n",
      "\n",
      "Notes:\n",
      "[1] Standard Errors assume that the covariance matrix of the errors is correctly specified.\n",
      "[2] The condition number is large, 5.01e+03. This might indicate that there are\n",
      "strong multicollinearity or other numerical problems.\n"
     ]
    }
   ],
   "source": [
    "endog = df['height']\n",
    "exog = df['father']\n",
    "exog = sm.add_constant(exog)\n",
    "\n",
    "model_3 = sm.OLS(\n",
    "    endog = endog,\n",
    "    exog = exog\n",
    ")\n",
    "results_3 = model_3.fit()\n",
    "print(results_3.summary())"
   ]
  },
  {
   "cell_type": "code",
   "execution_count": 104,
   "metadata": {},
   "outputs": [
    {
     "name": "stdout",
     "output_type": "stream",
     "text": [
      "\n",
      "=================================\n",
      "               multiple   simple \n",
      "---------------------------------\n",
      "const          58.42*** 116.73***\n",
      "               (13.88)  (10.35)  \n",
      "father         0.33***  0.32***  \n",
      "               (0.05)   (0.06)   \n",
      "mother2        0.33***           \n",
      "               (0.06)            \n",
      "R-squared      0.29     0.15     \n",
      "R-squared Adj. 0.29     0.15     \n",
      "N              164      164      \n",
      "=================================\n",
      "Standard errors in parentheses.\n",
      "* p<.1, ** p<.05, ***p<.01\n"
     ]
    }
   ],
   "source": [
    "# 推定結果を1つの表にまとめる．\n",
    "results_table = summary_col(\n",
    "    results = [\n",
    "        results_2,\n",
    "        results_3\n",
    "    ],\n",
    "    model_names = [\n",
    "        'multiple',\n",
    "        'simple'\n",
    "    ],\n",
    "    stars = True,\n",
    "    float_format = '%0.2f',\n",
    "    info_dict = {\n",
    "        'N':lambda x: \"{0:d}\".format(int(x.nobs))\n",
    "    }\n",
    ")\n",
    "\n",
    "print(results_table)"
   ]
  },
  {
   "cell_type": "markdown",
   "metadata": {},
   "source": [
    "# 父親と母親の身長の散布図と標本相関係数"
   ]
  },
  {
   "cell_type": "markdown",
   "metadata": {},
   "source": [
    "散布図"
   ]
  },
  {
   "cell_type": "code",
   "execution_count": 114,
   "metadata": {},
   "outputs": [
    {
     "data": {
      "image/png": "[encoded data removed]",
      "text/plain": [
       "<Figure size 1200x600 with 1 Axes>"
      ]
     },
     "metadata": {},
     "output_type": "display_data"
    }
   ],
   "source": [
    "plt.figure(figsize = (12, 6))\n",
    "plt.scatter(\n",
    "    x = df['father'],\n",
    "    y = df['mother']\n",
    ")\n",
    "plt.xlabel('father')\n",
    "plt.ylabel('mother')\n",
    "plt.show()"
   ]
  },
  {
   "cell_type": "markdown",
   "metadata": {},
   "source": [
    "標本相関係数"
   ]
  },
  {
   "cell_type": "code",
   "execution_count": 120,
   "metadata": {},
   "outputs": [
    {
     "name": "stdout",
     "output_type": "stream",
     "text": [
      "標本相関係数: -0.029\n"
     ]
    }
   ],
   "source": [
    "correlation_matrix = np.corrcoef(\n",
    "    df['mother'],\n",
    "    df['father']\n",
    ")\n",
    "\n",
    "correlation_coefficient = correlation_matrix[0, 1]\n",
    "\n",
    "print(f\"標本相関係数: {correlation_coefficient:.3f}\")"
   ]
  }
 ],
 "metadata": {
  "kernelspec": {
   "display_name": "Python 3",
   "language": "python",
   "name": "python3"
  },
  "language_info": {
   "codemirror_mode": {
    "name": "ipython",
    "version": 3
   },
   "file_extension": ".py",
   "mimetype": "text/x-python",
   "name": "python",
   "nbconvert_exporter": "python",
   "pygments_lexer": "ipython3",
   "version": "3.12.3"
  }
 },
 "nbformat": 4,
 "nbformat_minor": 2
}
